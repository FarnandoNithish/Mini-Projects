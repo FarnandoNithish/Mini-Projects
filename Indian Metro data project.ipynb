{
 "cells": [
  {
   "cell_type": "markdown",
   "metadata": {},
   "source": [
    "**Prediction of Traffic Volume for Metro Trains Using Regression Techniques**"
   ]
  },
  {
   "cell_type": "code",
   "execution_count": 1,
   "metadata": {
    "_cell_guid": "b1076dfc-b9ad-4769-8c92-a6c4dae69d19",
    "_uuid": "8f2839f25d086af736a60e9eeb907d3b93b6e0e5",
    "execution": {
     "iopub.execute_input": "2021-05-20T08:14:26.075086Z",
     "iopub.status.busy": "2021-05-20T08:14:26.074880Z",
     "iopub.status.idle": "2021-05-20T08:14:26.697521Z",
     "shell.execute_reply": "2021-05-20T08:14:26.696605Z",
     "shell.execute_reply.started": "2021-05-20T08:14:26.075057Z"
    }
   },
   "outputs": [],
   "source": [
    "\n",
    "import numpy as np \n",
    "import pandas as pd"
   ]
  },
  {
   "cell_type": "code",
   "execution_count": 2,
   "metadata": {
    "_cell_guid": "79c7e3d0-c299-4dcb-8224-4455121ee9b0",
    "_uuid": "d629ff2d2480ee46fbb7e2d37f6b5fab8052498a",
    "execution": {
     "iopub.execute_input": "2021-05-20T08:14:26.699001Z",
     "iopub.status.busy": "2021-05-20T08:14:26.698813Z",
     "iopub.status.idle": "2021-05-20T08:14:26.702559Z",
     "shell.execute_reply": "2021-05-20T08:14:26.701723Z",
     "shell.execute_reply.started": "2021-05-20T08:14:26.698964Z"
    }
   },
   "outputs": [],
   "source": [
    "import pandas as pd"
   ]
  },
  {
   "cell_type": "code",
   "execution_count": 5,
   "metadata": {
    "execution": {
     "iopub.execute_input": "2021-05-20T08:14:26.703739Z",
     "iopub.status.busy": "2021-05-20T08:14:26.703545Z",
     "iopub.status.idle": "2021-05-20T08:14:26.851120Z",
     "shell.execute_reply": "2021-05-20T08:14:26.850090Z",
     "shell.execute_reply.started": "2021-05-20T08:14:26.703703Z"
    }
   },
   "outputs": [],
   "source": [
    "data = pd.read_csv(\"C://Users//FARNANDO//OneDrive//Desktop//pga project//Mini projects//Indian Metro//Train.csv\")"
   ]
  },
  {
   "cell_type": "code",
   "execution_count": 6,
   "metadata": {
    "execution": {
     "iopub.execute_input": "2021-05-20T08:14:26.852546Z",
     "iopub.status.busy": "2021-05-20T08:14:26.852322Z",
     "iopub.status.idle": "2021-05-20T08:14:26.861349Z",
     "shell.execute_reply": "2021-05-20T08:14:26.860371Z",
     "shell.execute_reply.started": "2021-05-20T08:14:26.852502Z"
    }
   },
   "outputs": [
    {
     "data": {
      "text/plain": [
       "Index(['date_time', 'is_holiday', 'air_pollution_index', 'humidity',\n",
       "       'wind_speed', 'wind_direction', 'visibility_in_miles', 'dew_point',\n",
       "       'temperature', 'rain_p_h', 'snow_p_h', 'clouds_all', 'weather_type',\n",
       "       'weather_description', 'traffic_volume'],\n",
       "      dtype='object')"
      ]
     },
     "execution_count": 6,
     "metadata": {},
     "output_type": "execute_result"
    }
   ],
   "source": [
    "data.columns"
   ]
  },
  {
   "cell_type": "code",
   "execution_count": 7,
   "metadata": {
    "execution": {
     "iopub.execute_input": "2021-05-20T08:14:26.863818Z",
     "iopub.status.busy": "2021-05-20T08:14:26.863544Z",
     "iopub.status.idle": "2021-05-20T08:14:26.882624Z",
     "shell.execute_reply": "2021-05-20T08:14:26.881617Z",
     "shell.execute_reply.started": "2021-05-20T08:14:26.863779Z"
    }
   },
   "outputs": [
    {
     "data": {
      "text/plain": [
       "date_time               object\n",
       "is_holiday              object\n",
       "air_pollution_index      int64\n",
       "humidity                 int64\n",
       "wind_speed               int64\n",
       "wind_direction           int64\n",
       "visibility_in_miles      int64\n",
       "dew_point                int64\n",
       "temperature            float64\n",
       "rain_p_h               float64\n",
       "snow_p_h               float64\n",
       "clouds_all               int64\n",
       "weather_type            object\n",
       "weather_description     object\n",
       "traffic_volume           int64\n",
       "dtype: object"
      ]
     },
     "execution_count": 7,
     "metadata": {},
     "output_type": "execute_result"
    }
   ],
   "source": [
    "data.dtypes"
   ]
  },
  {
   "cell_type": "code",
   "execution_count": 8,
   "metadata": {
    "execution": {
     "iopub.execute_input": "2021-05-20T08:14:26.885419Z",
     "iopub.status.busy": "2021-05-20T08:14:26.885210Z",
     "iopub.status.idle": "2021-05-20T08:14:26.895940Z",
     "shell.execute_reply": "2021-05-20T08:14:26.894977Z",
     "shell.execute_reply.started": "2021-05-20T08:14:26.885362Z"
    }
   },
   "outputs": [
    {
     "data": {
      "text/plain": [
       "(33750, 15)"
      ]
     },
     "execution_count": 8,
     "metadata": {},
     "output_type": "execute_result"
    }
   ],
   "source": [
    "data.shape"
   ]
  },
  {
   "cell_type": "code",
   "execution_count": 9,
   "metadata": {
    "execution": {
     "iopub.execute_input": "2021-05-20T08:14:26.897373Z",
     "iopub.status.busy": "2021-05-20T08:14:26.897127Z",
     "iopub.status.idle": "2021-05-20T08:14:26.923974Z",
     "shell.execute_reply": "2021-05-20T08:14:26.922947Z",
     "shell.execute_reply.started": "2021-05-20T08:14:26.897323Z"
    }
   },
   "outputs": [
    {
     "data": {
      "text/plain": [
       "date_time              0\n",
       "is_holiday             0\n",
       "air_pollution_index    0\n",
       "humidity               0\n",
       "wind_speed             0\n",
       "wind_direction         0\n",
       "visibility_in_miles    0\n",
       "dew_point              0\n",
       "temperature            0\n",
       "rain_p_h               0\n",
       "snow_p_h               0\n",
       "clouds_all             0\n",
       "weather_type           0\n",
       "weather_description    0\n",
       "traffic_volume         0\n",
       "dtype: int64"
      ]
     },
     "execution_count": 9,
     "metadata": {},
     "output_type": "execute_result"
    }
   ],
   "source": [
    "data.isnull().sum()"
   ]
  },
  {
   "cell_type": "code",
   "execution_count": 10,
   "metadata": {
    "execution": {
     "iopub.execute_input": "2021-05-20T08:14:26.926466Z",
     "iopub.status.busy": "2021-05-20T08:14:26.926209Z",
     "iopub.status.idle": "2021-05-20T08:14:26.936761Z",
     "shell.execute_reply": "2021-05-20T08:14:26.935902Z",
     "shell.execute_reply.started": "2021-05-20T08:14:26.926418Z"
    }
   },
   "outputs": [
    {
     "data": {
      "text/plain": [
       "0        5545\n",
       "1        4516\n",
       "2        4767\n",
       "3        5026\n",
       "4        4918\n",
       "         ... \n",
       "33745    2348\n",
       "33746    2194\n",
       "33747    2194\n",
       "33748    1328\n",
       "33749    1328\n",
       "Name: traffic_volume, Length: 33750, dtype: int64"
      ]
     },
     "execution_count": 10,
     "metadata": {},
     "output_type": "execute_result"
    }
   ],
   "source": [
    "data.traffic_volume"
   ]
  },
  {
   "cell_type": "code",
   "execution_count": 11,
   "metadata": {
    "execution": {
     "iopub.execute_input": "2021-05-20T08:14:26.938001Z",
     "iopub.status.busy": "2021-05-20T08:14:26.937785Z",
     "iopub.status.idle": "2021-05-20T08:14:26.953546Z",
     "shell.execute_reply": "2021-05-20T08:14:26.952564Z",
     "shell.execute_reply.started": "2021-05-20T08:14:26.937932Z"
    }
   },
   "outputs": [
    {
     "data": {
      "text/plain": [
       "array(['Clouds', 'Clear', 'Rain', 'Drizzle', 'Mist', 'Haze', 'Fog',\n",
       "       'Thunderstorm', 'Snow', 'Squall', 'Smoke'], dtype=object)"
      ]
     },
     "execution_count": 11,
     "metadata": {},
     "output_type": "execute_result"
    }
   ],
   "source": [
    "data.weather_type.unique()"
   ]
  },
  {
   "cell_type": "code",
   "execution_count": 12,
   "metadata": {
    "execution": {
     "iopub.execute_input": "2021-05-20T08:14:26.954825Z",
     "iopub.status.busy": "2021-05-20T08:14:26.954607Z",
     "iopub.status.idle": "2021-05-20T08:14:26.966840Z",
     "shell.execute_reply": "2021-05-20T08:14:26.966261Z",
     "shell.execute_reply.started": "2021-05-20T08:14:26.954789Z"
    }
   },
   "outputs": [
    {
     "data": {
      "text/plain": [
       "array(['scattered clouds', 'broken clouds', 'overcast clouds',\n",
       "       'sky is clear', 'few clouds', 'light rain',\n",
       "       'light intensity drizzle', 'mist', 'haze', 'fog',\n",
       "       'proximity shower rain', 'drizzle', 'moderate rain',\n",
       "       'heavy intensity rain', 'proximity thunderstorm',\n",
       "       'thunderstorm with light rain', 'proximity thunderstorm with rain',\n",
       "       'heavy snow', 'heavy intensity drizzle', 'snow',\n",
       "       'thunderstorm with heavy rain', 'freezing rain', 'shower snow',\n",
       "       'light rain and snow', 'light intensity shower rain', 'SQUALLS',\n",
       "       'thunderstorm with rain', 'proximity thunderstorm with drizzle',\n",
       "       'thunderstorm', 'Sky is Clear', 'very heavy rain',\n",
       "       'thunderstorm with light drizzle', 'light snow',\n",
       "       'thunderstorm with drizzle', 'smoke', 'shower drizzle',\n",
       "       'light shower snow', 'sleet'], dtype=object)"
      ]
     },
     "execution_count": 12,
     "metadata": {},
     "output_type": "execute_result"
    }
   ],
   "source": [
    "data.weather_description.unique()"
   ]
  },
  {
   "cell_type": "code",
   "execution_count": 13,
   "metadata": {
    "execution": {
     "iopub.execute_input": "2021-05-20T08:14:26.968244Z",
     "iopub.status.busy": "2021-05-20T08:14:26.967967Z",
     "iopub.status.idle": "2021-05-20T08:14:27.975997Z",
     "shell.execute_reply": "2021-05-20T08:14:27.975380Z",
     "shell.execute_reply.started": "2021-05-20T08:14:26.968195Z"
    }
   },
   "outputs": [
    {
     "data": {
      "text/plain": [
       "array([[<AxesSubplot:title={'center':'air_pollution_index'}>,\n",
       "        <AxesSubplot:title={'center':'humidity'}>,\n",
       "        <AxesSubplot:title={'center':'wind_speed'}>],\n",
       "       [<AxesSubplot:title={'center':'wind_direction'}>,\n",
       "        <AxesSubplot:title={'center':'visibility_in_miles'}>,\n",
       "        <AxesSubplot:title={'center':'dew_point'}>],\n",
       "       [<AxesSubplot:title={'center':'temperature'}>,\n",
       "        <AxesSubplot:title={'center':'rain_p_h'}>,\n",
       "        <AxesSubplot:title={'center':'snow_p_h'}>],\n",
       "       [<AxesSubplot:title={'center':'clouds_all'}>,\n",
       "        <AxesSubplot:title={'center':'traffic_volume'}>, <AxesSubplot:>]],\n",
       "      dtype=object)"
      ]
     },
     "execution_count": 13,
     "metadata": {},
     "output_type": "execute_result"
    },
    {
     "data": {
      "image/png": "[encoded data removed]",
      "text/plain": [
       "<Figure size 432x288 with 12 Axes>"
      ]
     },
     "metadata": {
      "needs_background": "light"
     },
     "output_type": "display_data"
    }
   ],
   "source": [
    "data.hist()"
   ]
  },
  {
   "cell_type": "code",
   "execution_count": 14,
   "metadata": {
    "execution": {
     "iopub.execute_input": "2021-05-20T08:14:27.977412Z",
     "iopub.status.busy": "2021-05-20T08:14:27.977055Z",
     "iopub.status.idle": "2021-05-20T08:14:28.078116Z",
     "shell.execute_reply": "2021-05-20T08:14:28.077415Z",
     "shell.execute_reply.started": "2021-05-20T08:14:27.977363Z"
    }
   },
   "outputs": [
    {
     "data": {
      "text/plain": [
       "{'whiskers': [<matplotlib.lines.Line2D at 0x1f11726c4c0>,\n",
       "  <matplotlib.lines.Line2D at 0x1f11726c7c0>],\n",
       " 'caps': [<matplotlib.lines.Line2D at 0x1f11726cb50>,\n",
       "  <matplotlib.lines.Line2D at 0x1f11726cee0>],\n",
       " 'boxes': [<matplotlib.lines.Line2D at 0x1f11726c070>],\n",
       " 'medians': [<matplotlib.lines.Line2D at 0x1f1172782b0>],\n",
       " 'fliers': [<matplotlib.lines.Line2D at 0x1f117278640>],\n",
       " 'means': []}"
      ]
     },
     "execution_count": 14,
     "metadata": {},
     "output_type": "execute_result"
    },
    {
     "data": {
      "image/png": "[encoded data removed]",
      "text/plain": [
       "<Figure size 432x288 with 1 Axes>"
      ]
     },
     "metadata": {
      "needs_background": "light"
     },
     "output_type": "display_data"
    }
   ],
   "source": [
    "import matplotlib.pyplot as plt\n",
    "plt.boxplot(data.air_pollution_index)\n",
    "#plt.boxplot([data.humidity,data.air_pollution_index])"
   ]
  },
  {
   "cell_type": "code",
   "execution_count": 15,
   "metadata": {
    "execution": {
     "iopub.execute_input": "2021-05-20T08:14:28.079608Z",
     "iopub.status.busy": "2021-05-20T08:14:28.079337Z",
     "iopub.status.idle": "2021-05-20T08:14:28.110086Z",
     "shell.execute_reply": "2021-05-20T08:14:28.109394Z",
     "shell.execute_reply.started": "2021-05-20T08:14:28.079549Z"
    }
   },
   "outputs": [
    {
     "data": {
      "text/html": [
       "<div>\n",
       "<style scoped>\n",
       "    .dataframe tbody tr th:only-of-type {\n",
       "        vertical-align: middle;\n",
       "    }\n",
       "\n",
       "    .dataframe tbody tr th {\n",
       "        vertical-align: top;\n",
       "    }\n",
       "\n",
       "    .dataframe thead th {\n",
       "        text-align: right;\n",
       "    }\n",
       "</style>\n",
       "<table border=\"1\" class=\"dataframe\">\n",
       "  <thead>\n",
       "    <tr style=\"text-align: right;\">\n",
       "      <th></th>\n",
       "      <th>air_pollution_index</th>\n",
       "      <th>humidity</th>\n",
       "      <th>wind_speed</th>\n",
       "      <th>wind_direction</th>\n",
       "      <th>visibility_in_miles</th>\n",
       "      <th>dew_point</th>\n",
       "      <th>temperature</th>\n",
       "      <th>rain_p_h</th>\n",
       "      <th>snow_p_h</th>\n",
       "      <th>clouds_all</th>\n",
       "      <th>traffic_volume</th>\n",
       "    </tr>\n",
       "  </thead>\n",
       "  <tbody>\n",
       "    <tr>\n",
       "      <th>air_pollution_index</th>\n",
       "      <td>1.000000</td>\n",
       "      <td>-0.000277</td>\n",
       "      <td>-0.004166</td>\n",
       "      <td>0.000749</td>\n",
       "      <td>0.003499</td>\n",
       "      <td>0.003499</td>\n",
       "      <td>0.005368</td>\n",
       "      <td>0.000443</td>\n",
       "      <td>0.007227</td>\n",
       "      <td>-0.008541</td>\n",
       "      <td>-0.003751</td>\n",
       "    </tr>\n",
       "    <tr>\n",
       "      <th>humidity</th>\n",
       "      <td>-0.000277</td>\n",
       "      <td>1.000000</td>\n",
       "      <td>-0.147042</td>\n",
       "      <td>-0.046268</td>\n",
       "      <td>0.005510</td>\n",
       "      <td>0.005510</td>\n",
       "      <td>0.033273</td>\n",
       "      <td>-0.012161</td>\n",
       "      <td>0.016625</td>\n",
       "      <td>0.014520</td>\n",
       "      <td>0.016455</td>\n",
       "    </tr>\n",
       "    <tr>\n",
       "      <th>wind_speed</th>\n",
       "      <td>-0.004166</td>\n",
       "      <td>-0.147042</td>\n",
       "      <td>1.000000</td>\n",
       "      <td>0.191320</td>\n",
       "      <td>-0.005160</td>\n",
       "      <td>-0.005160</td>\n",
       "      <td>-0.052856</td>\n",
       "      <td>0.001165</td>\n",
       "      <td>-0.006534</td>\n",
       "      <td>-0.004456</td>\n",
       "      <td>0.016329</td>\n",
       "    </tr>\n",
       "    <tr>\n",
       "      <th>wind_direction</th>\n",
       "      <td>0.000749</td>\n",
       "      <td>-0.046268</td>\n",
       "      <td>0.191320</td>\n",
       "      <td>1.000000</td>\n",
       "      <td>0.000716</td>\n",
       "      <td>0.000716</td>\n",
       "      <td>-0.045843</td>\n",
       "      <td>0.002230</td>\n",
       "      <td>0.000321</td>\n",
       "      <td>0.020392</td>\n",
       "      <td>0.014278</td>\n",
       "    </tr>\n",
       "    <tr>\n",
       "      <th>visibility_in_miles</th>\n",
       "      <td>0.003499</td>\n",
       "      <td>0.005510</td>\n",
       "      <td>-0.005160</td>\n",
       "      <td>0.000716</td>\n",
       "      <td>1.000000</td>\n",
       "      <td>1.000000</td>\n",
       "      <td>0.000760</td>\n",
       "      <td>-0.008301</td>\n",
       "      <td>0.001453</td>\n",
       "      <td>-0.001582</td>\n",
       "      <td>0.001348</td>\n",
       "    </tr>\n",
       "    <tr>\n",
       "      <th>dew_point</th>\n",
       "      <td>0.003499</td>\n",
       "      <td>0.005510</td>\n",
       "      <td>-0.005160</td>\n",
       "      <td>0.000716</td>\n",
       "      <td>1.000000</td>\n",
       "      <td>1.000000</td>\n",
       "      <td>0.000760</td>\n",
       "      <td>-0.008301</td>\n",
       "      <td>0.001453</td>\n",
       "      <td>-0.001582</td>\n",
       "      <td>0.001348</td>\n",
       "    </tr>\n",
       "    <tr>\n",
       "      <th>temperature</th>\n",
       "      <td>0.005368</td>\n",
       "      <td>0.033273</td>\n",
       "      <td>-0.052856</td>\n",
       "      <td>-0.045843</td>\n",
       "      <td>0.000760</td>\n",
       "      <td>0.000760</td>\n",
       "      <td>1.000000</td>\n",
       "      <td>0.011071</td>\n",
       "      <td>-0.020721</td>\n",
       "      <td>-0.121334</td>\n",
       "      <td>0.127871</td>\n",
       "    </tr>\n",
       "    <tr>\n",
       "      <th>rain_p_h</th>\n",
       "      <td>0.000443</td>\n",
       "      <td>-0.012161</td>\n",
       "      <td>0.001165</td>\n",
       "      <td>0.002230</td>\n",
       "      <td>-0.008301</td>\n",
       "      <td>-0.008301</td>\n",
       "      <td>0.011071</td>\n",
       "      <td>1.000000</td>\n",
       "      <td>-0.000159</td>\n",
       "      <td>0.005206</td>\n",
       "      <td>0.005642</td>\n",
       "    </tr>\n",
       "    <tr>\n",
       "      <th>snow_p_h</th>\n",
       "      <td>0.007227</td>\n",
       "      <td>0.016625</td>\n",
       "      <td>-0.006534</td>\n",
       "      <td>0.000321</td>\n",
       "      <td>0.001453</td>\n",
       "      <td>0.001453</td>\n",
       "      <td>-0.020721</td>\n",
       "      <td>-0.000159</td>\n",
       "      <td>1.000000</td>\n",
       "      <td>0.032591</td>\n",
       "      <td>0.001197</td>\n",
       "    </tr>\n",
       "    <tr>\n",
       "      <th>clouds_all</th>\n",
       "      <td>-0.008541</td>\n",
       "      <td>0.014520</td>\n",
       "      <td>-0.004456</td>\n",
       "      <td>0.020392</td>\n",
       "      <td>-0.001582</td>\n",
       "      <td>-0.001582</td>\n",
       "      <td>-0.121334</td>\n",
       "      <td>0.005206</td>\n",
       "      <td>0.032591</td>\n",
       "      <td>1.000000</td>\n",
       "      <td>0.037922</td>\n",
       "    </tr>\n",
       "    <tr>\n",
       "      <th>traffic_volume</th>\n",
       "      <td>-0.003751</td>\n",
       "      <td>0.016455</td>\n",
       "      <td>0.016329</td>\n",
       "      <td>0.014278</td>\n",
       "      <td>0.001348</td>\n",
       "      <td>0.001348</td>\n",
       "      <td>0.127871</td>\n",
       "      <td>0.005642</td>\n",
       "      <td>0.001197</td>\n",
       "      <td>0.037922</td>\n",
       "      <td>1.000000</td>\n",
       "    </tr>\n",
       "  </tbody>\n",
       "</table>\n",
       "</div>"
      ],
      "text/plain": [
       "                     air_pollution_index  humidity  wind_speed  \\\n",
       "air_pollution_index             1.000000 -0.000277   -0.004166   \n",
       "humidity                       -0.000277  1.000000   -0.147042   \n",
       "wind_speed                     -0.004166 -0.147042    1.000000   \n",
       "wind_direction                  0.000749 -0.046268    0.191320   \n",
       "visibility_in_miles             0.003499  0.005510   -0.005160   \n",
       "dew_point                       0.003499  0.005510   -0.005160   \n",
       "temperature                     0.005368  0.033273   -0.052856   \n",
       "rain_p_h                        0.000443 -0.012161    0.001165   \n",
       "snow_p_h                        0.007227  0.016625   -0.006534   \n",
       "clouds_all                     -0.008541  0.014520   -0.004456   \n",
       "traffic_volume                 -0.003751  0.016455    0.016329   \n",
       "\n",
       "                     wind_direction  visibility_in_miles  dew_point  \\\n",
       "air_pollution_index        0.000749             0.003499   0.003499   \n",
       "humidity                  -0.046268             0.005510   0.005510   \n",
       "wind_speed                 0.191320            -0.005160  -0.005160   \n",
       "wind_direction             1.000000             0.000716   0.000716   \n",
       "visibility_in_miles        0.000716             1.000000   1.000000   \n",
       "dew_point                  0.000716             1.000000   1.000000   \n",
       "temperature               -0.045843             0.000760   0.000760   \n",
       "rain_p_h                   0.002230            -0.008301  -0.008301   \n",
       "snow_p_h                   0.000321             0.001453   0.001453   \n",
       "clouds_all                 0.020392            -0.001582  -0.001582   \n",
       "traffic_volume             0.014278             0.001348   0.001348   \n",
       "\n",
       "                     temperature  rain_p_h  snow_p_h  clouds_all  \\\n",
       "air_pollution_index     0.005368  0.000443  0.007227   -0.008541   \n",
       "humidity                0.033273 -0.012161  0.016625    0.014520   \n",
       "wind_speed             -0.052856  0.001165 -0.006534   -0.004456   \n",
       "wind_direction         -0.045843  0.002230  0.000321    0.020392   \n",
       "visibility_in_miles     0.000760 -0.008301  0.001453   -0.001582   \n",
       "dew_point               0.000760 -0.008301  0.001453   -0.001582   \n",
       "temperature             1.000000  0.011071 -0.020721   -0.121334   \n",
       "rain_p_h                0.011071  1.000000 -0.000159    0.005206   \n",
       "snow_p_h               -0.020721 -0.000159  1.000000    0.032591   \n",
       "clouds_all             -0.121334  0.005206  0.032591    1.000000   \n",
       "traffic_volume          0.127871  0.005642  0.001197    0.037922   \n",
       "\n",
       "                     traffic_volume  \n",
       "air_pollution_index       -0.003751  \n",
       "humidity                   0.016455  \n",
       "wind_speed                 0.016329  \n",
       "wind_direction             0.014278  \n",
       "visibility_in_miles        0.001348  \n",
       "dew_point                  0.001348  \n",
       "temperature                0.127871  \n",
       "rain_p_h                   0.005642  \n",
       "snow_p_h                   0.001197  \n",
       "clouds_all                 0.037922  \n",
       "traffic_volume             1.000000  "
      ]
     },
     "execution_count": 15,
     "metadata": {},
     "output_type": "execute_result"
    }
   ],
   "source": [
    "data.corr()"
   ]
  },
  {
   "cell_type": "code",
   "execution_count": 16,
   "metadata": {
    "execution": {
     "iopub.execute_input": "2021-05-20T08:14:28.111778Z",
     "iopub.status.busy": "2021-05-20T08:14:28.111454Z",
     "iopub.status.idle": "2021-05-20T08:14:28.129615Z",
     "shell.execute_reply": "2021-05-20T08:14:28.128687Z",
     "shell.execute_reply.started": "2021-05-20T08:14:28.111711Z"
    }
   },
   "outputs": [
    {
     "data": {
      "text/plain": [
       "traffic_volume         1.000000\n",
       "temperature            0.127871\n",
       "clouds_all             0.037922\n",
       "humidity               0.016455\n",
       "wind_speed             0.016329\n",
       "wind_direction         0.014278\n",
       "rain_p_h               0.005642\n",
       "dew_point              0.001348\n",
       "visibility_in_miles    0.001348\n",
       "snow_p_h               0.001197\n",
       "air_pollution_index   -0.003751\n",
       "Name: traffic_volume, dtype: float64"
      ]
     },
     "execution_count": 16,
     "metadata": {},
     "output_type": "execute_result"
    }
   ],
   "source": [
    "data.corr().traffic_volume.sort_values()[::-1]"
   ]
  },
  {
   "cell_type": "code",
   "execution_count": 17,
   "metadata": {
    "execution": {
     "iopub.execute_input": "2021-05-20T08:14:28.131220Z",
     "iopub.status.busy": "2021-05-20T08:14:28.130958Z",
     "iopub.status.idle": "2021-05-20T08:14:28.783513Z",
     "shell.execute_reply": "2021-05-20T08:14:28.782970Z",
     "shell.execute_reply.started": "2021-05-20T08:14:28.131169Z"
    }
   },
   "outputs": [
    {
     "data": {
      "text/plain": [
       "<matplotlib.collections.PathCollection at 0x1f1172d5be0>"
      ]
     },
     "execution_count": 17,
     "metadata": {},
     "output_type": "execute_result"
    },
    {
     "data": {
      "image/png": "[encoded data removed]",
      "text/plain": [
       "<Figure size 432x288 with 1 Axes>"
      ]
     },
     "metadata": {
      "needs_background": "light"
     },
     "output_type": "display_data"
    }
   ],
   "source": [
    "plt.scatter(data.temperature,data.traffic_volume)"
   ]
  },
  {
   "cell_type": "code",
   "execution_count": 18,
   "metadata": {
    "execution": {
     "iopub.execute_input": "2021-05-20T08:14:28.785314Z",
     "iopub.status.busy": "2021-05-20T08:14:28.784835Z",
     "iopub.status.idle": "2021-05-20T08:14:29.435577Z",
     "shell.execute_reply": "2021-05-20T08:14:29.435023Z",
     "shell.execute_reply.started": "2021-05-20T08:14:28.785264Z"
    }
   },
   "outputs": [
    {
     "data": {
      "text/plain": [
       "<matplotlib.collections.PathCollection at 0x1f11724c160>"
      ]
     },
     "execution_count": 18,
     "metadata": {},
     "output_type": "execute_result"
    },
    {
     "data": {
      "image/png": "[encoded data removed]",
      "text/plain": [
       "<Figure size 432x288 with 1 Axes>"
      ]
     },
     "metadata": {
      "needs_background": "light"
     },
     "output_type": "display_data"
    }
   ],
   "source": [
    "plt.scatter(data.clouds_all,data.traffic_volume)"
   ]
  },
  {
   "cell_type": "code",
   "execution_count": 19,
   "metadata": {
    "execution": {
     "iopub.execute_input": "2021-05-20T08:14:29.437416Z",
     "iopub.status.busy": "2021-05-20T08:14:29.436922Z",
     "iopub.status.idle": "2021-05-20T08:14:30.082111Z",
     "shell.execute_reply": "2021-05-20T08:14:30.081183Z",
     "shell.execute_reply.started": "2021-05-20T08:14:29.437356Z"
    }
   },
   "outputs": [
    {
     "data": {
      "text/plain": [
       "<matplotlib.collections.PathCollection at 0x1f117caa8e0>"
      ]
     },
     "execution_count": 19,
     "metadata": {},
     "output_type": "execute_result"
    },
    {
     "data": {
      "image/png": "[encoded data removed]",
      "text/plain": [
       "<Figure size 432x288 with 1 Axes>"
      ]
     },
     "metadata": {
      "needs_background": "light"
     },
     "output_type": "display_data"
    }
   ],
   "source": [
    "plt.scatter(data.humidity,data.traffic_volume)"
   ]
  },
  {
   "cell_type": "code",
   "execution_count": 20,
   "metadata": {
    "execution": {
     "iopub.execute_input": "2021-05-20T08:14:30.083898Z",
     "iopub.status.busy": "2021-05-20T08:14:30.083561Z",
     "iopub.status.idle": "2021-05-20T08:14:30.747815Z",
     "shell.execute_reply": "2021-05-20T08:14:30.747028Z",
     "shell.execute_reply.started": "2021-05-20T08:14:30.083829Z"
    }
   },
   "outputs": [
    {
     "data": {
      "text/plain": [
       "<matplotlib.collections.PathCollection at 0x1f117d183a0>"
      ]
     },
     "execution_count": 20,
     "metadata": {},
     "output_type": "execute_result"
    },
    {
     "data": {
      "image/png": "[encoded data removed]",
      "text/plain": [
       "<Figure size 432x288 with 1 Axes>"
      ]
     },
     "metadata": {
      "needs_background": "light"
     },
     "output_type": "display_data"
    }
   ],
   "source": [
    "plt.scatter(data.wind_speed,data.traffic_volume)"
   ]
  },
  {
   "cell_type": "code",
   "execution_count": 21,
   "metadata": {
    "execution": {
     "iopub.execute_input": "2021-05-20T08:14:30.749485Z",
     "iopub.status.busy": "2021-05-20T08:14:30.749167Z",
     "iopub.status.idle": "2021-05-20T08:14:30.873950Z",
     "shell.execute_reply": "2021-05-20T08:14:30.872961Z",
     "shell.execute_reply.started": "2021-05-20T08:14:30.749419Z"
    }
   },
   "outputs": [
    {
     "data": {
      "text/plain": [
       "{'whiskers': [<matplotlib.lines.Line2D at 0x1f117d87a90>,\n",
       "  <matplotlib.lines.Line2D at 0x1f117d87e20>],\n",
       " 'caps': [<matplotlib.lines.Line2D at 0x1f117d961f0>,\n",
       "  <matplotlib.lines.Line2D at 0x1f117d96580>],\n",
       " 'boxes': [<matplotlib.lines.Line2D at 0x1f117d876d0>],\n",
       " 'medians': [<matplotlib.lines.Line2D at 0x1f117d96910>],\n",
       " 'fliers': [<matplotlib.lines.Line2D at 0x1f117d96ca0>],\n",
       " 'means': []}"
      ]
     },
     "execution_count": 21,
     "metadata": {},
     "output_type": "execute_result"
    },
    {
     "data": {
      "image/png": "[encoded data removed]",
      "text/plain": [
       "<Figure size 432x288 with 1 Axes>"
      ]
     },
     "metadata": {
      "needs_background": "light"
     },
     "output_type": "display_data"
    }
   ],
   "source": [
    "plt.boxplot(data.temperature)"
   ]
  },
  {
   "cell_type": "code",
   "execution_count": 22,
   "metadata": {
    "execution": {
     "iopub.execute_input": "2021-05-20T08:14:30.875572Z",
     "iopub.status.busy": "2021-05-20T08:14:30.875251Z",
     "iopub.status.idle": "2021-05-20T08:14:31.066559Z",
     "shell.execute_reply": "2021-05-20T08:14:31.065756Z",
     "shell.execute_reply.started": "2021-05-20T08:14:30.875505Z"
    }
   },
   "outputs": [
    {
     "data": {
      "text/plain": [
       "<AxesSubplot:>"
      ]
     },
     "execution_count": 22,
     "metadata": {},
     "output_type": "execute_result"
    },
    {
     "data": {
      "image/png": "[encoded data removed]",
      "text/plain": [
       "<Figure size 432x288 with 1 Axes>"
      ]
     },
     "metadata": {
      "needs_background": "light"
     },
     "output_type": "display_data"
    }
   ],
   "source": [
    "data.temperature.hist()"
   ]
  },
  {
   "cell_type": "code",
   "execution_count": 23,
   "metadata": {
    "execution": {
     "iopub.execute_input": "2021-05-20T08:14:31.068195Z",
     "iopub.status.busy": "2021-05-20T08:14:31.067878Z",
     "iopub.status.idle": "2021-05-20T08:14:31.080252Z",
     "shell.execute_reply": "2021-05-20T08:14:31.079453Z",
     "shell.execute_reply.started": "2021-05-20T08:14:31.068128Z"
    }
   },
   "outputs": [
    {
     "data": {
      "text/plain": [
       "243.418681"
      ]
     },
     "execution_count": 23,
     "metadata": {},
     "output_type": "execute_result"
    }
   ],
   "source": [
    "data.temperature.quantile(0.0003)"
   ]
  },
  {
   "cell_type": "code",
   "execution_count": 24,
   "metadata": {
    "execution": {
     "iopub.execute_input": "2021-05-20T08:14:31.081948Z",
     "iopub.status.busy": "2021-05-20T08:14:31.081615Z",
     "iopub.status.idle": "2021-05-20T08:14:31.092047Z",
     "shell.execute_reply": "2021-05-20T08:14:31.091433Z",
     "shell.execute_reply.started": "2021-05-20T08:14:31.081881Z"
    }
   },
   "outputs": [
    {
     "data": {
      "text/plain": [
       "(33750, 15)"
      ]
     },
     "execution_count": 24,
     "metadata": {},
     "output_type": "execute_result"
    }
   ],
   "source": [
    "data.shape"
   ]
  },
  {
   "cell_type": "code",
   "execution_count": 25,
   "metadata": {
    "execution": {
     "iopub.execute_input": "2021-05-20T08:14:31.093930Z",
     "iopub.status.busy": "2021-05-20T08:14:31.093312Z",
     "iopub.status.idle": "2021-05-20T08:14:31.112110Z",
     "shell.execute_reply": "2021-05-20T08:14:31.110819Z",
     "shell.execute_reply.started": "2021-05-20T08:14:31.093886Z"
    }
   },
   "outputs": [],
   "source": [
    "data1 = data[data.temperature>(data.temperature.quantile(0.0003))]"
   ]
  },
  {
   "cell_type": "code",
   "execution_count": 26,
   "metadata": {
    "execution": {
     "iopub.execute_input": "2021-05-20T08:14:31.115982Z",
     "iopub.status.busy": "2021-05-20T08:14:31.115106Z",
     "iopub.status.idle": "2021-05-20T08:14:31.126676Z",
     "shell.execute_reply": "2021-05-20T08:14:31.124970Z",
     "shell.execute_reply.started": "2021-05-20T08:14:31.115929Z"
    }
   },
   "outputs": [
    {
     "data": {
      "text/plain": [
       "(33739, 15)"
      ]
     },
     "execution_count": 26,
     "metadata": {},
     "output_type": "execute_result"
    }
   ],
   "source": [
    "data1.shape"
   ]
  },
  {
   "cell_type": "code",
   "execution_count": 27,
   "metadata": {
    "execution": {
     "iopub.execute_input": "2021-05-20T08:14:31.128398Z",
     "iopub.status.busy": "2021-05-20T08:14:31.128159Z",
     "iopub.status.idle": "2021-05-20T08:14:31.860565Z",
     "shell.execute_reply": "2021-05-20T08:14:31.860027Z",
     "shell.execute_reply.started": "2021-05-20T08:14:31.128361Z"
    }
   },
   "outputs": [
    {
     "data": {
      "text/plain": [
       "<matplotlib.collections.PathCollection at 0x1f117e6ffd0>"
      ]
     },
     "execution_count": 27,
     "metadata": {},
     "output_type": "execute_result"
    },
    {
     "data": {
      "image/png": "[encoded data removed]",
      "text/plain": [
       "<Figure size 432x288 with 1 Axes>"
      ]
     },
     "metadata": {
      "needs_background": "light"
     },
     "output_type": "display_data"
    }
   ],
   "source": [
    "plt.scatter(data1.temperature,data1.traffic_volume)"
   ]
  },
  {
   "cell_type": "code",
   "execution_count": 28,
   "metadata": {
    "execution": {
     "iopub.execute_input": "2021-05-20T08:14:31.862336Z",
     "iopub.status.busy": "2021-05-20T08:14:31.861870Z",
     "iopub.status.idle": "2021-05-20T08:14:31.870407Z",
     "shell.execute_reply": "2021-05-20T08:14:31.869792Z",
     "shell.execute_reply.started": "2021-05-20T08:14:31.862288Z"
    }
   },
   "outputs": [],
   "source": [
    "data_x=data1[data1.columns[0:-1]]"
   ]
  },
  {
   "cell_type": "code",
   "execution_count": 29,
   "metadata": {
    "execution": {
     "iopub.execute_input": "2021-05-20T08:14:31.872114Z",
     "iopub.status.busy": "2021-05-20T08:14:31.871666Z",
     "iopub.status.idle": "2021-05-20T08:14:31.912323Z",
     "shell.execute_reply": "2021-05-20T08:14:31.911704Z",
     "shell.execute_reply.started": "2021-05-20T08:14:31.872067Z"
    }
   },
   "outputs": [
    {
     "data": {
      "text/html": [
       "<div>\n",
       "<style scoped>\n",
       "    .dataframe tbody tr th:only-of-type {\n",
       "        vertical-align: middle;\n",
       "    }\n",
       "\n",
       "    .dataframe tbody tr th {\n",
       "        vertical-align: top;\n",
       "    }\n",
       "\n",
       "    .dataframe thead th {\n",
       "        text-align: right;\n",
       "    }\n",
       "</style>\n",
       "<table border=\"1\" class=\"dataframe\">\n",
       "  <thead>\n",
       "    <tr style=\"text-align: right;\">\n",
       "      <th></th>\n",
       "      <th>date_time</th>\n",
       "      <th>is_holiday</th>\n",
       "      <th>air_pollution_index</th>\n",
       "      <th>humidity</th>\n",
       "      <th>wind_speed</th>\n",
       "      <th>wind_direction</th>\n",
       "      <th>visibility_in_miles</th>\n",
       "      <th>dew_point</th>\n",
       "      <th>temperature</th>\n",
       "      <th>rain_p_h</th>\n",
       "      <th>snow_p_h</th>\n",
       "      <th>clouds_all</th>\n",
       "      <th>weather_type</th>\n",
       "      <th>weather_description</th>\n",
       "    </tr>\n",
       "  </thead>\n",
       "  <tbody>\n",
       "    <tr>\n",
       "      <th>0</th>\n",
       "      <td>2012-10-02 09:00:00</td>\n",
       "      <td>None</td>\n",
       "      <td>121</td>\n",
       "      <td>89</td>\n",
       "      <td>2</td>\n",
       "      <td>329</td>\n",
       "      <td>1</td>\n",
       "      <td>1</td>\n",
       "      <td>288.28</td>\n",
       "      <td>0.0</td>\n",
       "      <td>0.0</td>\n",
       "      <td>40</td>\n",
       "      <td>Clouds</td>\n",
       "      <td>scattered clouds</td>\n",
       "    </tr>\n",
       "    <tr>\n",
       "      <th>1</th>\n",
       "      <td>2012-10-02 10:00:00</td>\n",
       "      <td>None</td>\n",
       "      <td>178</td>\n",
       "      <td>67</td>\n",
       "      <td>3</td>\n",
       "      <td>330</td>\n",
       "      <td>1</td>\n",
       "      <td>1</td>\n",
       "      <td>289.36</td>\n",
       "      <td>0.0</td>\n",
       "      <td>0.0</td>\n",
       "      <td>75</td>\n",
       "      <td>Clouds</td>\n",
       "      <td>broken clouds</td>\n",
       "    </tr>\n",
       "    <tr>\n",
       "      <th>2</th>\n",
       "      <td>2012-10-02 11:00:00</td>\n",
       "      <td>None</td>\n",
       "      <td>113</td>\n",
       "      <td>66</td>\n",
       "      <td>3</td>\n",
       "      <td>329</td>\n",
       "      <td>2</td>\n",
       "      <td>2</td>\n",
       "      <td>289.58</td>\n",
       "      <td>0.0</td>\n",
       "      <td>0.0</td>\n",
       "      <td>90</td>\n",
       "      <td>Clouds</td>\n",
       "      <td>overcast clouds</td>\n",
       "    </tr>\n",
       "    <tr>\n",
       "      <th>3</th>\n",
       "      <td>2012-10-02 12:00:00</td>\n",
       "      <td>None</td>\n",
       "      <td>20</td>\n",
       "      <td>66</td>\n",
       "      <td>3</td>\n",
       "      <td>329</td>\n",
       "      <td>5</td>\n",
       "      <td>5</td>\n",
       "      <td>290.13</td>\n",
       "      <td>0.0</td>\n",
       "      <td>0.0</td>\n",
       "      <td>90</td>\n",
       "      <td>Clouds</td>\n",
       "      <td>overcast clouds</td>\n",
       "    </tr>\n",
       "    <tr>\n",
       "      <th>4</th>\n",
       "      <td>2012-10-02 13:00:00</td>\n",
       "      <td>None</td>\n",
       "      <td>281</td>\n",
       "      <td>65</td>\n",
       "      <td>3</td>\n",
       "      <td>329</td>\n",
       "      <td>7</td>\n",
       "      <td>7</td>\n",
       "      <td>291.14</td>\n",
       "      <td>0.0</td>\n",
       "      <td>0.0</td>\n",
       "      <td>75</td>\n",
       "      <td>Clouds</td>\n",
       "      <td>broken clouds</td>\n",
       "    </tr>\n",
       "    <tr>\n",
       "      <th>...</th>\n",
       "      <td>...</td>\n",
       "      <td>...</td>\n",
       "      <td>...</td>\n",
       "      <td>...</td>\n",
       "      <td>...</td>\n",
       "      <td>...</td>\n",
       "      <td>...</td>\n",
       "      <td>...</td>\n",
       "      <td>...</td>\n",
       "      <td>...</td>\n",
       "      <td>...</td>\n",
       "      <td>...</td>\n",
       "      <td>...</td>\n",
       "      <td>...</td>\n",
       "    </tr>\n",
       "    <tr>\n",
       "      <th>33745</th>\n",
       "      <td>2017-05-17 21:00:00</td>\n",
       "      <td>None</td>\n",
       "      <td>74</td>\n",
       "      <td>85</td>\n",
       "      <td>1</td>\n",
       "      <td>328</td>\n",
       "      <td>7</td>\n",
       "      <td>7</td>\n",
       "      <td>287.88</td>\n",
       "      <td>0.0</td>\n",
       "      <td>0.0</td>\n",
       "      <td>90</td>\n",
       "      <td>Mist</td>\n",
       "      <td>mist</td>\n",
       "    </tr>\n",
       "    <tr>\n",
       "      <th>33746</th>\n",
       "      <td>2017-05-17 22:00:00</td>\n",
       "      <td>None</td>\n",
       "      <td>81</td>\n",
       "      <td>70</td>\n",
       "      <td>1</td>\n",
       "      <td>24</td>\n",
       "      <td>2</td>\n",
       "      <td>2</td>\n",
       "      <td>286.95</td>\n",
       "      <td>0.0</td>\n",
       "      <td>0.0</td>\n",
       "      <td>90</td>\n",
       "      <td>Rain</td>\n",
       "      <td>heavy intensity rain</td>\n",
       "    </tr>\n",
       "    <tr>\n",
       "      <th>33747</th>\n",
       "      <td>2017-05-17 22:00:00</td>\n",
       "      <td>None</td>\n",
       "      <td>138</td>\n",
       "      <td>70</td>\n",
       "      <td>1</td>\n",
       "      <td>24</td>\n",
       "      <td>1</td>\n",
       "      <td>1</td>\n",
       "      <td>286.95</td>\n",
       "      <td>0.0</td>\n",
       "      <td>0.0</td>\n",
       "      <td>90</td>\n",
       "      <td>Mist</td>\n",
       "      <td>mist</td>\n",
       "    </tr>\n",
       "    <tr>\n",
       "      <th>33748</th>\n",
       "      <td>2017-05-17 23:00:00</td>\n",
       "      <td>None</td>\n",
       "      <td>229</td>\n",
       "      <td>66</td>\n",
       "      <td>1</td>\n",
       "      <td>42</td>\n",
       "      <td>6</td>\n",
       "      <td>6</td>\n",
       "      <td>285.75</td>\n",
       "      <td>0.0</td>\n",
       "      <td>0.0</td>\n",
       "      <td>90</td>\n",
       "      <td>Rain</td>\n",
       "      <td>heavy intensity rain</td>\n",
       "    </tr>\n",
       "    <tr>\n",
       "      <th>33749</th>\n",
       "      <td>2017-05-17 23:00:00</td>\n",
       "      <td>None</td>\n",
       "      <td>140</td>\n",
       "      <td>63</td>\n",
       "      <td>1</td>\n",
       "      <td>27</td>\n",
       "      <td>8</td>\n",
       "      <td>8</td>\n",
       "      <td>285.75</td>\n",
       "      <td>0.0</td>\n",
       "      <td>0.0</td>\n",
       "      <td>90</td>\n",
       "      <td>Mist</td>\n",
       "      <td>mist</td>\n",
       "    </tr>\n",
       "  </tbody>\n",
       "</table>\n",
       "<p>33739 rows × 14 columns</p>\n",
       "</div>"
      ],
      "text/plain": [
       "                 date_time is_holiday  air_pollution_index  humidity  \\\n",
       "0      2012-10-02 09:00:00       None                  121        89   \n",
       "1      2012-10-02 10:00:00       None                  178        67   \n",
       "2      2012-10-02 11:00:00       None                  113        66   \n",
       "3      2012-10-02 12:00:00       None                   20        66   \n",
       "4      2012-10-02 13:00:00       None                  281        65   \n",
       "...                    ...        ...                  ...       ...   \n",
       "33745  2017-05-17 21:00:00       None                   74        85   \n",
       "33746  2017-05-17 22:00:00       None                   81        70   \n",
       "33747  2017-05-17 22:00:00       None                  138        70   \n",
       "33748  2017-05-17 23:00:00       None                  229        66   \n",
       "33749  2017-05-17 23:00:00       None                  140        63   \n",
       "\n",
       "       wind_speed  wind_direction  visibility_in_miles  dew_point  \\\n",
       "0               2             329                    1          1   \n",
       "1               3             330                    1          1   \n",
       "2               3             329                    2          2   \n",
       "3               3             329                    5          5   \n",
       "4               3             329                    7          7   \n",
       "...           ...             ...                  ...        ...   \n",
       "33745           1             328                    7          7   \n",
       "33746           1              24                    2          2   \n",
       "33747           1              24                    1          1   \n",
       "33748           1              42                    6          6   \n",
       "33749           1              27                    8          8   \n",
       "\n",
       "       temperature  rain_p_h  snow_p_h  clouds_all weather_type  \\\n",
       "0           288.28       0.0       0.0          40       Clouds   \n",
       "1           289.36       0.0       0.0          75       Clouds   \n",
       "2           289.58       0.0       0.0          90       Clouds   \n",
       "3           290.13       0.0       0.0          90       Clouds   \n",
       "4           291.14       0.0       0.0          75       Clouds   \n",
       "...            ...       ...       ...         ...          ...   \n",
       "33745       287.88       0.0       0.0          90         Mist   \n",
       "33746       286.95       0.0       0.0          90         Rain   \n",
       "33747       286.95       0.0       0.0          90         Mist   \n",
       "33748       285.75       0.0       0.0          90         Rain   \n",
       "33749       285.75       0.0       0.0          90         Mist   \n",
       "\n",
       "        weather_description  \n",
       "0          scattered clouds  \n",
       "1             broken clouds  \n",
       "2           overcast clouds  \n",
       "3           overcast clouds  \n",
       "4             broken clouds  \n",
       "...                     ...  \n",
       "33745                  mist  \n",
       "33746  heavy intensity rain  \n",
       "33747                  mist  \n",
       "33748  heavy intensity rain  \n",
       "33749                  mist  \n",
       "\n",
       "[33739 rows x 14 columns]"
      ]
     },
     "execution_count": 29,
     "metadata": {},
     "output_type": "execute_result"
    }
   ],
   "source": [
    "data_x"
   ]
  },
  {
   "cell_type": "code",
   "execution_count": 30,
   "metadata": {
    "execution": {
     "iopub.execute_input": "2021-05-20T08:14:31.915625Z",
     "iopub.status.busy": "2021-05-20T08:14:31.915381Z",
     "iopub.status.idle": "2021-05-20T08:14:31.920975Z",
     "shell.execute_reply": "2021-05-20T08:14:31.920346Z",
     "shell.execute_reply.started": "2021-05-20T08:14:31.915571Z"
    }
   },
   "outputs": [],
   "source": [
    "data_y=data1.traffic_volume"
   ]
  },
  {
   "cell_type": "code",
   "execution_count": 31,
   "metadata": {
    "execution": {
     "iopub.execute_input": "2021-05-20T08:14:31.922434Z",
     "iopub.status.busy": "2021-05-20T08:14:31.922162Z",
     "iopub.status.idle": "2021-05-20T08:14:31.935167Z",
     "shell.execute_reply": "2021-05-20T08:14:31.934185Z",
     "shell.execute_reply.started": "2021-05-20T08:14:31.922375Z"
    }
   },
   "outputs": [
    {
     "data": {
      "text/plain": [
       "0        5545\n",
       "1        4516\n",
       "2        4767\n",
       "3        5026\n",
       "4        4918\n",
       "         ... \n",
       "33745    2348\n",
       "33746    2194\n",
       "33747    2194\n",
       "33748    1328\n",
       "33749    1328\n",
       "Name: traffic_volume, Length: 33739, dtype: int64"
      ]
     },
     "execution_count": 31,
     "metadata": {},
     "output_type": "execute_result"
    }
   ],
   "source": [
    "data_y"
   ]
  },
  {
   "cell_type": "code",
   "execution_count": 32,
   "metadata": {
    "execution": {
     "iopub.execute_input": "2021-05-20T08:14:31.936932Z",
     "iopub.status.busy": "2021-05-20T08:14:31.936704Z",
     "iopub.status.idle": "2021-05-20T08:14:33.877185Z",
     "shell.execute_reply": "2021-05-20T08:14:33.876335Z",
     "shell.execute_reply.started": "2021-05-20T08:14:31.936886Z"
    }
   },
   "outputs": [],
   "source": [
    "from sklearn.model_selection import train_test_split\n",
    "import numpy as np\n",
    "from sklearn.linear_model import LinearRegression\n",
    "from sklearn.metrics import mean_squared_error\n"
   ]
  },
  {
   "cell_type": "code",
   "execution_count": 33,
   "metadata": {
    "execution": {
     "iopub.execute_input": "2021-05-20T08:14:33.878236Z",
     "iopub.status.busy": "2021-05-20T08:14:33.878046Z",
     "iopub.status.idle": "2021-05-20T08:14:33.889545Z",
     "shell.execute_reply": "2021-05-20T08:14:33.889106Z",
     "shell.execute_reply.started": "2021-05-20T08:14:33.878198Z"
    }
   },
   "outputs": [
    {
     "name": "stdout",
     "output_type": "stream",
     "text": [
      "date_time               object\n",
      "is_holiday              object\n",
      "air_pollution_index      int64\n",
      "humidity                 int64\n",
      "wind_speed               int64\n",
      "wind_direction           int64\n",
      "visibility_in_miles      int64\n",
      "dew_point                int64\n",
      "temperature            float64\n",
      "rain_p_h               float64\n",
      "snow_p_h               float64\n",
      "clouds_all               int64\n",
      "weather_type            object\n",
      "weather_description     object\n",
      "dtype: object\n",
      "air_pollution_index      int64\n",
      "humidity                 int64\n",
      "wind_speed               int64\n",
      "wind_direction           int64\n",
      "visibility_in_miles      int64\n",
      "dew_point                int64\n",
      "temperature            float64\n",
      "rain_p_h               float64\n",
      "snow_p_h               float64\n",
      "clouds_all               int64\n",
      "dtype: object\n"
     ]
    }
   ],
   "source": [
    "print(data_x.dtypes)\n",
    "data_x=data_x[data_x.columns[2:-2]]\n",
    "print(data_x.dtypes)\n"
   ]
  },
  {
   "cell_type": "code",
   "execution_count": 34,
   "metadata": {
    "execution": {
     "iopub.execute_input": "2021-05-20T08:14:33.892529Z",
     "iopub.status.busy": "2021-05-20T08:14:33.892225Z",
     "iopub.status.idle": "2021-05-20T08:14:37.642867Z",
     "shell.execute_reply": "2021-05-20T08:14:37.642253Z",
     "shell.execute_reply.started": "2021-05-20T08:14:33.892490Z"
    }
   },
   "outputs": [
    {
     "name": "stderr",
     "output_type": "stream",
     "text": [
      "C:\\Users\\FARNANDO\\AppData\\Local\\Temp/ipykernel_6812/369135151.py:6: FutureWarning: Support for multi-dimensional indexing (e.g. `obj[:, None]`) is deprecated and will be removed in a future version.  Convert to a numpy array before indexing instead.\n",
      "  train_x = train_x[:,np.newaxis]\n",
      "C:\\Users\\FARNANDO\\AppData\\Local\\Temp/ipykernel_6812/369135151.py:7: FutureWarning: Support for multi-dimensional indexing (e.g. `obj[:, None]`) is deprecated and will be removed in a future version.  Convert to a numpy array before indexing instead.\n",
      "  train_y = train_y[:,np.newaxis]\n",
      "C:\\Users\\FARNANDO\\AppData\\Local\\Temp/ipykernel_6812/369135151.py:8: FutureWarning: Support for multi-dimensional indexing (e.g. `obj[:, None]`) is deprecated and will be removed in a future version.  Convert to a numpy array before indexing instead.\n",
      "  test_x = test_x[:,np.newaxis]\n",
      "C:\\Users\\FARNANDO\\AppData\\Local\\Temp/ipykernel_6812/369135151.py:9: FutureWarning: Support for multi-dimensional indexing (e.g. `obj[:, None]`) is deprecated and will be removed in a future version.  Convert to a numpy array before indexing instead.\n",
      "  test_y = test_y[:,np.newaxis]\n",
      "C:\\Users\\FARNANDO\\AppData\\Local\\Temp/ipykernel_6812/369135151.py:6: FutureWarning: Support for multi-dimensional indexing (e.g. `obj[:, None]`) is deprecated and will be removed in a future version.  Convert to a numpy array before indexing instead.\n",
      "  train_x = train_x[:,np.newaxis]\n",
      "C:\\Users\\FARNANDO\\AppData\\Local\\Temp/ipykernel_6812/369135151.py:7: FutureWarning: Support for multi-dimensional indexing (e.g. `obj[:, None]`) is deprecated and will be removed in a future version.  Convert to a numpy array before indexing instead.\n",
      "  train_y = train_y[:,np.newaxis]\n",
      "C:\\Users\\FARNANDO\\AppData\\Local\\Temp/ipykernel_6812/369135151.py:8: FutureWarning: Support for multi-dimensional indexing (e.g. `obj[:, None]`) is deprecated and will be removed in a future version.  Convert to a numpy array before indexing instead.\n",
      "  test_x = test_x[:,np.newaxis]\n",
      "C:\\Users\\FARNANDO\\AppData\\Local\\Temp/ipykernel_6812/369135151.py:9: FutureWarning: Support for multi-dimensional indexing (e.g. `obj[:, None]`) is deprecated and will be removed in a future version.  Convert to a numpy array before indexing instead.\n",
      "  test_y = test_y[:,np.newaxis]\n",
      "C:\\Users\\FARNANDO\\AppData\\Local\\Temp/ipykernel_6812/369135151.py:6: FutureWarning: Support for multi-dimensional indexing (e.g. `obj[:, None]`) is deprecated and will be removed in a future version.  Convert to a numpy array before indexing instead.\n",
      "  train_x = train_x[:,np.newaxis]\n",
      "C:\\Users\\FARNANDO\\AppData\\Local\\Temp/ipykernel_6812/369135151.py:7: FutureWarning: Support for multi-dimensional indexing (e.g. `obj[:, None]`) is deprecated and will be removed in a future version.  Convert to a numpy array before indexing instead.\n",
      "  train_y = train_y[:,np.newaxis]\n",
      "C:\\Users\\FARNANDO\\AppData\\Local\\Temp/ipykernel_6812/369135151.py:8: FutureWarning: Support for multi-dimensional indexing (e.g. `obj[:, None]`) is deprecated and will be removed in a future version.  Convert to a numpy array before indexing instead.\n",
      "  test_x = test_x[:,np.newaxis]\n",
      "C:\\Users\\FARNANDO\\AppData\\Local\\Temp/ipykernel_6812/369135151.py:9: FutureWarning: Support for multi-dimensional indexing (e.g. `obj[:, None]`) is deprecated and will be removed in a future version.  Convert to a numpy array before indexing instead.\n",
      "  test_y = test_y[:,np.newaxis]\n",
      "C:\\Users\\FARNANDO\\AppData\\Local\\Temp/ipykernel_6812/369135151.py:6: FutureWarning: Support for multi-dimensional indexing (e.g. `obj[:, None]`) is deprecated and will be removed in a future version.  Convert to a numpy array before indexing instead.\n",
      "  train_x = train_x[:,np.newaxis]\n",
      "C:\\Users\\FARNANDO\\AppData\\Local\\Temp/ipykernel_6812/369135151.py:7: FutureWarning: Support for multi-dimensional indexing (e.g. `obj[:, None]`) is deprecated and will be removed in a future version.  Convert to a numpy array before indexing instead.\n",
      "  train_y = train_y[:,np.newaxis]\n",
      "C:\\Users\\FARNANDO\\AppData\\Local\\Temp/ipykernel_6812/369135151.py:8: FutureWarning: Support for multi-dimensional indexing (e.g. `obj[:, None]`) is deprecated and will be removed in a future version.  Convert to a numpy array before indexing instead.\n",
      "  test_x = test_x[:,np.newaxis]\n",
      "C:\\Users\\FARNANDO\\AppData\\Local\\Temp/ipykernel_6812/369135151.py:9: FutureWarning: Support for multi-dimensional indexing (e.g. `obj[:, None]`) is deprecated and will be removed in a future version.  Convert to a numpy array before indexing instead.\n",
      "  test_y = test_y[:,np.newaxis]\n"
     ]
    },
    {
     "name": "stdout",
     "output_type": "stream",
     "text": [
      "train MSE:  3981705.003547528\n",
      "test MSE:  3927144.3832975915\n",
      "train MSE:  3960618.9591100053\n",
      "test MSE:  3974889.2648946787\n",
      "train MSE:  3940198.461183623\n",
      "test MSE:  4022550.5407340503\n",
      "train MSE:  3963266.911059212\n",
      "test MSE:  3968585.9475761824\n",
      "train MSE:  3940704.208746101\n",
      "test MSE:  4023128.088199322\n",
      "train MSE:  3961326.7323285667\n"
     ]
    },
    {
     "name": "stderr",
     "output_type": "stream",
     "text": [
      "C:\\Users\\FARNANDO\\AppData\\Local\\Temp/ipykernel_6812/369135151.py:6: FutureWarning: Support for multi-dimensional indexing (e.g. `obj[:, None]`) is deprecated and will be removed in a future version.  Convert to a numpy array before indexing instead.\n",
      "  train_x = train_x[:,np.newaxis]\n",
      "C:\\Users\\FARNANDO\\AppData\\Local\\Temp/ipykernel_6812/369135151.py:7: FutureWarning: Support for multi-dimensional indexing (e.g. `obj[:, None]`) is deprecated and will be removed in a future version.  Convert to a numpy array before indexing instead.\n",
      "  train_y = train_y[:,np.newaxis]\n",
      "C:\\Users\\FARNANDO\\AppData\\Local\\Temp/ipykernel_6812/369135151.py:8: FutureWarning: Support for multi-dimensional indexing (e.g. `obj[:, None]`) is deprecated and will be removed in a future version.  Convert to a numpy array before indexing instead.\n",
      "  test_x = test_x[:,np.newaxis]\n",
      "C:\\Users\\FARNANDO\\AppData\\Local\\Temp/ipykernel_6812/369135151.py:9: FutureWarning: Support for multi-dimensional indexing (e.g. `obj[:, None]`) is deprecated and will be removed in a future version.  Convert to a numpy array before indexing instead.\n",
      "  test_y = test_y[:,np.newaxis]\n",
      "C:\\Users\\FARNANDO\\AppData\\Local\\Temp/ipykernel_6812/369135151.py:6: FutureWarning: Support for multi-dimensional indexing (e.g. `obj[:, None]`) is deprecated and will be removed in a future version.  Convert to a numpy array before indexing instead.\n",
      "  train_x = train_x[:,np.newaxis]\n",
      "C:\\Users\\FARNANDO\\AppData\\Local\\Temp/ipykernel_6812/369135151.py:7: FutureWarning: Support for multi-dimensional indexing (e.g. `obj[:, None]`) is deprecated and will be removed in a future version.  Convert to a numpy array before indexing instead.\n",
      "  train_y = train_y[:,np.newaxis]\n",
      "C:\\Users\\FARNANDO\\AppData\\Local\\Temp/ipykernel_6812/369135151.py:8: FutureWarning: Support for multi-dimensional indexing (e.g. `obj[:, None]`) is deprecated and will be removed in a future version.  Convert to a numpy array before indexing instead.\n",
      "  test_x = test_x[:,np.newaxis]\n",
      "C:\\Users\\FARNANDO\\AppData\\Local\\Temp/ipykernel_6812/369135151.py:9: FutureWarning: Support for multi-dimensional indexing (e.g. `obj[:, None]`) is deprecated and will be removed in a future version.  Convert to a numpy array before indexing instead.\n",
      "  test_y = test_y[:,np.newaxis]\n",
      "C:\\Users\\FARNANDO\\AppData\\Local\\Temp/ipykernel_6812/369135151.py:6: FutureWarning: Support for multi-dimensional indexing (e.g. `obj[:, None]`) is deprecated and will be removed in a future version.  Convert to a numpy array before indexing instead.\n",
      "  train_x = train_x[:,np.newaxis]\n",
      "C:\\Users\\FARNANDO\\AppData\\Local\\Temp/ipykernel_6812/369135151.py:7: FutureWarning: Support for multi-dimensional indexing (e.g. `obj[:, None]`) is deprecated and will be removed in a future version.  Convert to a numpy array before indexing instead.\n",
      "  train_y = train_y[:,np.newaxis]\n",
      "C:\\Users\\FARNANDO\\AppData\\Local\\Temp/ipykernel_6812/369135151.py:8: FutureWarning: Support for multi-dimensional indexing (e.g. `obj[:, None]`) is deprecated and will be removed in a future version.  Convert to a numpy array before indexing instead.\n",
      "  test_x = test_x[:,np.newaxis]\n",
      "C:\\Users\\FARNANDO\\AppData\\Local\\Temp/ipykernel_6812/369135151.py:9: FutureWarning: Support for multi-dimensional indexing (e.g. `obj[:, None]`) is deprecated and will be removed in a future version.  Convert to a numpy array before indexing instead.\n",
      "  test_y = test_y[:,np.newaxis]\n",
      "C:\\Users\\FARNANDO\\AppData\\Local\\Temp/ipykernel_6812/369135151.py:6: FutureWarning: Support for multi-dimensional indexing (e.g. `obj[:, None]`) is deprecated and will be removed in a future version.  Convert to a numpy array before indexing instead.\n",
      "  train_x = train_x[:,np.newaxis]\n",
      "C:\\Users\\FARNANDO\\AppData\\Local\\Temp/ipykernel_6812/369135151.py:7: FutureWarning: Support for multi-dimensional indexing (e.g. `obj[:, None]`) is deprecated and will be removed in a future version.  Convert to a numpy array before indexing instead.\n",
      "  train_y = train_y[:,np.newaxis]\n",
      "C:\\Users\\FARNANDO\\AppData\\Local\\Temp/ipykernel_6812/369135151.py:8: FutureWarning: Support for multi-dimensional indexing (e.g. `obj[:, None]`) is deprecated and will be removed in a future version.  Convert to a numpy array before indexing instead.\n",
      "  test_x = test_x[:,np.newaxis]\n",
      "C:\\Users\\FARNANDO\\AppData\\Local\\Temp/ipykernel_6812/369135151.py:9: FutureWarning: Support for multi-dimensional indexing (e.g. `obj[:, None]`) is deprecated and will be removed in a future version.  Convert to a numpy array before indexing instead.\n",
      "  test_y = test_y[:,np.newaxis]\n",
      "C:\\Users\\FARNANDO\\AppData\\Local\\Temp/ipykernel_6812/369135151.py:6: FutureWarning: Support for multi-dimensional indexing (e.g. `obj[:, None]`) is deprecated and will be removed in a future version.  Convert to a numpy array before indexing instead.\n",
      "  train_x = train_x[:,np.newaxis]\n",
      "C:\\Users\\FARNANDO\\AppData\\Local\\Temp/ipykernel_6812/369135151.py:7: FutureWarning: Support for multi-dimensional indexing (e.g. `obj[:, None]`) is deprecated and will be removed in a future version.  Convert to a numpy array before indexing instead.\n",
      "  train_y = train_y[:,np.newaxis]\n",
      "C:\\Users\\FARNANDO\\AppData\\Local\\Temp/ipykernel_6812/369135151.py:8: FutureWarning: Support for multi-dimensional indexing (e.g. `obj[:, None]`) is deprecated and will be removed in a future version.  Convert to a numpy array before indexing instead.\n",
      "  test_x = test_x[:,np.newaxis]\n",
      "C:\\Users\\FARNANDO\\AppData\\Local\\Temp/ipykernel_6812/369135151.py:9: FutureWarning: Support for multi-dimensional indexing (e.g. `obj[:, None]`) is deprecated and will be removed in a future version.  Convert to a numpy array before indexing instead.\n",
      "  test_y = test_y[:,np.newaxis]\n"
     ]
    },
    {
     "name": "stdout",
     "output_type": "stream",
     "text": [
      "test MSE:  3975110.5122239413\n",
      "train MSE:  3899386.8764229007\n",
      "test MSE:  3894721.697198346\n",
      "train MSE:  3980881.803343845\n",
      "test MSE:  24005715.12099024\n",
      "train MSE:  3958875.8011713433\n",
      "test MSE:  3981170.1941253175\n",
      "train MSE:  3940928.5903447205\n",
      "test MSE:  4003859.8769858615\n"
     ]
    },
    {
     "name": "stderr",
     "output_type": "stream",
     "text": [
      "C:\\Users\\FARNANDO\\AppData\\Local\\Temp/ipykernel_6812/369135151.py:6: FutureWarning: Support for multi-dimensional indexing (e.g. `obj[:, None]`) is deprecated and will be removed in a future version.  Convert to a numpy array before indexing instead.\n",
      "  train_x = train_x[:,np.newaxis]\n",
      "C:\\Users\\FARNANDO\\AppData\\Local\\Temp/ipykernel_6812/369135151.py:7: FutureWarning: Support for multi-dimensional indexing (e.g. `obj[:, None]`) is deprecated and will be removed in a future version.  Convert to a numpy array before indexing instead.\n",
      "  train_y = train_y[:,np.newaxis]\n",
      "C:\\Users\\FARNANDO\\AppData\\Local\\Temp/ipykernel_6812/369135151.py:8: FutureWarning: Support for multi-dimensional indexing (e.g. `obj[:, None]`) is deprecated and will be removed in a future version.  Convert to a numpy array before indexing instead.\n",
      "  test_x = test_x[:,np.newaxis]\n",
      "C:\\Users\\FARNANDO\\AppData\\Local\\Temp/ipykernel_6812/369135151.py:9: FutureWarning: Support for multi-dimensional indexing (e.g. `obj[:, None]`) is deprecated and will be removed in a future version.  Convert to a numpy array before indexing instead.\n",
      "  test_y = test_y[:,np.newaxis]\n"
     ]
    },
    {
     "data": {
      "image/png": "[encoded data removed]",
      "text/plain": [
       "<Figure size 432x288 with 10 Axes>"
      ]
     },
     "metadata": {
      "needs_background": "light"
     },
     "output_type": "display_data"
    }
   ],
   "source": [
    "res = {}\n",
    "c=1\n",
    "for col in data_x.columns:\n",
    "    \n",
    "    train_x, test_x, train_y, test_y = train_test_split(data_x[col],data_y, test_size=0.3)\n",
    "    train_x = train_x[:,np.newaxis]\n",
    "    train_y = train_y[:,np.newaxis]\n",
    "    test_x = test_x[:,np.newaxis]\n",
    "    test_y = test_y[:,np.newaxis]\n",
    "    lm=LinearRegression()\n",
    "    lm.fit(train_x,train_y)\n",
    "    pred=lm.predict(train_x)\n",
    "    pred_test=lm.predict(test_x)\n",
    "    plt.subplot(4,3,c)\n",
    "    plt.scatter(train_x,train_y)\n",
    "    plt.plot(train_x,pred,'r')\n",
    "    plt.plot(test_x,pred_test,'g')\n",
    "    c+=1\n",
    "    print('train MSE: ', mean_squared_error(train_y,pred))\n",
    "    print('test MSE: ', mean_squared_error(test_y,pred_test))\n",
    "\n",
    "    trainRMSE = np.sqrt(mean_squared_error(train_y,pred))\n",
    "    testRMSE = np.sqrt(mean_squared_error(test_y,pred_test))\n",
    "    cname='Traffic Volume vs '+col\n",
    "    res[cname]=[trainRMSE, testRMSE]"
   ]
  },
  {
   "cell_type": "code",
   "execution_count": 35,
   "metadata": {
    "execution": {
     "iopub.execute_input": "2021-05-20T08:14:37.644309Z",
     "iopub.status.busy": "2021-05-20T08:14:37.643988Z",
     "iopub.status.idle": "2021-05-20T08:14:37.672224Z",
     "shell.execute_reply": "2021-05-20T08:14:37.671618Z",
     "shell.execute_reply.started": "2021-05-20T08:14:37.644269Z"
    }
   },
   "outputs": [
    {
     "name": "stdout",
     "output_type": "stream",
     "text": [
      "train MSE:  3876902.170322869\n",
      "test MSE:  3890934.17563157\n"
     ]
    },
    {
     "name": "stderr",
     "output_type": "stream",
     "text": [
      "C:\\Users\\FARNANDO\\AppData\\Local\\Temp/ipykernel_6812/208430121.py:3: FutureWarning: Support for multi-dimensional indexing (e.g. `obj[:, None]`) is deprecated and will be removed in a future version.  Convert to a numpy array before indexing instead.\n",
      "  train_y = train_y[:,np.newaxis]\n",
      "C:\\Users\\FARNANDO\\AppData\\Local\\Temp/ipykernel_6812/208430121.py:5: FutureWarning: Support for multi-dimensional indexing (e.g. `obj[:, None]`) is deprecated and will be removed in a future version.  Convert to a numpy array before indexing instead.\n",
      "  test_y = test_y[:,np.newaxis]\n"
     ]
    }
   ],
   "source": [
    "train_x, test_x, train_y, test_y = train_test_split(data_x,data_y, test_size=0.3)\n",
    "#train_x = train_x[:,np.newaxis]\n",
    "train_y = train_y[:,np.newaxis]\n",
    "#test_x = test_x[:,np.newaxis]\n",
    "test_y = test_y[:,np.newaxis]\n",
    "lm=LinearRegression()\n",
    "lm.fit(train_x,train_y)\n",
    "pred=lm.predict(train_x)\n",
    "pred_test=lm.predict(test_x)\n",
    "#plt.scatter(train_x,train_y)\n",
    "#plt.plot(train_x,pred,'r')\n",
    "#plt.plot(test_x,pred_test,'g')\n",
    "print('train MSE: ', mean_squared_error(train_y,pred))\n",
    "print('test MSE: ', mean_squared_error(test_y,pred_test))\n",
    "\n",
    "trainRMSE = np.sqrt(mean_squared_error(train_y,pred))\n",
    "testRMSE = np.sqrt(mean_squared_error(test_y,pred_test))\n",
    "cname='Traffic Volume vs All Columns'\n",
    "res[cname]=[trainRMSE, testRMSE]"
   ]
  },
  {
   "cell_type": "code",
   "execution_count": 36,
   "metadata": {
    "execution": {
     "iopub.execute_input": "2021-05-20T08:14:37.674466Z",
     "iopub.status.busy": "2021-05-20T08:14:37.673265Z",
     "iopub.status.idle": "2021-05-20T08:14:37.681605Z",
     "shell.execute_reply": "2021-05-20T08:14:37.680960Z",
     "shell.execute_reply.started": "2021-05-20T08:14:37.674425Z"
    }
   },
   "outputs": [
    {
     "data": {
      "text/plain": [
       "{'Traffic Volume vs air_pollution_index': [1995.4210090974607,\n",
       "  1981.702395239404],\n",
       " 'Traffic Volume vs humidity': [1990.1303874646017, 1993.7124328484986],\n",
       " 'Traffic Volume vs wind_speed': [1984.9933151483465, 2005.6297117698596],\n",
       " 'Traffic Volume vs wind_direction': [1990.795547277322, 1992.1310066298809],\n",
       " 'Traffic Volume vs visibility_in_miles': [1985.1207038228433,\n",
       "  2005.7736881810276],\n",
       " 'Traffic Volume vs dew_point': [1990.3082003369645, 1993.7679183455484],\n",
       " 'Traffic Volume vs temperature': [1974.6865261157025, 1973.5049270772915],\n",
       " 'Traffic Volume vs rain_p_h': [1995.2147261244452, 4899.562747938865],\n",
       " 'Traffic Volume vs snow_p_h': [1989.692388579537, 1995.2869954283062],\n",
       " 'Traffic Volume vs clouds_all': [1985.1772188761186, 2000.9647365673043],\n",
       " 'Traffic Volume vs All Columns': [1968.9850609699579, 1972.545101038648]}"
      ]
     },
     "execution_count": 36,
     "metadata": {},
     "output_type": "execute_result"
    }
   ],
   "source": [
    "res"
   ]
  },
  {
   "cell_type": "code",
   "execution_count": 37,
   "metadata": {
    "execution": {
     "iopub.execute_input": "2021-05-20T08:14:37.683706Z",
     "iopub.status.busy": "2021-05-20T08:14:37.682558Z",
     "iopub.status.idle": "2021-05-20T08:14:37.693399Z",
     "shell.execute_reply": "2021-05-20T08:14:37.692785Z",
     "shell.execute_reply.started": "2021-05-20T08:14:37.683633Z"
    }
   },
   "outputs": [],
   "source": [
    "resdf = pd.DataFrame(res, index = ['Train RMSE', 'Test RMSE'])\n",
    "resdf = resdf.T"
   ]
  },
  {
   "cell_type": "code",
   "execution_count": 38,
   "metadata": {
    "execution": {
     "iopub.execute_input": "2021-05-20T08:14:37.694681Z",
     "iopub.status.busy": "2021-05-20T08:14:37.694413Z",
     "iopub.status.idle": "2021-05-20T08:14:37.718563Z",
     "shell.execute_reply": "2021-05-20T08:14:37.717974Z",
     "shell.execute_reply.started": "2021-05-20T08:14:37.694603Z"
    }
   },
   "outputs": [
    {
     "data": {
      "text/html": [
       "<div>\n",
       "<style scoped>\n",
       "    .dataframe tbody tr th:only-of-type {\n",
       "        vertical-align: middle;\n",
       "    }\n",
       "\n",
       "    .dataframe tbody tr th {\n",
       "        vertical-align: top;\n",
       "    }\n",
       "\n",
       "    .dataframe thead th {\n",
       "        text-align: right;\n",
       "    }\n",
       "</style>\n",
       "<table border=\"1\" class=\"dataframe\">\n",
       "  <thead>\n",
       "    <tr style=\"text-align: right;\">\n",
       "      <th></th>\n",
       "      <th>Train RMSE</th>\n",
       "      <th>Test RMSE</th>\n",
       "    </tr>\n",
       "  </thead>\n",
       "  <tbody>\n",
       "    <tr>\n",
       "      <th>Traffic Volume vs air_pollution_index</th>\n",
       "      <td>1995.421009</td>\n",
       "      <td>1981.702395</td>\n",
       "    </tr>\n",
       "    <tr>\n",
       "      <th>Traffic Volume vs humidity</th>\n",
       "      <td>1990.130387</td>\n",
       "      <td>1993.712433</td>\n",
       "    </tr>\n",
       "    <tr>\n",
       "      <th>Traffic Volume vs wind_speed</th>\n",
       "      <td>1984.993315</td>\n",
       "      <td>2005.629712</td>\n",
       "    </tr>\n",
       "    <tr>\n",
       "      <th>Traffic Volume vs wind_direction</th>\n",
       "      <td>1990.795547</td>\n",
       "      <td>1992.131007</td>\n",
       "    </tr>\n",
       "    <tr>\n",
       "      <th>Traffic Volume vs visibility_in_miles</th>\n",
       "      <td>1985.120704</td>\n",
       "      <td>2005.773688</td>\n",
       "    </tr>\n",
       "    <tr>\n",
       "      <th>Traffic Volume vs dew_point</th>\n",
       "      <td>1990.308200</td>\n",
       "      <td>1993.767918</td>\n",
       "    </tr>\n",
       "    <tr>\n",
       "      <th>Traffic Volume vs temperature</th>\n",
       "      <td>1974.686526</td>\n",
       "      <td>1973.504927</td>\n",
       "    </tr>\n",
       "    <tr>\n",
       "      <th>Traffic Volume vs rain_p_h</th>\n",
       "      <td>1995.214726</td>\n",
       "      <td>4899.562748</td>\n",
       "    </tr>\n",
       "    <tr>\n",
       "      <th>Traffic Volume vs snow_p_h</th>\n",
       "      <td>1989.692389</td>\n",
       "      <td>1995.286995</td>\n",
       "    </tr>\n",
       "    <tr>\n",
       "      <th>Traffic Volume vs clouds_all</th>\n",
       "      <td>1985.177219</td>\n",
       "      <td>2000.964737</td>\n",
       "    </tr>\n",
       "    <tr>\n",
       "      <th>Traffic Volume vs All Columns</th>\n",
       "      <td>1968.985061</td>\n",
       "      <td>1972.545101</td>\n",
       "    </tr>\n",
       "  </tbody>\n",
       "</table>\n",
       "</div>"
      ],
      "text/plain": [
       "                                        Train RMSE    Test RMSE\n",
       "Traffic Volume vs air_pollution_index  1995.421009  1981.702395\n",
       "Traffic Volume vs humidity             1990.130387  1993.712433\n",
       "Traffic Volume vs wind_speed           1984.993315  2005.629712\n",
       "Traffic Volume vs wind_direction       1990.795547  1992.131007\n",
       "Traffic Volume vs visibility_in_miles  1985.120704  2005.773688\n",
       "Traffic Volume vs dew_point            1990.308200  1993.767918\n",
       "Traffic Volume vs temperature          1974.686526  1973.504927\n",
       "Traffic Volume vs rain_p_h             1995.214726  4899.562748\n",
       "Traffic Volume vs snow_p_h             1989.692389  1995.286995\n",
       "Traffic Volume vs clouds_all           1985.177219  2000.964737\n",
       "Traffic Volume vs All Columns          1968.985061  1972.545101"
      ]
     },
     "execution_count": 38,
     "metadata": {},
     "output_type": "execute_result"
    }
   ],
   "source": [
    "resdf"
   ]
  },
  {
   "cell_type": "code",
   "execution_count": 39,
   "metadata": {
    "execution": {
     "iopub.execute_input": "2021-05-20T08:14:37.720145Z",
     "iopub.status.busy": "2021-05-20T08:14:37.719754Z",
     "iopub.status.idle": "2021-05-20T08:14:37.891720Z",
     "shell.execute_reply": "2021-05-20T08:14:37.891259Z",
     "shell.execute_reply.started": "2021-05-20T08:14:37.720105Z"
    }
   },
   "outputs": [
    {
     "data": {
      "text/plain": [
       "<AxesSubplot:>"
      ]
     },
     "execution_count": 39,
     "metadata": {},
     "output_type": "execute_result"
    },
    {
     "data": {
      "image/png": "[encoded data removed]",
      "text/plain": [
       "<Figure size 432x288 with 1 Axes>"
      ]
     },
     "metadata": {
      "needs_background": "light"
     },
     "output_type": "display_data"
    }
   ],
   "source": [
    "data1.traffic_volume.hist()"
   ]
  },
  {
   "cell_type": "code",
   "execution_count": 40,
   "metadata": {
    "execution": {
     "iopub.execute_input": "2021-05-20T08:14:37.893086Z",
     "iopub.status.busy": "2021-05-20T08:14:37.892735Z",
     "iopub.status.idle": "2021-05-20T08:14:37.992144Z",
     "shell.execute_reply": "2021-05-20T08:14:37.991610Z",
     "shell.execute_reply.started": "2021-05-20T08:14:37.893046Z"
    }
   },
   "outputs": [
    {
     "data": {
      "text/plain": [
       "{'whiskers': [<matplotlib.lines.Line2D at 0x1f11e7cc9d0>,\n",
       "  <matplotlib.lines.Line2D at 0x1f11e7ccd60>],\n",
       " 'caps': [<matplotlib.lines.Line2D at 0x1f11e7da130>,\n",
       "  <matplotlib.lines.Line2D at 0x1f11e7da4c0>],\n",
       " 'boxes': [<matplotlib.lines.Line2D at 0x1f11e7cc640>],\n",
       " 'medians': [<matplotlib.lines.Line2D at 0x1f11e7da880>],\n",
       " 'fliers': [<matplotlib.lines.Line2D at 0x1f11e7dac10>],\n",
       " 'means': []}"
      ]
     },
     "execution_count": 40,
     "metadata": {},
     "output_type": "execute_result"
    },
    {
     "data": {
      "image/png": "[encoded data removed]",
      "text/plain": [
       "<Figure size 432x288 with 1 Axes>"
      ]
     },
     "metadata": {
      "needs_background": "light"
     },
     "output_type": "display_data"
    }
   ],
   "source": [
    "plt.boxplot(data1.traffic_volume)"
   ]
  },
  {
   "cell_type": "markdown",
   "metadata": {},
   "source": [
    "As per our observation, the regression of Traffic Volume is not strongly depending on any of the attributes.\n",
    "The RMSE for test data is around 2000 which is better than nothing to predict. "
   ]
  }
 ],
 "metadata": {
  "kernelspec": {
   "display_name": "base",
   "language": "python",
   "name": "python3"
  },
  "language_info": {
   "codemirror_mode": {
    "name": "ipython",
    "version": 3
   },
   "file_extension": ".py",
   "mimetype": "text/x-python",
   "name": "python",
   "nbconvert_exporter": "python",
   "pygments_lexer": "ipython3",
   "version": "3.9.7"
  },
  "vscode": {
   "interpreter": {
    "hash": "554d16f91212807607faa9486685a081685b9fb72cde3f895ae52345cfd51af2"
   }
  }
 },
 "nbformat": 4,
 "nbformat_minor": 4
}
