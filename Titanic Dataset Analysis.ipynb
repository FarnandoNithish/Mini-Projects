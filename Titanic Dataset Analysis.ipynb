{
 "cells": [
  {
   "cell_type": "code",
   "execution_count": 2,
   "id": "f3f51bd4",
   "metadata": {
    "execution": {
     "iopub.execute_input": "2022-12-23T09:57:47.856366Z",
     "iopub.status.busy": "2022-12-23T09:57:47.855327Z",
     "iopub.status.idle": "2022-12-23T09:57:50.412976Z",
     "shell.execute_reply": "2022-12-23T09:57:50.411666Z"
    },
    "papermill": {
     "duration": 2.578398,
     "end_time": "2022-12-23T09:57:50.416123",
     "exception": false,
     "start_time": "2022-12-23T09:57:47.837725",
     "status": "completed"
    },
    "tags": []
   },
   "outputs": [],
   "source": [
    "#IMPORTING LIBRARIES\n",
    "import pandas as pd\n",
    "import plotly.express as px\n",
    "import seaborn as sns\n",
    "import matplotlib.pyplot as plt\n",
    "import numpy as np\n",
    "%matplotlib inline\n",
    "sns.set_style(\"whitegrid\")\n",
    "from sklearn import preprocessing\n",
    "import warnings\n",
    "warnings.filterwarnings('ignore')"
   ]
  },
  {
   "cell_type": "code",
   "execution_count": 3,
   "id": "671edfbd",
   "metadata": {
    "execution": {
     "iopub.execute_input": "2022-12-23T09:57:50.449388Z",
     "iopub.status.busy": "2022-12-23T09:57:50.448703Z",
     "iopub.status.idle": "2022-12-23T09:57:50.466520Z",
     "shell.execute_reply": "2022-12-23T09:57:50.465383Z"
    },
    "papermill": {
     "duration": 0.037917,
     "end_time": "2022-12-23T09:57:50.468996",
     "exception": false,
     "start_time": "2022-12-23T09:57:50.431079",
     "status": "completed"
    },
    "tags": []
   },
   "outputs": [],
   "source": [
    "sns.set(style=\"darkgrid\")\n",
    "plt.style.use('ggplot')\n",
    "from scipy import stats\n",
    "import os\n",
    "for dirname, _, filenames in os.walk('/kaggle/input'):\n",
    "    for filename in filenames:\n",
    "        print(os.path.join(dirname, filename))"
   ]
  },
  {
   "cell_type": "code",
   "execution_count": 4,
   "id": "4257c36e",
   "metadata": {
    "execution": {
     "iopub.execute_input": "2022-12-23T09:57:50.500296Z",
     "iopub.status.busy": "2022-12-23T09:57:50.499756Z",
     "iopub.status.idle": "2022-12-23T09:57:50.553597Z",
     "shell.execute_reply": "2022-12-23T09:57:50.552253Z"
    },
    "papermill": {
     "duration": 0.072774,
     "end_time": "2022-12-23T09:57:50.556472",
     "exception": false,
     "start_time": "2022-12-23T09:57:50.483698",
     "status": "completed"
    },
    "tags": []
   },
   "outputs": [
    {
     "data": {
      "text/html": [
       "<div>\n",
       "<style scoped>\n",
       "    .dataframe tbody tr th:only-of-type {\n",
       "        vertical-align: middle;\n",
       "    }\n",
       "\n",
       "    .dataframe tbody tr th {\n",
       "        vertical-align: top;\n",
       "    }\n",
       "\n",
       "    .dataframe thead th {\n",
       "        text-align: right;\n",
       "    }\n",
       "</style>\n",
       "<table border=\"1\" class=\"dataframe\">\n",
       "  <thead>\n",
       "    <tr style=\"text-align: right;\">\n",
       "      <th></th>\n",
       "      <th>PassengerId</th>\n",
       "      <th>Survived</th>\n",
       "      <th>Pclass</th>\n",
       "      <th>Name</th>\n",
       "      <th>Sex</th>\n",
       "      <th>Age</th>\n",
       "      <th>SibSp</th>\n",
       "      <th>Parch</th>\n",
       "      <th>Ticket</th>\n",
       "      <th>Fare</th>\n",
       "      <th>Cabin</th>\n",
       "      <th>Embarked</th>\n",
       "    </tr>\n",
       "  </thead>\n",
       "  <tbody>\n",
       "    <tr>\n",
       "      <th>0</th>\n",
       "      <td>892</td>\n",
       "      <td>0</td>\n",
       "      <td>3</td>\n",
       "      <td>Kelly, Mr. James</td>\n",
       "      <td>male</td>\n",
       "      <td>34.5</td>\n",
       "      <td>0</td>\n",
       "      <td>0</td>\n",
       "      <td>330911</td>\n",
       "      <td>7.8292</td>\n",
       "      <td>NaN</td>\n",
       "      <td>Q</td>\n",
       "    </tr>\n",
       "    <tr>\n",
       "      <th>1</th>\n",
       "      <td>893</td>\n",
       "      <td>1</td>\n",
       "      <td>3</td>\n",
       "      <td>Wilkes, Mrs. James (Ellen Needs)</td>\n",
       "      <td>female</td>\n",
       "      <td>47.0</td>\n",
       "      <td>1</td>\n",
       "      <td>0</td>\n",
       "      <td>363272</td>\n",
       "      <td>7.0000</td>\n",
       "      <td>NaN</td>\n",
       "      <td>S</td>\n",
       "    </tr>\n",
       "    <tr>\n",
       "      <th>2</th>\n",
       "      <td>894</td>\n",
       "      <td>0</td>\n",
       "      <td>2</td>\n",
       "      <td>Myles, Mr. Thomas Francis</td>\n",
       "      <td>male</td>\n",
       "      <td>62.0</td>\n",
       "      <td>0</td>\n",
       "      <td>0</td>\n",
       "      <td>240276</td>\n",
       "      <td>9.6875</td>\n",
       "      <td>NaN</td>\n",
       "      <td>Q</td>\n",
       "    </tr>\n",
       "    <tr>\n",
       "      <th>3</th>\n",
       "      <td>895</td>\n",
       "      <td>0</td>\n",
       "      <td>3</td>\n",
       "      <td>Wirz, Mr. Albert</td>\n",
       "      <td>male</td>\n",
       "      <td>27.0</td>\n",
       "      <td>0</td>\n",
       "      <td>0</td>\n",
       "      <td>315154</td>\n",
       "      <td>8.6625</td>\n",
       "      <td>NaN</td>\n",
       "      <td>S</td>\n",
       "    </tr>\n",
       "    <tr>\n",
       "      <th>4</th>\n",
       "      <td>896</td>\n",
       "      <td>1</td>\n",
       "      <td>3</td>\n",
       "      <td>Hirvonen, Mrs. Alexander (Helga E Lindqvist)</td>\n",
       "      <td>female</td>\n",
       "      <td>22.0</td>\n",
       "      <td>1</td>\n",
       "      <td>1</td>\n",
       "      <td>3101298</td>\n",
       "      <td>12.2875</td>\n",
       "      <td>NaN</td>\n",
       "      <td>S</td>\n",
       "    </tr>\n",
       "    <tr>\n",
       "      <th>...</th>\n",
       "      <td>...</td>\n",
       "      <td>...</td>\n",
       "      <td>...</td>\n",
       "      <td>...</td>\n",
       "      <td>...</td>\n",
       "      <td>...</td>\n",
       "      <td>...</td>\n",
       "      <td>...</td>\n",
       "      <td>...</td>\n",
       "      <td>...</td>\n",
       "      <td>...</td>\n",
       "      <td>...</td>\n",
       "    </tr>\n",
       "    <tr>\n",
       "      <th>413</th>\n",
       "      <td>1305</td>\n",
       "      <td>0</td>\n",
       "      <td>3</td>\n",
       "      <td>Spector, Mr. Woolf</td>\n",
       "      <td>male</td>\n",
       "      <td>NaN</td>\n",
       "      <td>0</td>\n",
       "      <td>0</td>\n",
       "      <td>A.5. 3236</td>\n",
       "      <td>8.0500</td>\n",
       "      <td>NaN</td>\n",
       "      <td>S</td>\n",
       "    </tr>\n",
       "    <tr>\n",
       "      <th>414</th>\n",
       "      <td>1306</td>\n",
       "      <td>1</td>\n",
       "      <td>1</td>\n",
       "      <td>Oliva y Ocana, Dona. Fermina</td>\n",
       "      <td>female</td>\n",
       "      <td>39.0</td>\n",
       "      <td>0</td>\n",
       "      <td>0</td>\n",
       "      <td>PC 17758</td>\n",
       "      <td>108.9000</td>\n",
       "      <td>C105</td>\n",
       "      <td>C</td>\n",
       "    </tr>\n",
       "    <tr>\n",
       "      <th>415</th>\n",
       "      <td>1307</td>\n",
       "      <td>0</td>\n",
       "      <td>3</td>\n",
       "      <td>Saether, Mr. Simon Sivertsen</td>\n",
       "      <td>male</td>\n",
       "      <td>38.5</td>\n",
       "      <td>0</td>\n",
       "      <td>0</td>\n",
       "      <td>SOTON/O.Q. 3101262</td>\n",
       "      <td>7.2500</td>\n",
       "      <td>NaN</td>\n",
       "      <td>S</td>\n",
       "    </tr>\n",
       "    <tr>\n",
       "      <th>416</th>\n",
       "      <td>1308</td>\n",
       "      <td>0</td>\n",
       "      <td>3</td>\n",
       "      <td>Ware, Mr. Frederick</td>\n",
       "      <td>male</td>\n",
       "      <td>NaN</td>\n",
       "      <td>0</td>\n",
       "      <td>0</td>\n",
       "      <td>359309</td>\n",
       "      <td>8.0500</td>\n",
       "      <td>NaN</td>\n",
       "      <td>S</td>\n",
       "    </tr>\n",
       "    <tr>\n",
       "      <th>417</th>\n",
       "      <td>1309</td>\n",
       "      <td>0</td>\n",
       "      <td>3</td>\n",
       "      <td>Peter, Master. Michael J</td>\n",
       "      <td>male</td>\n",
       "      <td>NaN</td>\n",
       "      <td>1</td>\n",
       "      <td>1</td>\n",
       "      <td>2668</td>\n",
       "      <td>22.3583</td>\n",
       "      <td>NaN</td>\n",
       "      <td>C</td>\n",
       "    </tr>\n",
       "  </tbody>\n",
       "</table>\n",
       "<p>418 rows × 12 columns</p>\n",
       "</div>"
      ],
      "text/plain": [
       "     PassengerId  Survived  Pclass  \\\n",
       "0            892         0       3   \n",
       "1            893         1       3   \n",
       "2            894         0       2   \n",
       "3            895         0       3   \n",
       "4            896         1       3   \n",
       "..           ...       ...     ...   \n",
       "413         1305         0       3   \n",
       "414         1306         1       1   \n",
       "415         1307         0       3   \n",
       "416         1308         0       3   \n",
       "417         1309         0       3   \n",
       "\n",
       "                                             Name     Sex   Age  SibSp  Parch  \\\n",
       "0                                Kelly, Mr. James    male  34.5      0      0   \n",
       "1                Wilkes, Mrs. James (Ellen Needs)  female  47.0      1      0   \n",
       "2                       Myles, Mr. Thomas Francis    male  62.0      0      0   \n",
       "3                                Wirz, Mr. Albert    male  27.0      0      0   \n",
       "4    Hirvonen, Mrs. Alexander (Helga E Lindqvist)  female  22.0      1      1   \n",
       "..                                            ...     ...   ...    ...    ...   \n",
       "413                            Spector, Mr. Woolf    male   NaN      0      0   \n",
       "414                  Oliva y Ocana, Dona. Fermina  female  39.0      0      0   \n",
       "415                  Saether, Mr. Simon Sivertsen    male  38.5      0      0   \n",
       "416                           Ware, Mr. Frederick    male   NaN      0      0   \n",
       "417                      Peter, Master. Michael J    male   NaN      1      1   \n",
       "\n",
       "                 Ticket      Fare Cabin Embarked  \n",
       "0                330911    7.8292   NaN        Q  \n",
       "1                363272    7.0000   NaN        S  \n",
       "2                240276    9.6875   NaN        Q  \n",
       "3                315154    8.6625   NaN        S  \n",
       "4               3101298   12.2875   NaN        S  \n",
       "..                  ...       ...   ...      ...  \n",
       "413           A.5. 3236    8.0500   NaN        S  \n",
       "414            PC 17758  108.9000  C105        C  \n",
       "415  SOTON/O.Q. 3101262    7.2500   NaN        S  \n",
       "416              359309    8.0500   NaN        S  \n",
       "417                2668   22.3583   NaN        C  \n",
       "\n",
       "[418 rows x 12 columns]"
      ]
     },
     "execution_count": 4,
     "metadata": {},
     "output_type": "execute_result"
    }
   ],
   "source": [
    "#Load Titanic dataset\n",
    "pd.read_csv(\"C://Users//FARNANDO//Downloads//tested.csv\")"
   ]
  },
  {
   "cell_type": "code",
   "execution_count": 5,
   "id": "e6053c6b",
   "metadata": {
    "execution": {
     "iopub.execute_input": "2022-12-23T09:57:50.588995Z",
     "iopub.status.busy": "2022-12-23T09:57:50.588133Z",
     "iopub.status.idle": "2022-12-23T09:57:50.599148Z",
     "shell.execute_reply": "2022-12-23T09:57:50.598262Z"
    },
    "papermill": {
     "duration": 0.030492,
     "end_time": "2022-12-23T09:57:50.601986",
     "exception": false,
     "start_time": "2022-12-23T09:57:50.571494",
     "status": "completed"
    },
    "tags": []
   },
   "outputs": [],
   "source": [
    "#To make it easier to store data in df format\n",
    "df = pd.read_csv(\"C://Users//FARNANDO//Downloads//tested.csv\")"
   ]
  },
  {
   "cell_type": "code",
   "execution_count": 6,
   "id": "4c0b5e00",
   "metadata": {
    "execution": {
     "iopub.execute_input": "2022-12-23T09:57:50.679551Z",
     "iopub.status.busy": "2022-12-23T09:57:50.678794Z",
     "iopub.status.idle": "2022-12-23T09:57:50.685976Z",
     "shell.execute_reply": "2022-12-23T09:57:50.684148Z"
    },
    "papermill": {
     "duration": 0.026169,
     "end_time": "2022-12-23T09:57:50.688373",
     "exception": false,
     "start_time": "2022-12-23T09:57:50.662204",
     "status": "completed"
    },
    "tags": []
   },
   "outputs": [
    {
     "name": "stdout",
     "output_type": "stream",
     "text": [
      "['PassengerId' 'Survived' 'Pclass' 'Name' 'Sex' 'Age' 'SibSp' 'Parch'\n",
      " 'Ticket' 'Fare' 'Cabin' 'Embarked']\n"
     ]
    }
   ],
   "source": [
    "print(df.columns.values)"
   ]
  },
  {
   "cell_type": "code",
   "execution_count": 7,
   "id": "68073677",
   "metadata": {
    "execution": {
     "iopub.execute_input": "2022-12-23T09:57:50.721618Z",
     "iopub.status.busy": "2022-12-23T09:57:50.720755Z",
     "iopub.status.idle": "2022-12-23T09:57:50.728959Z",
     "shell.execute_reply": "2022-12-23T09:57:50.728128Z"
    },
    "papermill": {
     "duration": 0.027388,
     "end_time": "2022-12-23T09:57:50.731102",
     "exception": false,
     "start_time": "2022-12-23T09:57:50.703714",
     "status": "completed"
    },
    "tags": []
   },
   "outputs": [
    {
     "data": {
      "text/plain": [
       "PassengerId      int64\n",
       "Survived         int64\n",
       "Pclass           int64\n",
       "Name            object\n",
       "Sex             object\n",
       "Age            float64\n",
       "SibSp            int64\n",
       "Parch            int64\n",
       "Ticket          object\n",
       "Fare           float64\n",
       "Cabin           object\n",
       "Embarked        object\n",
       "dtype: object"
      ]
     },
     "execution_count": 7,
     "metadata": {},
     "output_type": "execute_result"
    }
   ],
   "source": [
    "#Display all the column names\n",
    "df.dtypes"
   ]
  },
  {
   "cell_type": "code",
   "execution_count": 8,
   "id": "4637386d",
   "metadata": {
    "execution": {
     "iopub.execute_input": "2022-12-23T09:57:50.763104Z",
     "iopub.status.busy": "2022-12-23T09:57:50.762227Z",
     "iopub.status.idle": "2022-12-23T09:57:50.778948Z",
     "shell.execute_reply": "2022-12-23T09:57:50.777821Z"
    },
    "papermill": {
     "duration": 0.035429,
     "end_time": "2022-12-23T09:57:50.781441",
     "exception": false,
     "start_time": "2022-12-23T09:57:50.746012",
     "status": "completed"
    },
    "tags": []
   },
   "outputs": [
    {
     "data": {
      "text/plain": [
       "array(['Kelly, Mr. James', 'Wilkes, Mrs. James (Ellen Needs)',\n",
       "       'Myles, Mr. Thomas Francis', 'Wirz, Mr. Albert',\n",
       "       'Hirvonen, Mrs. Alexander (Helga E Lindqvist)',\n",
       "       'Svensson, Mr. Johan Cervin', 'Connolly, Miss. Kate',\n",
       "       'Caldwell, Mr. Albert Francis',\n",
       "       'Abrahim, Mrs. Joseph (Sophie Halaut Easu)',\n",
       "       'Davies, Mr. John Samuel', 'Ilieff, Mr. Ylio',\n",
       "       'Jones, Mr. Charles Cresson',\n",
       "       'Snyder, Mrs. John Pillsbury (Nelle Stevenson)',\n",
       "       'Howard, Mr. Benjamin',\n",
       "       'Chaffee, Mrs. Herbert Fuller (Carrie Constance Toogood)',\n",
       "       'del Carlo, Mrs. Sebastiano (Argenia Genovesi)',\n",
       "       'Keane, Mr. Daniel', 'Assaf, Mr. Gerios',\n",
       "       'Ilmakangas, Miss. Ida Livija',\n",
       "       'Assaf Khalil, Mrs. Mariana (Miriam\")\"', 'Rothschild, Mr. Martin',\n",
       "       'Olsen, Master. Artur Karl',\n",
       "       'Flegenheim, Mrs. Alfred (Antoinette)',\n",
       "       'Williams, Mr. Richard Norris II',\n",
       "       'Ryerson, Mrs. Arthur Larned (Emily Maria Borie)',\n",
       "       'Robins, Mr. Alexander A', 'Ostby, Miss. Helene Ragnhild',\n",
       "       'Daher, Mr. Shedid', 'Brady, Mr. John Bertram',\n",
       "       'Samaan, Mr. Elias', 'Louch, Mr. Charles Alexander',\n",
       "       'Jefferys, Mr. Clifford Thomas',\n",
       "       'Dean, Mrs. Bertram (Eva Georgetta Light)',\n",
       "       'Johnston, Mrs. Andrew G (Elizabeth Lily\" Watson)\"',\n",
       "       'Mock, Mr. Philipp Edmund',\n",
       "       'Katavelas, Mr. Vassilios (Catavelas Vassilios\")\"',\n",
       "       'Roth, Miss. Sarah A', 'Cacic, Miss. Manda', 'Sap, Mr. Julius',\n",
       "       'Hee, Mr. Ling', 'Karun, Mr. Franz', 'Franklin, Mr. Thomas Parham',\n",
       "       'Goldsmith, Mr. Nathan', 'Corbett, Mrs. Walter H (Irene Colvin)',\n",
       "       'Kimball, Mrs. Edwin Nelson Jr (Gertrude Parsons)',\n",
       "       'Peltomaki, Mr. Nikolai Johannes', 'Chevre, Mr. Paul Romaine',\n",
       "       'Shaughnessy, Mr. Patrick',\n",
       "       'Bucknell, Mrs. William Robert (Emma Eliza Ward)',\n",
       "       'Coutts, Mrs. William (Winnie Minnie\" Treanor)\"',\n",
       "       'Smith, Mr. Lucien Philip', 'Pulbaum, Mr. Franz',\n",
       "       'Hocking, Miss. Ellen Nellie\"\"', 'Fortune, Miss. Ethel Flora',\n",
       "       'Mangiavacchi, Mr. Serafino Emilio', 'Rice, Master. Albert',\n",
       "       'Cor, Mr. Bartol', 'Abelseth, Mr. Olaus Jorgensen',\n",
       "       'Davison, Mr. Thomas Henry', 'Chaudanson, Miss. Victorine',\n",
       "       'Dika, Mr. Mirko', 'McCrae, Mr. Arthur Gordon',\n",
       "       'Bjorklund, Mr. Ernst Herbert', 'Bradley, Miss. Bridget Delia',\n",
       "       'Ryerson, Master. John Borie',\n",
       "       'Corey, Mrs. Percy C (Mary Phyllis Elizabeth Miller)',\n",
       "       'Burns, Miss. Mary Delia', 'Moore, Mr. Clarence Bloomfield',\n",
       "       'Tucker, Mr. Gilbert Milligan Jr',\n",
       "       'Fortune, Mrs. Mark (Mary McDougald)', 'Mulvihill, Miss. Bertha E',\n",
       "       'Minkoff, Mr. Lazar', 'Nieminen, Miss. Manta Josefina',\n",
       "       'Ovies y Rodriguez, Mr. Servando', 'Geiger, Miss. Amalie',\n",
       "       'Keeping, Mr. Edwin', 'Miles, Mr. Frank',\n",
       "       'Cornell, Mrs. Robert Clifford (Malvina Helen Lamson)',\n",
       "       'Aldworth, Mr. Charles Augustus', 'Doyle, Miss. Elizabeth',\n",
       "       'Boulos, Master. Akar', 'Straus, Mr. Isidor',\n",
       "       'Case, Mr. Howard Brown', 'Demetri, Mr. Marinko',\n",
       "       'Lamb, Mr. John Joseph', 'Khalil, Mr. Betros',\n",
       "       'Barry, Miss. Julia', 'Badman, Miss. Emily Louisa',\n",
       "       \"O'Donoghue, Ms. Bridget\", 'Wells, Master. Ralph Lester',\n",
       "       'Dyker, Mrs. Adolf Fredrik (Anna Elisabeth Judith Andersson)',\n",
       "       'Pedersen, Mr. Olaf', 'Davidson, Mrs. Thornton (Orian Hays)',\n",
       "       'Guest, Mr. Robert', 'Birnbaum, Mr. Jakob',\n",
       "       'Tenglin, Mr. Gunnar Isidor',\n",
       "       'Cavendish, Mrs. Tyrell William (Julia Florence Siegel)',\n",
       "       'Makinen, Mr. Kalle Edvard', 'Braf, Miss. Elin Ester Maria',\n",
       "       'Nancarrow, Mr. William Henry',\n",
       "       'Stengel, Mrs. Charles Emil Henry (Annie May Morris)',\n",
       "       'Weisz, Mr. Leopold', 'Foley, Mr. William',\n",
       "       'Johansson Palmquist, Mr. Oskar Leander',\n",
       "       'Thomas, Mrs. Alexander (Thamine Thelma\")\"',\n",
       "       'Holthen, Mr. Johan Martin', 'Buckley, Mr. Daniel',\n",
       "       'Ryan, Mr. Edward', 'Willer, Mr. Aaron (Abi Weller\")\"',\n",
       "       'Swane, Mr. George', 'Stanton, Mr. Samuel Ward',\n",
       "       'Shine, Miss. Ellen Natalia', 'Evans, Miss. Edith Corse',\n",
       "       'Buckley, Miss. Katherine',\n",
       "       'Straus, Mrs. Isidor (Rosalie Ida Blun)',\n",
       "       'Chronopoulos, Mr. Demetrios', 'Thomas, Mr. John',\n",
       "       'Sandstrom, Miss. Beatrice Irene', 'Beattie, Mr. Thomson',\n",
       "       'Chapman, Mrs. John Henry (Sara Elizabeth Lawry)',\n",
       "       'Watt, Miss. Bertha J', 'Kiernan, Mr. John',\n",
       "       'Schabert, Mrs. Paul (Emma Mock)', 'Carver, Mr. Alfred John',\n",
       "       'Kennedy, Mr. John', 'Cribb, Miss. Laura Alice',\n",
       "       'Brobeck, Mr. Karl Rudolf', 'McCoy, Miss. Alicia',\n",
       "       'Bowenur, Mr. Solomon', 'Petersen, Mr. Marius',\n",
       "       'Spinner, Mr. Henry John', 'Gracie, Col. Archibald IV',\n",
       "       'Lefebre, Mrs. Frank (Frances)', 'Thomas, Mr. Charles P',\n",
       "       'Dintcheff, Mr. Valtcho', 'Carlsson, Mr. Carl Robert',\n",
       "       'Zakarian, Mr. Mapriededer', 'Schmidt, Mr. August',\n",
       "       'Drapkin, Miss. Jennie', 'Goodwin, Mr. Charles Frederick',\n",
       "       'Goodwin, Miss. Jessie Allis', 'Daniels, Miss. Sarah',\n",
       "       'Ryerson, Mr. Arthur Larned', 'Beauchamp, Mr. Henry James',\n",
       "       'Lindeberg-Lind, Mr. Erik Gustaf (Mr Edward Lingrey\")\"',\n",
       "       'Vander Planke, Mr. Julius', 'Hilliard, Mr. Herbert Henry',\n",
       "       'Davies, Mr. Evan', 'Crafton, Mr. John Bertram',\n",
       "       'Lahtinen, Rev. William', 'Earnshaw, Mrs. Boulton (Olive Potter)',\n",
       "       'Matinoff, Mr. Nicola', 'Storey, Mr. Thomas',\n",
       "       'Klasen, Mrs. (Hulda Kristina Eugenia Lofqvist)',\n",
       "       'Asplund, Master. Filip Oscar', 'Duquemin, Mr. Joseph',\n",
       "       'Bird, Miss. Ellen', 'Lundin, Miss. Olga Elida',\n",
       "       'Borebank, Mr. John James', 'Peacock, Mrs. Benjamin (Edith Nile)',\n",
       "       'Smyth, Miss. Julia', 'Touma, Master. Georges Youssef',\n",
       "       'Wright, Miss. Marion', 'Pearce, Mr. Ernest',\n",
       "       'Peruschitz, Rev. Joseph Maria',\n",
       "       'Kink-Heilmann, Mrs. Anton (Luise Heilmann)', 'Brandeis, Mr. Emil',\n",
       "       'Ford, Mr. Edward Watson',\n",
       "       'Cassebeer, Mrs. Henry Arthur Jr (Eleanor Genevieve Fosdick)',\n",
       "       'Hellstrom, Miss. Hilda Maria', 'Lithman, Mr. Simon',\n",
       "       'Zakarian, Mr. Ortin', 'Dyker, Mr. Adolf Fredrik',\n",
       "       'Torfa, Mr. Assad', 'Asplund, Mr. Carl Oscar Vilhelm Gustafsson',\n",
       "       'Brown, Miss. Edith Eileen', 'Sincock, Miss. Maude',\n",
       "       'Stengel, Mr. Charles Emil Henry',\n",
       "       'Becker, Mrs. Allen Oliver (Nellie E Baumgardner)',\n",
       "       'Compton, Mrs. Alexander Taylor (Mary Eliza Ingersoll)',\n",
       "       'McCrie, Mr. James Matthew', 'Compton, Mr. Alexander Taylor Jr',\n",
       "       'Marvin, Mrs. Daniel Warner (Mary Graham Carmichael Farquarson)',\n",
       "       'Lane, Mr. Patrick',\n",
       "       'Douglas, Mrs. Frederick Charles (Mary Helene Baxter)',\n",
       "       'Maybery, Mr. Frank Hubert',\n",
       "       'Phillips, Miss. Alice Frances Louisa', 'Davies, Mr. Joseph',\n",
       "       'Sage, Miss. Ada', 'Veal, Mr. James', 'Angle, Mr. William A',\n",
       "       'Salomon, Mr. Abraham L', 'van Billiard, Master. Walter John',\n",
       "       'Lingane, Mr. John', 'Drew, Master. Marshall Brines',\n",
       "       'Karlsson, Mr. Julius Konrad Eugen',\n",
       "       'Spedden, Master. Robert Douglas', 'Nilsson, Miss. Berta Olivia',\n",
       "       'Baimbrigge, Mr. Charles Robert',\n",
       "       'Rasmussen, Mrs. (Lena Jacobsen Solvang)', 'Murphy, Miss. Nora',\n",
       "       'Danbom, Master. Gilbert Sigvard Emanuel',\n",
       "       'Astor, Col. John Jacob', 'Quick, Miss. Winifred Vera',\n",
       "       'Andrew, Mr. Frank Thomas', 'Omont, Mr. Alfred Fernand',\n",
       "       'McGowan, Miss. Katherine', 'Collett, Mr. Sidney C Stuart',\n",
       "       'Rosenbaum, Miss. Edith Louise', 'Delalic, Mr. Redjo',\n",
       "       'Andersen, Mr. Albert Karvin', 'Finoli, Mr. Luigi',\n",
       "       'Deacon, Mr. Percy William',\n",
       "       'Howard, Mrs. Benjamin (Ellen Truelove Arman)',\n",
       "       'Andersson, Miss. Ida Augusta Margareta', 'Head, Mr. Christopher',\n",
       "       'Mahon, Miss. Bridget Delia', 'Wick, Mr. George Dennick',\n",
       "       'Widener, Mrs. George Dunton (Eleanor Elkins)',\n",
       "       'Thomson, Mr. Alexander Morrison',\n",
       "       'Duran y More, Miss. Florentina', 'Reynolds, Mr. Harold J',\n",
       "       'Cook, Mrs. (Selena Rogers)', 'Karlsson, Mr. Einar Gervasius',\n",
       "       'Candee, Mrs. Edward (Helen Churchill Hungerford)',\n",
       "       'Moubarek, Mrs. George (Omine Amenia\" Alexander)\"',\n",
       "       'Asplund, Mr. Johan Charles', 'McNeill, Miss. Bridget',\n",
       "       'Everett, Mr. Thomas James', 'Hocking, Mr. Samuel James Metcalfe',\n",
       "       'Sweet, Mr. George Frederick', 'Willard, Miss. Constance',\n",
       "       'Wiklund, Mr. Karl Johan', 'Linehan, Mr. Michael',\n",
       "       'Cumings, Mr. John Bradley', 'Vendel, Mr. Olof Edvin',\n",
       "       'Warren, Mr. Frank Manley', 'Baccos, Mr. Raffull',\n",
       "       'Hiltunen, Miss. Marta',\n",
       "       'Douglas, Mrs. Walter Donald (Mahala Dutton)',\n",
       "       'Lindstrom, Mrs. Carl Johan (Sigrid Posse)',\n",
       "       'Christy, Mrs. (Alice Frances)', 'Spedden, Mr. Frederic Oakley',\n",
       "       'Hyman, Mr. Abraham', 'Johnston, Master. William Arthur Willie\"\"',\n",
       "       'Kenyon, Mr. Frederick R', 'Karnes, Mrs. J Frank (Claire Bennett)',\n",
       "       'Drew, Mr. James Vivian',\n",
       "       'Hold, Mrs. Stephen (Annie Margaret Hill)',\n",
       "       'Khalil, Mrs. Betros (Zahie Maria\" Elias)\"',\n",
       "       'West, Miss. Barbara J',\n",
       "       'Abrahamsson, Mr. Abraham August Johannes',\n",
       "       'Clark, Mr. Walter Miller', 'Salander, Mr. Karl Johan',\n",
       "       'Wenzel, Mr. Linhart', 'MacKay, Mr. George William',\n",
       "       'Mahon, Mr. John', 'Niklasson, Mr. Samuel',\n",
       "       'Bentham, Miss. Lilian W', 'Midtsjo, Mr. Karl Albert',\n",
       "       'de Messemaeker, Mr. Guillaume Joseph',\n",
       "       'Nilsson, Mr. August Ferdinand',\n",
       "       'Wells, Mrs. Arthur Henry (Addie\" Dart Trevaskis)\"',\n",
       "       'Klasen, Miss. Gertrud Emilia',\n",
       "       'Portaluppi, Mr. Emilio Ilario Giuseppe', 'Lyntakoff, Mr. Stanko',\n",
       "       'Chisholm, Mr. Roderick Robert Crispin',\n",
       "       'Warren, Mr. Charles William', 'Howard, Miss. May Elizabeth',\n",
       "       'Pokrnic, Mr. Mate', 'McCaffry, Mr. Thomas Francis',\n",
       "       'Fox, Mr. Patrick',\n",
       "       'Clark, Mrs. Walter Miller (Virginia McDowell)',\n",
       "       'Lennon, Miss. Mary', 'Saade, Mr. Jean Nassr',\n",
       "       'Bryhl, Miss. Dagmar Jenny Ingeborg ',\n",
       "       'Parker, Mr. Clifford Richard', 'Faunthorpe, Mr. Harry',\n",
       "       'Ware, Mr. John James', 'Oxenham, Mr. Percy Thomas',\n",
       "       'Oreskovic, Miss. Jelka', 'Peacock, Master. Alfred Edward',\n",
       "       'Fleming, Miss. Honora', 'Touma, Miss. Maria Youssef',\n",
       "       'Rosblom, Miss. Salli Helena', 'Dennis, Mr. William',\n",
       "       'Franklin, Mr. Charles (Charles Fardon)',\n",
       "       'Snyder, Mr. John Pillsbury', 'Mardirosian, Mr. Sarkis',\n",
       "       'Ford, Mr. Arthur', 'Rheims, Mr. George Alexander Lucien',\n",
       "       'Daly, Miss. Margaret Marcella Maggie\"\"', 'Nasr, Mr. Mustafa',\n",
       "       'Dodge, Dr. Washington', 'Wittevrongel, Mr. Camille',\n",
       "       'Angheloff, Mr. Minko', 'Laroche, Miss. Louise',\n",
       "       'Samaan, Mr. Hanna', 'Loring, Mr. Joseph Holland',\n",
       "       'Johansson, Mr. Nils', 'Olsson, Mr. Oscar Wilhelm',\n",
       "       'Malachard, Mr. Noel', 'Phillips, Mr. Escott Robert',\n",
       "       'Pokrnic, Mr. Tome', 'McCarthy, Miss. Catherine Katie\"\"',\n",
       "       'Crosby, Mrs. Edward Gifford (Catherine Elizabeth Halstead)',\n",
       "       'Allison, Mr. Hudson Joshua Creighton',\n",
       "       'Aks, Master. Philip Frank', 'Hays, Mr. Charles Melville',\n",
       "       'Hansen, Mrs. Claus Peter (Jennie L Howard)',\n",
       "       'Cacic, Mr. Jego Grga', 'Vartanian, Mr. David',\n",
       "       'Sadowitz, Mr. Harry', 'Carr, Miss. Jeannie',\n",
       "       'White, Mrs. John Stuart (Ella Holmes)', 'Hagardon, Miss. Kate',\n",
       "       'Spencer, Mr. William Augustus', 'Rogers, Mr. Reginald Harry',\n",
       "       'Jonsson, Mr. Nils Hilding', 'Jefferys, Mr. Ernest Wilfred',\n",
       "       'Andersson, Mr. Johan Samuel', 'Krekorian, Mr. Neshan',\n",
       "       'Nesson, Mr. Israel', 'Rowe, Mr. Alfred G',\n",
       "       'Kreuchen, Miss. Emilie', 'Assam, Mr. Ali',\n",
       "       'Becker, Miss. Ruth Elizabeth',\n",
       "       'Rosenshine, Mr. George (Mr George Thorne\")\"',\n",
       "       'Clarke, Mr. Charles Valentine', 'Enander, Mr. Ingvar',\n",
       "       'Davies, Mrs. John Morgan (Elizabeth Agnes Mary White) ',\n",
       "       'Dulles, Mr. William Crothers', 'Thomas, Mr. Tannous',\n",
       "       'Nakid, Mrs. Said (Waika Mary\" Mowad)\"', 'Cor, Mr. Ivan',\n",
       "       'Maguire, Mr. John Edward', 'de Brito, Mr. Jose Joaquim',\n",
       "       'Elias, Mr. Joseph', 'Denbury, Mr. Herbert',\n",
       "       'Betros, Master. Seman', 'Fillbrook, Mr. Joseph Charles',\n",
       "       'Lundstrom, Mr. Thure Edvin', 'Sage, Mr. John George',\n",
       "       'Cardeza, Mrs. James Warburton Martinez (Charlotte Wardle Drake)',\n",
       "       'van Billiard, Master. James William',\n",
       "       'Abelseth, Miss. Karen Marie', 'Botsford, Mr. William Hull',\n",
       "       'Whabee, Mrs. George Joseph (Shawneene Abi-Saab)',\n",
       "       'Giles, Mr. Ralph', 'Walcroft, Miss. Nellie',\n",
       "       'Greenfield, Mrs. Leo David (Blanche Strouse)',\n",
       "       'Stokes, Mr. Philip Joseph', 'Dibden, Mr. William',\n",
       "       'Herman, Mr. Samuel', 'Dean, Miss. Elizabeth Gladys Millvina\"\"',\n",
       "       'Julian, Mr. Henry Forbes',\n",
       "       'Brown, Mrs. John Murray (Caroline Lane Lamson)',\n",
       "       'Lockyer, Mr. Edward', \"O'Keefe, Mr. Patrick\",\n",
       "       'Lindell, Mrs. Edvard Bengtsson (Elin Gerda Persson)',\n",
       "       'Sage, Master. William Henry',\n",
       "       'Mallet, Mrs. Albert (Antoinette Magnin)',\n",
       "       'Ware, Mrs. John James (Florence Louise Long)',\n",
       "       'Strilic, Mr. Ivan',\n",
       "       'Harder, Mrs. George Achilles (Dorothy Annan)',\n",
       "       'Sage, Mrs. John (Annie Bullen)', 'Caram, Mr. Joseph',\n",
       "       'Riihivouri, Miss. Susanna Juhantytar Sanni\"\"',\n",
       "       'Gibson, Mrs. Leonard (Pauline C Boeson)',\n",
       "       'Pallas y Castello, Mr. Emilio', 'Giles, Mr. Edgar',\n",
       "       'Wilson, Miss. Helen Alice', 'Ismay, Mr. Joseph Bruce',\n",
       "       'Harbeck, Mr. William H', 'Dodge, Mrs. Washington (Ruth Vidaver)',\n",
       "       'Bowen, Miss. Grace Scott', 'Kink, Miss. Maria',\n",
       "       'Cotterill, Mr. Henry Harry\"\"', 'Hipkins, Mr. William Edward',\n",
       "       'Asplund, Master. Carl Edgar', \"O'Connor, Mr. Patrick\",\n",
       "       'Foley, Mr. Joseph', 'Risien, Mrs. Samuel (Emma)',\n",
       "       \"McNamee, Mrs. Neal (Eileen O'Leary)\",\n",
       "       'Wheeler, Mr. Edwin Frederick\"\"', 'Herman, Miss. Kate',\n",
       "       'Aronsson, Mr. Ernst Axel Algot', 'Ashby, Mr. John',\n",
       "       'Canavan, Mr. Patrick', 'Palsson, Master. Paul Folke',\n",
       "       'Payne, Mr. Vivian Ponsonby',\n",
       "       'Lines, Mrs. Ernest H (Elizabeth Lindsey James)',\n",
       "       'Abbott, Master. Eugene Joseph', 'Gilbert, Mr. William',\n",
       "       'Kink-Heilmann, Mr. Anton',\n",
       "       'Smith, Mrs. Lucien Philip (Mary Eloise Hughes)',\n",
       "       'Colbert, Mr. Patrick',\n",
       "       'Frolicher-Stehli, Mrs. Maxmillian (Margaretha Emerentia Stehli)',\n",
       "       'Larsson-Rondberg, Mr. Edvard A', 'Conlon, Mr. Thomas Henry',\n",
       "       'Bonnell, Miss. Caroline', 'Gale, Mr. Harry',\n",
       "       'Gibson, Miss. Dorothy Winifred', 'Carrau, Mr. Jose Pedro',\n",
       "       'Frauenthal, Mr. Isaac Gerald',\n",
       "       'Nourney, Mr. Alfred (Baron von Drachstedt\")\"',\n",
       "       'Ware, Mr. William Jeffery', 'Widener, Mr. George Dunton',\n",
       "       'Riordan, Miss. Johanna Hannah\"\"', 'Peacock, Miss. Treasteall',\n",
       "       'Naughton, Miss. Hannah',\n",
       "       'Minahan, Mrs. William Edward (Lillian E Thorpe)',\n",
       "       'Henriksson, Miss. Jenny Lovisa', 'Spector, Mr. Woolf',\n",
       "       'Oliva y Ocana, Dona. Fermina', 'Saether, Mr. Simon Sivertsen',\n",
       "       'Ware, Mr. Frederick', 'Peter, Master. Michael J'], dtype=object)"
      ]
     },
     "execution_count": 8,
     "metadata": {},
     "output_type": "execute_result"
    }
   ],
   "source": [
    "#Display all passenger names\n",
    "df['Name'].unique()"
   ]
  },
  {
   "cell_type": "code",
   "execution_count": 9,
   "id": "4cc1323b",
   "metadata": {
    "execution": {
     "iopub.execute_input": "2022-12-23T09:57:50.816397Z",
     "iopub.status.busy": "2022-12-23T09:57:50.815304Z",
     "iopub.status.idle": "2022-12-23T09:57:50.854163Z",
     "shell.execute_reply": "2022-12-23T09:57:50.853008Z"
    },
    "papermill": {
     "duration": 0.059868,
     "end_time": "2022-12-23T09:57:50.856821",
     "exception": false,
     "start_time": "2022-12-23T09:57:50.796953",
     "status": "completed"
    },
    "tags": []
   },
   "outputs": [
    {
     "data": {
      "text/html": [
       "<div>\n",
       "<style scoped>\n",
       "    .dataframe tbody tr th:only-of-type {\n",
       "        vertical-align: middle;\n",
       "    }\n",
       "\n",
       "    .dataframe tbody tr th {\n",
       "        vertical-align: top;\n",
       "    }\n",
       "\n",
       "    .dataframe thead th {\n",
       "        text-align: right;\n",
       "    }\n",
       "</style>\n",
       "<table border=\"1\" class=\"dataframe\">\n",
       "  <thead>\n",
       "    <tr style=\"text-align: right;\">\n",
       "      <th></th>\n",
       "      <th>PassengerId</th>\n",
       "      <th>Survived</th>\n",
       "      <th>Pclass</th>\n",
       "      <th>Age</th>\n",
       "      <th>SibSp</th>\n",
       "      <th>Parch</th>\n",
       "      <th>Fare</th>\n",
       "    </tr>\n",
       "  </thead>\n",
       "  <tbody>\n",
       "    <tr>\n",
       "      <th>count</th>\n",
       "      <td>418.000000</td>\n",
       "      <td>418.000000</td>\n",
       "      <td>418.000000</td>\n",
       "      <td>332.000000</td>\n",
       "      <td>418.000000</td>\n",
       "      <td>418.000000</td>\n",
       "      <td>417.000000</td>\n",
       "    </tr>\n",
       "    <tr>\n",
       "      <th>mean</th>\n",
       "      <td>1100.500000</td>\n",
       "      <td>0.363636</td>\n",
       "      <td>2.265550</td>\n",
       "      <td>30.272590</td>\n",
       "      <td>0.447368</td>\n",
       "      <td>0.392344</td>\n",
       "      <td>35.627188</td>\n",
       "    </tr>\n",
       "    <tr>\n",
       "      <th>std</th>\n",
       "      <td>120.810458</td>\n",
       "      <td>0.481622</td>\n",
       "      <td>0.841838</td>\n",
       "      <td>14.181209</td>\n",
       "      <td>0.896760</td>\n",
       "      <td>0.981429</td>\n",
       "      <td>55.907576</td>\n",
       "    </tr>\n",
       "    <tr>\n",
       "      <th>min</th>\n",
       "      <td>892.000000</td>\n",
       "      <td>0.000000</td>\n",
       "      <td>1.000000</td>\n",
       "      <td>0.170000</td>\n",
       "      <td>0.000000</td>\n",
       "      <td>0.000000</td>\n",
       "      <td>0.000000</td>\n",
       "    </tr>\n",
       "    <tr>\n",
       "      <th>25%</th>\n",
       "      <td>996.250000</td>\n",
       "      <td>0.000000</td>\n",
       "      <td>1.000000</td>\n",
       "      <td>21.000000</td>\n",
       "      <td>0.000000</td>\n",
       "      <td>0.000000</td>\n",
       "      <td>7.895800</td>\n",
       "    </tr>\n",
       "    <tr>\n",
       "      <th>50%</th>\n",
       "      <td>1100.500000</td>\n",
       "      <td>0.000000</td>\n",
       "      <td>3.000000</td>\n",
       "      <td>27.000000</td>\n",
       "      <td>0.000000</td>\n",
       "      <td>0.000000</td>\n",
       "      <td>14.454200</td>\n",
       "    </tr>\n",
       "    <tr>\n",
       "      <th>75%</th>\n",
       "      <td>1204.750000</td>\n",
       "      <td>1.000000</td>\n",
       "      <td>3.000000</td>\n",
       "      <td>39.000000</td>\n",
       "      <td>1.000000</td>\n",
       "      <td>0.000000</td>\n",
       "      <td>31.500000</td>\n",
       "    </tr>\n",
       "    <tr>\n",
       "      <th>max</th>\n",
       "      <td>1309.000000</td>\n",
       "      <td>1.000000</td>\n",
       "      <td>3.000000</td>\n",
       "      <td>76.000000</td>\n",
       "      <td>8.000000</td>\n",
       "      <td>9.000000</td>\n",
       "      <td>512.329200</td>\n",
       "    </tr>\n",
       "  </tbody>\n",
       "</table>\n",
       "</div>"
      ],
      "text/plain": [
       "       PassengerId    Survived      Pclass         Age       SibSp  \\\n",
       "count   418.000000  418.000000  418.000000  332.000000  418.000000   \n",
       "mean   1100.500000    0.363636    2.265550   30.272590    0.447368   \n",
       "std     120.810458    0.481622    0.841838   14.181209    0.896760   \n",
       "min     892.000000    0.000000    1.000000    0.170000    0.000000   \n",
       "25%     996.250000    0.000000    1.000000   21.000000    0.000000   \n",
       "50%    1100.500000    0.000000    3.000000   27.000000    0.000000   \n",
       "75%    1204.750000    1.000000    3.000000   39.000000    1.000000   \n",
       "max    1309.000000    1.000000    3.000000   76.000000    8.000000   \n",
       "\n",
       "            Parch        Fare  \n",
       "count  418.000000  417.000000  \n",
       "mean     0.392344   35.627188  \n",
       "std      0.981429   55.907576  \n",
       "min      0.000000    0.000000  \n",
       "25%      0.000000    7.895800  \n",
       "50%      0.000000   14.454200  \n",
       "75%      0.000000   31.500000  \n",
       "max      9.000000  512.329200  "
      ]
     },
     "execution_count": 9,
     "metadata": {},
     "output_type": "execute_result"
    }
   ],
   "source": [
    "#More information about the dataset\n",
    "df.describe()"
   ]
  },
  {
   "cell_type": "code",
   "execution_count": 10,
   "id": "0770ad10",
   "metadata": {
    "execution": {
     "iopub.execute_input": "2022-12-23T09:57:50.891106Z",
     "iopub.status.busy": "2022-12-23T09:57:50.890719Z",
     "iopub.status.idle": "2022-12-23T09:57:50.908312Z",
     "shell.execute_reply": "2022-12-23T09:57:50.907072Z"
    },
    "papermill": {
     "duration": 0.037238,
     "end_time": "2022-12-23T09:57:50.910726",
     "exception": false,
     "start_time": "2022-12-23T09:57:50.873488",
     "status": "completed"
    },
    "tags": []
   },
   "outputs": [
    {
     "data": {
      "text/html": [
       "<div>\n",
       "<style scoped>\n",
       "    .dataframe tbody tr th:only-of-type {\n",
       "        vertical-align: middle;\n",
       "    }\n",
       "\n",
       "    .dataframe tbody tr th {\n",
       "        vertical-align: top;\n",
       "    }\n",
       "\n",
       "    .dataframe thead th {\n",
       "        text-align: right;\n",
       "    }\n",
       "</style>\n",
       "<table border=\"1\" class=\"dataframe\">\n",
       "  <thead>\n",
       "    <tr style=\"text-align: right;\">\n",
       "      <th></th>\n",
       "      <th>PassengerId</th>\n",
       "      <th>Survived</th>\n",
       "      <th>Pclass</th>\n",
       "      <th>Name</th>\n",
       "      <th>Sex</th>\n",
       "      <th>Age</th>\n",
       "      <th>SibSp</th>\n",
       "      <th>Parch</th>\n",
       "      <th>Ticket</th>\n",
       "      <th>Fare</th>\n",
       "      <th>Cabin</th>\n",
       "      <th>Embarked</th>\n",
       "    </tr>\n",
       "  </thead>\n",
       "  <tbody>\n",
       "    <tr>\n",
       "      <th>0</th>\n",
       "      <td>892</td>\n",
       "      <td>0</td>\n",
       "      <td>3</td>\n",
       "      <td>Kelly, Mr. James</td>\n",
       "      <td>male</td>\n",
       "      <td>34.5</td>\n",
       "      <td>0</td>\n",
       "      <td>0</td>\n",
       "      <td>330911</td>\n",
       "      <td>7.8292</td>\n",
       "      <td>NaN</td>\n",
       "      <td>Q</td>\n",
       "    </tr>\n",
       "    <tr>\n",
       "      <th>1</th>\n",
       "      <td>893</td>\n",
       "      <td>1</td>\n",
       "      <td>3</td>\n",
       "      <td>Wilkes, Mrs. James (Ellen Needs)</td>\n",
       "      <td>female</td>\n",
       "      <td>47.0</td>\n",
       "      <td>1</td>\n",
       "      <td>0</td>\n",
       "      <td>363272</td>\n",
       "      <td>7.0000</td>\n",
       "      <td>NaN</td>\n",
       "      <td>S</td>\n",
       "    </tr>\n",
       "    <tr>\n",
       "      <th>2</th>\n",
       "      <td>894</td>\n",
       "      <td>0</td>\n",
       "      <td>2</td>\n",
       "      <td>Myles, Mr. Thomas Francis</td>\n",
       "      <td>male</td>\n",
       "      <td>62.0</td>\n",
       "      <td>0</td>\n",
       "      <td>0</td>\n",
       "      <td>240276</td>\n",
       "      <td>9.6875</td>\n",
       "      <td>NaN</td>\n",
       "      <td>Q</td>\n",
       "    </tr>\n",
       "    <tr>\n",
       "      <th>3</th>\n",
       "      <td>895</td>\n",
       "      <td>0</td>\n",
       "      <td>3</td>\n",
       "      <td>Wirz, Mr. Albert</td>\n",
       "      <td>male</td>\n",
       "      <td>27.0</td>\n",
       "      <td>0</td>\n",
       "      <td>0</td>\n",
       "      <td>315154</td>\n",
       "      <td>8.6625</td>\n",
       "      <td>NaN</td>\n",
       "      <td>S</td>\n",
       "    </tr>\n",
       "    <tr>\n",
       "      <th>4</th>\n",
       "      <td>896</td>\n",
       "      <td>1</td>\n",
       "      <td>3</td>\n",
       "      <td>Hirvonen, Mrs. Alexander (Helga E Lindqvist)</td>\n",
       "      <td>female</td>\n",
       "      <td>22.0</td>\n",
       "      <td>1</td>\n",
       "      <td>1</td>\n",
       "      <td>3101298</td>\n",
       "      <td>12.2875</td>\n",
       "      <td>NaN</td>\n",
       "      <td>S</td>\n",
       "    </tr>\n",
       "  </tbody>\n",
       "</table>\n",
       "</div>"
      ],
      "text/plain": [
       "   PassengerId  Survived  Pclass  \\\n",
       "0          892         0       3   \n",
       "1          893         1       3   \n",
       "2          894         0       2   \n",
       "3          895         0       3   \n",
       "4          896         1       3   \n",
       "\n",
       "                                           Name     Sex   Age  SibSp  Parch  \\\n",
       "0                              Kelly, Mr. James    male  34.5      0      0   \n",
       "1              Wilkes, Mrs. James (Ellen Needs)  female  47.0      1      0   \n",
       "2                     Myles, Mr. Thomas Francis    male  62.0      0      0   \n",
       "3                              Wirz, Mr. Albert    male  27.0      0      0   \n",
       "4  Hirvonen, Mrs. Alexander (Helga E Lindqvist)  female  22.0      1      1   \n",
       "\n",
       "    Ticket     Fare Cabin Embarked  \n",
       "0   330911   7.8292   NaN        Q  \n",
       "1   363272   7.0000   NaN        S  \n",
       "2   240276   9.6875   NaN        Q  \n",
       "3   315154   8.6625   NaN        S  \n",
       "4  3101298  12.2875   NaN        S  "
      ]
     },
     "execution_count": 10,
     "metadata": {},
     "output_type": "execute_result"
    }
   ],
   "source": [
    "#Describe header data\n",
    "df.head()"
   ]
  },
  {
   "cell_type": "code",
   "execution_count": 11,
   "id": "788ff420",
   "metadata": {
    "execution": {
     "iopub.execute_input": "2022-12-23T09:57:50.944923Z",
     "iopub.status.busy": "2022-12-23T09:57:50.944543Z",
     "iopub.status.idle": "2022-12-23T09:57:50.961703Z",
     "shell.execute_reply": "2022-12-23T09:57:50.960518Z"
    },
    "papermill": {
     "duration": 0.036691,
     "end_time": "2022-12-23T09:57:50.964080",
     "exception": false,
     "start_time": "2022-12-23T09:57:50.927389",
     "status": "completed"
    },
    "tags": []
   },
   "outputs": [
    {
     "data": {
      "text/html": [
       "<div>\n",
       "<style scoped>\n",
       "    .dataframe tbody tr th:only-of-type {\n",
       "        vertical-align: middle;\n",
       "    }\n",
       "\n",
       "    .dataframe tbody tr th {\n",
       "        vertical-align: top;\n",
       "    }\n",
       "\n",
       "    .dataframe thead th {\n",
       "        text-align: right;\n",
       "    }\n",
       "</style>\n",
       "<table border=\"1\" class=\"dataframe\">\n",
       "  <thead>\n",
       "    <tr style=\"text-align: right;\">\n",
       "      <th></th>\n",
       "      <th>PassengerId</th>\n",
       "      <th>Survived</th>\n",
       "      <th>Pclass</th>\n",
       "      <th>Name</th>\n",
       "      <th>Sex</th>\n",
       "      <th>Age</th>\n",
       "      <th>SibSp</th>\n",
       "      <th>Parch</th>\n",
       "      <th>Ticket</th>\n",
       "      <th>Fare</th>\n",
       "      <th>Cabin</th>\n",
       "      <th>Embarked</th>\n",
       "    </tr>\n",
       "  </thead>\n",
       "  <tbody>\n",
       "    <tr>\n",
       "      <th>413</th>\n",
       "      <td>1305</td>\n",
       "      <td>0</td>\n",
       "      <td>3</td>\n",
       "      <td>Spector, Mr. Woolf</td>\n",
       "      <td>male</td>\n",
       "      <td>NaN</td>\n",
       "      <td>0</td>\n",
       "      <td>0</td>\n",
       "      <td>A.5. 3236</td>\n",
       "      <td>8.0500</td>\n",
       "      <td>NaN</td>\n",
       "      <td>S</td>\n",
       "    </tr>\n",
       "    <tr>\n",
       "      <th>414</th>\n",
       "      <td>1306</td>\n",
       "      <td>1</td>\n",
       "      <td>1</td>\n",
       "      <td>Oliva y Ocana, Dona. Fermina</td>\n",
       "      <td>female</td>\n",
       "      <td>39.0</td>\n",
       "      <td>0</td>\n",
       "      <td>0</td>\n",
       "      <td>PC 17758</td>\n",
       "      <td>108.9000</td>\n",
       "      <td>C105</td>\n",
       "      <td>C</td>\n",
       "    </tr>\n",
       "    <tr>\n",
       "      <th>415</th>\n",
       "      <td>1307</td>\n",
       "      <td>0</td>\n",
       "      <td>3</td>\n",
       "      <td>Saether, Mr. Simon Sivertsen</td>\n",
       "      <td>male</td>\n",
       "      <td>38.5</td>\n",
       "      <td>0</td>\n",
       "      <td>0</td>\n",
       "      <td>SOTON/O.Q. 3101262</td>\n",
       "      <td>7.2500</td>\n",
       "      <td>NaN</td>\n",
       "      <td>S</td>\n",
       "    </tr>\n",
       "    <tr>\n",
       "      <th>416</th>\n",
       "      <td>1308</td>\n",
       "      <td>0</td>\n",
       "      <td>3</td>\n",
       "      <td>Ware, Mr. Frederick</td>\n",
       "      <td>male</td>\n",
       "      <td>NaN</td>\n",
       "      <td>0</td>\n",
       "      <td>0</td>\n",
       "      <td>359309</td>\n",
       "      <td>8.0500</td>\n",
       "      <td>NaN</td>\n",
       "      <td>S</td>\n",
       "    </tr>\n",
       "    <tr>\n",
       "      <th>417</th>\n",
       "      <td>1309</td>\n",
       "      <td>0</td>\n",
       "      <td>3</td>\n",
       "      <td>Peter, Master. Michael J</td>\n",
       "      <td>male</td>\n",
       "      <td>NaN</td>\n",
       "      <td>1</td>\n",
       "      <td>1</td>\n",
       "      <td>2668</td>\n",
       "      <td>22.3583</td>\n",
       "      <td>NaN</td>\n",
       "      <td>C</td>\n",
       "    </tr>\n",
       "  </tbody>\n",
       "</table>\n",
       "</div>"
      ],
      "text/plain": [
       "     PassengerId  Survived  Pclass                          Name     Sex  \\\n",
       "413         1305         0       3            Spector, Mr. Woolf    male   \n",
       "414         1306         1       1  Oliva y Ocana, Dona. Fermina  female   \n",
       "415         1307         0       3  Saether, Mr. Simon Sivertsen    male   \n",
       "416         1308         0       3           Ware, Mr. Frederick    male   \n",
       "417         1309         0       3      Peter, Master. Michael J    male   \n",
       "\n",
       "      Age  SibSp  Parch              Ticket      Fare Cabin Embarked  \n",
       "413   NaN      0      0           A.5. 3236    8.0500   NaN        S  \n",
       "414  39.0      0      0            PC 17758  108.9000  C105        C  \n",
       "415  38.5      0      0  SOTON/O.Q. 3101262    7.2500   NaN        S  \n",
       "416   NaN      0      0              359309    8.0500   NaN        S  \n",
       "417   NaN      1      1                2668   22.3583   NaN        C  "
      ]
     },
     "execution_count": 11,
     "metadata": {},
     "output_type": "execute_result"
    }
   ],
   "source": [
    "#Describe the tail of the data\n",
    "df.tail()"
   ]
  },
  {
   "cell_type": "code",
   "execution_count": 12,
   "id": "7c8ef1f8",
   "metadata": {
    "execution": {
     "iopub.execute_input": "2022-12-23T09:57:50.999063Z",
     "iopub.status.busy": "2022-12-23T09:57:50.997995Z",
     "iopub.status.idle": "2022-12-23T09:57:51.020199Z",
     "shell.execute_reply": "2022-12-23T09:57:51.019115Z"
    },
    "papermill": {
     "duration": 0.042114,
     "end_time": "2022-12-23T09:57:51.022485",
     "exception": false,
     "start_time": "2022-12-23T09:57:50.980371",
     "status": "completed"
    },
    "tags": []
   },
   "outputs": [
    {
     "data": {
      "text/html": [
       "<div>\n",
       "<style scoped>\n",
       "    .dataframe tbody tr th:only-of-type {\n",
       "        vertical-align: middle;\n",
       "    }\n",
       "\n",
       "    .dataframe tbody tr th {\n",
       "        vertical-align: top;\n",
       "    }\n",
       "\n",
       "    .dataframe thead th {\n",
       "        text-align: right;\n",
       "    }\n",
       "</style>\n",
       "<table border=\"1\" class=\"dataframe\">\n",
       "  <thead>\n",
       "    <tr style=\"text-align: right;\">\n",
       "      <th></th>\n",
       "      <th>Name</th>\n",
       "      <th>Sex</th>\n",
       "      <th>Ticket</th>\n",
       "      <th>Cabin</th>\n",
       "      <th>Embarked</th>\n",
       "    </tr>\n",
       "  </thead>\n",
       "  <tbody>\n",
       "    <tr>\n",
       "      <th>count</th>\n",
       "      <td>418</td>\n",
       "      <td>418</td>\n",
       "      <td>418</td>\n",
       "      <td>91</td>\n",
       "      <td>418</td>\n",
       "    </tr>\n",
       "    <tr>\n",
       "      <th>unique</th>\n",
       "      <td>418</td>\n",
       "      <td>2</td>\n",
       "      <td>363</td>\n",
       "      <td>76</td>\n",
       "      <td>3</td>\n",
       "    </tr>\n",
       "    <tr>\n",
       "      <th>top</th>\n",
       "      <td>Kelly, Mr. James</td>\n",
       "      <td>male</td>\n",
       "      <td>PC 17608</td>\n",
       "      <td>B57 B59 B63 B66</td>\n",
       "      <td>S</td>\n",
       "    </tr>\n",
       "    <tr>\n",
       "      <th>freq</th>\n",
       "      <td>1</td>\n",
       "      <td>266</td>\n",
       "      <td>5</td>\n",
       "      <td>3</td>\n",
       "      <td>270</td>\n",
       "    </tr>\n",
       "  </tbody>\n",
       "</table>\n",
       "</div>"
      ],
      "text/plain": [
       "                    Name   Sex    Ticket            Cabin Embarked\n",
       "count                418   418       418               91      418\n",
       "unique               418     2       363               76        3\n",
       "top     Kelly, Mr. James  male  PC 17608  B57 B59 B63 B66        S\n",
       "freq                   1   266         5                3      270"
      ]
     },
     "execution_count": 12,
     "metadata": {},
     "output_type": "execute_result"
    }
   ],
   "source": [
    "df.describe(include=['O'])"
   ]
  },
  {
   "cell_type": "code",
   "execution_count": 13,
   "id": "5f9120b6",
   "metadata": {
    "execution": {
     "iopub.execute_input": "2022-12-23T09:57:51.057477Z",
     "iopub.status.busy": "2022-12-23T09:57:51.057051Z",
     "iopub.status.idle": "2022-12-23T09:57:51.081979Z",
     "shell.execute_reply": "2022-12-23T09:57:51.080463Z"
    },
    "papermill": {
     "duration": 0.045129,
     "end_time": "2022-12-23T09:57:51.084427",
     "exception": false,
     "start_time": "2022-12-23T09:57:51.039298",
     "status": "completed"
    },
    "tags": []
   },
   "outputs": [
    {
     "data": {
      "text/html": [
       "<div>\n",
       "<style scoped>\n",
       "    .dataframe tbody tr th:only-of-type {\n",
       "        vertical-align: middle;\n",
       "    }\n",
       "\n",
       "    .dataframe tbody tr th {\n",
       "        vertical-align: top;\n",
       "    }\n",
       "\n",
       "    .dataframe thead th {\n",
       "        text-align: right;\n",
       "    }\n",
       "</style>\n",
       "<table border=\"1\" class=\"dataframe\">\n",
       "  <thead>\n",
       "    <tr style=\"text-align: right;\">\n",
       "      <th></th>\n",
       "      <th>PassengerId</th>\n",
       "      <th>Survived</th>\n",
       "      <th>Pclass</th>\n",
       "      <th>Name</th>\n",
       "      <th>Sex</th>\n",
       "      <th>Age</th>\n",
       "      <th>SibSp</th>\n",
       "      <th>Parch</th>\n",
       "      <th>Ticket</th>\n",
       "      <th>Fare</th>\n",
       "      <th>Cabin</th>\n",
       "      <th>Embarked</th>\n",
       "    </tr>\n",
       "  </thead>\n",
       "  <tbody>\n",
       "    <tr>\n",
       "      <th>1</th>\n",
       "      <td>893</td>\n",
       "      <td>1</td>\n",
       "      <td>3</td>\n",
       "      <td>Wilkes, Mrs. James (Ellen Needs)</td>\n",
       "      <td>female</td>\n",
       "      <td>47.0</td>\n",
       "      <td>1</td>\n",
       "      <td>0</td>\n",
       "      <td>363272</td>\n",
       "      <td>7.0000</td>\n",
       "      <td>NaN</td>\n",
       "      <td>S</td>\n",
       "    </tr>\n",
       "    <tr>\n",
       "      <th>4</th>\n",
       "      <td>896</td>\n",
       "      <td>1</td>\n",
       "      <td>3</td>\n",
       "      <td>Hirvonen, Mrs. Alexander (Helga E Lindqvist)</td>\n",
       "      <td>female</td>\n",
       "      <td>22.0</td>\n",
       "      <td>1</td>\n",
       "      <td>1</td>\n",
       "      <td>3101298</td>\n",
       "      <td>12.2875</td>\n",
       "      <td>NaN</td>\n",
       "      <td>S</td>\n",
       "    </tr>\n",
       "    <tr>\n",
       "      <th>6</th>\n",
       "      <td>898</td>\n",
       "      <td>1</td>\n",
       "      <td>3</td>\n",
       "      <td>Connolly, Miss. Kate</td>\n",
       "      <td>female</td>\n",
       "      <td>30.0</td>\n",
       "      <td>0</td>\n",
       "      <td>0</td>\n",
       "      <td>330972</td>\n",
       "      <td>7.6292</td>\n",
       "      <td>NaN</td>\n",
       "      <td>Q</td>\n",
       "    </tr>\n",
       "    <tr>\n",
       "      <th>8</th>\n",
       "      <td>900</td>\n",
       "      <td>1</td>\n",
       "      <td>3</td>\n",
       "      <td>Abrahim, Mrs. Joseph (Sophie Halaut Easu)</td>\n",
       "      <td>female</td>\n",
       "      <td>18.0</td>\n",
       "      <td>0</td>\n",
       "      <td>0</td>\n",
       "      <td>2657</td>\n",
       "      <td>7.2292</td>\n",
       "      <td>NaN</td>\n",
       "      <td>C</td>\n",
       "    </tr>\n",
       "    <tr>\n",
       "      <th>12</th>\n",
       "      <td>904</td>\n",
       "      <td>1</td>\n",
       "      <td>1</td>\n",
       "      <td>Snyder, Mrs. John Pillsbury (Nelle Stevenson)</td>\n",
       "      <td>female</td>\n",
       "      <td>23.0</td>\n",
       "      <td>1</td>\n",
       "      <td>0</td>\n",
       "      <td>21228</td>\n",
       "      <td>82.2667</td>\n",
       "      <td>B45</td>\n",
       "      <td>S</td>\n",
       "    </tr>\n",
       "    <tr>\n",
       "      <th>...</th>\n",
       "      <td>...</td>\n",
       "      <td>...</td>\n",
       "      <td>...</td>\n",
       "      <td>...</td>\n",
       "      <td>...</td>\n",
       "      <td>...</td>\n",
       "      <td>...</td>\n",
       "      <td>...</td>\n",
       "      <td>...</td>\n",
       "      <td>...</td>\n",
       "      <td>...</td>\n",
       "      <td>...</td>\n",
       "    </tr>\n",
       "    <tr>\n",
       "      <th>409</th>\n",
       "      <td>1301</td>\n",
       "      <td>1</td>\n",
       "      <td>3</td>\n",
       "      <td>Peacock, Miss. Treasteall</td>\n",
       "      <td>female</td>\n",
       "      <td>3.0</td>\n",
       "      <td>1</td>\n",
       "      <td>1</td>\n",
       "      <td>SOTON/O.Q. 3101315</td>\n",
       "      <td>13.7750</td>\n",
       "      <td>NaN</td>\n",
       "      <td>S</td>\n",
       "    </tr>\n",
       "    <tr>\n",
       "      <th>410</th>\n",
       "      <td>1302</td>\n",
       "      <td>1</td>\n",
       "      <td>3</td>\n",
       "      <td>Naughton, Miss. Hannah</td>\n",
       "      <td>female</td>\n",
       "      <td>NaN</td>\n",
       "      <td>0</td>\n",
       "      <td>0</td>\n",
       "      <td>365237</td>\n",
       "      <td>7.7500</td>\n",
       "      <td>NaN</td>\n",
       "      <td>Q</td>\n",
       "    </tr>\n",
       "    <tr>\n",
       "      <th>411</th>\n",
       "      <td>1303</td>\n",
       "      <td>1</td>\n",
       "      <td>1</td>\n",
       "      <td>Minahan, Mrs. William Edward (Lillian E Thorpe)</td>\n",
       "      <td>female</td>\n",
       "      <td>37.0</td>\n",
       "      <td>1</td>\n",
       "      <td>0</td>\n",
       "      <td>19928</td>\n",
       "      <td>90.0000</td>\n",
       "      <td>C78</td>\n",
       "      <td>Q</td>\n",
       "    </tr>\n",
       "    <tr>\n",
       "      <th>412</th>\n",
       "      <td>1304</td>\n",
       "      <td>1</td>\n",
       "      <td>3</td>\n",
       "      <td>Henriksson, Miss. Jenny Lovisa</td>\n",
       "      <td>female</td>\n",
       "      <td>28.0</td>\n",
       "      <td>0</td>\n",
       "      <td>0</td>\n",
       "      <td>347086</td>\n",
       "      <td>7.7750</td>\n",
       "      <td>NaN</td>\n",
       "      <td>S</td>\n",
       "    </tr>\n",
       "    <tr>\n",
       "      <th>414</th>\n",
       "      <td>1306</td>\n",
       "      <td>1</td>\n",
       "      <td>1</td>\n",
       "      <td>Oliva y Ocana, Dona. Fermina</td>\n",
       "      <td>female</td>\n",
       "      <td>39.0</td>\n",
       "      <td>0</td>\n",
       "      <td>0</td>\n",
       "      <td>PC 17758</td>\n",
       "      <td>108.9000</td>\n",
       "      <td>C105</td>\n",
       "      <td>C</td>\n",
       "    </tr>\n",
       "  </tbody>\n",
       "</table>\n",
       "<p>152 rows × 12 columns</p>\n",
       "</div>"
      ],
      "text/plain": [
       "     PassengerId  Survived  Pclass  \\\n",
       "1            893         1       3   \n",
       "4            896         1       3   \n",
       "6            898         1       3   \n",
       "8            900         1       3   \n",
       "12           904         1       1   \n",
       "..           ...       ...     ...   \n",
       "409         1301         1       3   \n",
       "410         1302         1       3   \n",
       "411         1303         1       1   \n",
       "412         1304         1       3   \n",
       "414         1306         1       1   \n",
       "\n",
       "                                                Name     Sex   Age  SibSp  \\\n",
       "1                   Wilkes, Mrs. James (Ellen Needs)  female  47.0      1   \n",
       "4       Hirvonen, Mrs. Alexander (Helga E Lindqvist)  female  22.0      1   \n",
       "6                               Connolly, Miss. Kate  female  30.0      0   \n",
       "8          Abrahim, Mrs. Joseph (Sophie Halaut Easu)  female  18.0      0   \n",
       "12     Snyder, Mrs. John Pillsbury (Nelle Stevenson)  female  23.0      1   \n",
       "..                                               ...     ...   ...    ...   \n",
       "409                        Peacock, Miss. Treasteall  female   3.0      1   \n",
       "410                           Naughton, Miss. Hannah  female   NaN      0   \n",
       "411  Minahan, Mrs. William Edward (Lillian E Thorpe)  female  37.0      1   \n",
       "412                   Henriksson, Miss. Jenny Lovisa  female  28.0      0   \n",
       "414                     Oliva y Ocana, Dona. Fermina  female  39.0      0   \n",
       "\n",
       "     Parch              Ticket      Fare Cabin Embarked  \n",
       "1        0              363272    7.0000   NaN        S  \n",
       "4        1             3101298   12.2875   NaN        S  \n",
       "6        0              330972    7.6292   NaN        Q  \n",
       "8        0                2657    7.2292   NaN        C  \n",
       "12       0               21228   82.2667   B45        S  \n",
       "..     ...                 ...       ...   ...      ...  \n",
       "409      1  SOTON/O.Q. 3101315   13.7750   NaN        S  \n",
       "410      0              365237    7.7500   NaN        Q  \n",
       "411      0               19928   90.0000   C78        Q  \n",
       "412      0              347086    7.7750   NaN        S  \n",
       "414      0            PC 17758  108.9000  C105        C  \n",
       "\n",
       "[152 rows x 12 columns]"
      ]
     },
     "execution_count": 13,
     "metadata": {},
     "output_type": "execute_result"
    }
   ],
   "source": [
    "#If it survives, it gets a value of 1\n",
    "df[df['Survived']==1]"
   ]
  },
  {
   "cell_type": "code",
   "execution_count": 14,
   "id": "2c04b5eb",
   "metadata": {
    "execution": {
     "iopub.execute_input": "2022-12-23T09:57:51.120474Z",
     "iopub.status.busy": "2022-12-23T09:57:51.119785Z",
     "iopub.status.idle": "2022-12-23T09:57:51.145198Z",
     "shell.execute_reply": "2022-12-23T09:57:51.144009Z"
    },
    "papermill": {
     "duration": 0.046222,
     "end_time": "2022-12-23T09:57:51.147810",
     "exception": false,
     "start_time": "2022-12-23T09:57:51.101588",
     "status": "completed"
    },
    "tags": []
   },
   "outputs": [
    {
     "data": {
      "text/html": [
       "<div>\n",
       "<style scoped>\n",
       "    .dataframe tbody tr th:only-of-type {\n",
       "        vertical-align: middle;\n",
       "    }\n",
       "\n",
       "    .dataframe tbody tr th {\n",
       "        vertical-align: top;\n",
       "    }\n",
       "\n",
       "    .dataframe thead th {\n",
       "        text-align: right;\n",
       "    }\n",
       "</style>\n",
       "<table border=\"1\" class=\"dataframe\">\n",
       "  <thead>\n",
       "    <tr style=\"text-align: right;\">\n",
       "      <th></th>\n",
       "      <th>PassengerId</th>\n",
       "      <th>Survived</th>\n",
       "      <th>Pclass</th>\n",
       "      <th>Name</th>\n",
       "      <th>Sex</th>\n",
       "      <th>Age</th>\n",
       "      <th>SibSp</th>\n",
       "      <th>Parch</th>\n",
       "      <th>Ticket</th>\n",
       "      <th>Fare</th>\n",
       "      <th>Cabin</th>\n",
       "      <th>Embarked</th>\n",
       "    </tr>\n",
       "  </thead>\n",
       "  <tbody>\n",
       "    <tr>\n",
       "      <th>1</th>\n",
       "      <td>893</td>\n",
       "      <td>1</td>\n",
       "      <td>3</td>\n",
       "      <td>Wilkes, Mrs. James (Ellen Needs)</td>\n",
       "      <td>female</td>\n",
       "      <td>47.0</td>\n",
       "      <td>1</td>\n",
       "      <td>0</td>\n",
       "      <td>363272</td>\n",
       "      <td>7.0000</td>\n",
       "      <td>NaN</td>\n",
       "      <td>S</td>\n",
       "    </tr>\n",
       "    <tr>\n",
       "      <th>4</th>\n",
       "      <td>896</td>\n",
       "      <td>1</td>\n",
       "      <td>3</td>\n",
       "      <td>Hirvonen, Mrs. Alexander (Helga E Lindqvist)</td>\n",
       "      <td>female</td>\n",
       "      <td>22.0</td>\n",
       "      <td>1</td>\n",
       "      <td>1</td>\n",
       "      <td>3101298</td>\n",
       "      <td>12.2875</td>\n",
       "      <td>NaN</td>\n",
       "      <td>S</td>\n",
       "    </tr>\n",
       "    <tr>\n",
       "      <th>6</th>\n",
       "      <td>898</td>\n",
       "      <td>1</td>\n",
       "      <td>3</td>\n",
       "      <td>Connolly, Miss. Kate</td>\n",
       "      <td>female</td>\n",
       "      <td>30.0</td>\n",
       "      <td>0</td>\n",
       "      <td>0</td>\n",
       "      <td>330972</td>\n",
       "      <td>7.6292</td>\n",
       "      <td>NaN</td>\n",
       "      <td>Q</td>\n",
       "    </tr>\n",
       "    <tr>\n",
       "      <th>8</th>\n",
       "      <td>900</td>\n",
       "      <td>1</td>\n",
       "      <td>3</td>\n",
       "      <td>Abrahim, Mrs. Joseph (Sophie Halaut Easu)</td>\n",
       "      <td>female</td>\n",
       "      <td>18.0</td>\n",
       "      <td>0</td>\n",
       "      <td>0</td>\n",
       "      <td>2657</td>\n",
       "      <td>7.2292</td>\n",
       "      <td>NaN</td>\n",
       "      <td>C</td>\n",
       "    </tr>\n",
       "    <tr>\n",
       "      <th>12</th>\n",
       "      <td>904</td>\n",
       "      <td>1</td>\n",
       "      <td>1</td>\n",
       "      <td>Snyder, Mrs. John Pillsbury (Nelle Stevenson)</td>\n",
       "      <td>female</td>\n",
       "      <td>23.0</td>\n",
       "      <td>1</td>\n",
       "      <td>0</td>\n",
       "      <td>21228</td>\n",
       "      <td>82.2667</td>\n",
       "      <td>B45</td>\n",
       "      <td>S</td>\n",
       "    </tr>\n",
       "    <tr>\n",
       "      <th>...</th>\n",
       "      <td>...</td>\n",
       "      <td>...</td>\n",
       "      <td>...</td>\n",
       "      <td>...</td>\n",
       "      <td>...</td>\n",
       "      <td>...</td>\n",
       "      <td>...</td>\n",
       "      <td>...</td>\n",
       "      <td>...</td>\n",
       "      <td>...</td>\n",
       "      <td>...</td>\n",
       "      <td>...</td>\n",
       "    </tr>\n",
       "    <tr>\n",
       "      <th>409</th>\n",
       "      <td>1301</td>\n",
       "      <td>1</td>\n",
       "      <td>3</td>\n",
       "      <td>Peacock, Miss. Treasteall</td>\n",
       "      <td>female</td>\n",
       "      <td>3.0</td>\n",
       "      <td>1</td>\n",
       "      <td>1</td>\n",
       "      <td>SOTON/O.Q. 3101315</td>\n",
       "      <td>13.7750</td>\n",
       "      <td>NaN</td>\n",
       "      <td>S</td>\n",
       "    </tr>\n",
       "    <tr>\n",
       "      <th>410</th>\n",
       "      <td>1302</td>\n",
       "      <td>1</td>\n",
       "      <td>3</td>\n",
       "      <td>Naughton, Miss. Hannah</td>\n",
       "      <td>female</td>\n",
       "      <td>NaN</td>\n",
       "      <td>0</td>\n",
       "      <td>0</td>\n",
       "      <td>365237</td>\n",
       "      <td>7.7500</td>\n",
       "      <td>NaN</td>\n",
       "      <td>Q</td>\n",
       "    </tr>\n",
       "    <tr>\n",
       "      <th>411</th>\n",
       "      <td>1303</td>\n",
       "      <td>1</td>\n",
       "      <td>1</td>\n",
       "      <td>Minahan, Mrs. William Edward (Lillian E Thorpe)</td>\n",
       "      <td>female</td>\n",
       "      <td>37.0</td>\n",
       "      <td>1</td>\n",
       "      <td>0</td>\n",
       "      <td>19928</td>\n",
       "      <td>90.0000</td>\n",
       "      <td>C78</td>\n",
       "      <td>Q</td>\n",
       "    </tr>\n",
       "    <tr>\n",
       "      <th>412</th>\n",
       "      <td>1304</td>\n",
       "      <td>1</td>\n",
       "      <td>3</td>\n",
       "      <td>Henriksson, Miss. Jenny Lovisa</td>\n",
       "      <td>female</td>\n",
       "      <td>28.0</td>\n",
       "      <td>0</td>\n",
       "      <td>0</td>\n",
       "      <td>347086</td>\n",
       "      <td>7.7750</td>\n",
       "      <td>NaN</td>\n",
       "      <td>S</td>\n",
       "    </tr>\n",
       "    <tr>\n",
       "      <th>414</th>\n",
       "      <td>1306</td>\n",
       "      <td>1</td>\n",
       "      <td>1</td>\n",
       "      <td>Oliva y Ocana, Dona. Fermina</td>\n",
       "      <td>female</td>\n",
       "      <td>39.0</td>\n",
       "      <td>0</td>\n",
       "      <td>0</td>\n",
       "      <td>PC 17758</td>\n",
       "      <td>108.9000</td>\n",
       "      <td>C105</td>\n",
       "      <td>C</td>\n",
       "    </tr>\n",
       "  </tbody>\n",
       "</table>\n",
       "<p>152 rows × 12 columns</p>\n",
       "</div>"
      ],
      "text/plain": [
       "     PassengerId  Survived  Pclass  \\\n",
       "1            893         1       3   \n",
       "4            896         1       3   \n",
       "6            898         1       3   \n",
       "8            900         1       3   \n",
       "12           904         1       1   \n",
       "..           ...       ...     ...   \n",
       "409         1301         1       3   \n",
       "410         1302         1       3   \n",
       "411         1303         1       1   \n",
       "412         1304         1       3   \n",
       "414         1306         1       1   \n",
       "\n",
       "                                                Name     Sex   Age  SibSp  \\\n",
       "1                   Wilkes, Mrs. James (Ellen Needs)  female  47.0      1   \n",
       "4       Hirvonen, Mrs. Alexander (Helga E Lindqvist)  female  22.0      1   \n",
       "6                               Connolly, Miss. Kate  female  30.0      0   \n",
       "8          Abrahim, Mrs. Joseph (Sophie Halaut Easu)  female  18.0      0   \n",
       "12     Snyder, Mrs. John Pillsbury (Nelle Stevenson)  female  23.0      1   \n",
       "..                                               ...     ...   ...    ...   \n",
       "409                        Peacock, Miss. Treasteall  female   3.0      1   \n",
       "410                           Naughton, Miss. Hannah  female   NaN      0   \n",
       "411  Minahan, Mrs. William Edward (Lillian E Thorpe)  female  37.0      1   \n",
       "412                   Henriksson, Miss. Jenny Lovisa  female  28.0      0   \n",
       "414                     Oliva y Ocana, Dona. Fermina  female  39.0      0   \n",
       "\n",
       "     Parch              Ticket      Fare Cabin Embarked  \n",
       "1        0              363272    7.0000   NaN        S  \n",
       "4        1             3101298   12.2875   NaN        S  \n",
       "6        0              330972    7.6292   NaN        Q  \n",
       "8        0                2657    7.2292   NaN        C  \n",
       "12       0               21228   82.2667   B45        S  \n",
       "..     ...                 ...       ...   ...      ...  \n",
       "409      1  SOTON/O.Q. 3101315   13.7750   NaN        S  \n",
       "410      0              365237    7.7500   NaN        Q  \n",
       "411      0               19928   90.0000   C78        Q  \n",
       "412      0              347086    7.7750   NaN        S  \n",
       "414      0            PC 17758  108.9000  C105        C  \n",
       "\n",
       "[152 rows x 12 columns]"
      ]
     },
     "execution_count": 14,
     "metadata": {},
     "output_type": "execute_result"
    }
   ],
   "source": [
    "#Case of gender dependence\n",
    "df[df['Sex']=='female']"
   ]
  },
  {
   "cell_type": "code",
   "execution_count": 15,
   "id": "28c2e969",
   "metadata": {
    "execution": {
     "iopub.execute_input": "2022-12-23T09:57:51.184788Z",
     "iopub.status.busy": "2022-12-23T09:57:51.184405Z",
     "iopub.status.idle": "2022-12-23T09:57:51.193942Z",
     "shell.execute_reply": "2022-12-23T09:57:51.192727Z"
    },
    "papermill": {
     "duration": 0.030973,
     "end_time": "2022-12-23T09:57:51.196142",
     "exception": false,
     "start_time": "2022-12-23T09:57:51.165169",
     "status": "completed"
    },
    "tags": []
   },
   "outputs": [
    {
     "data": {
      "text/plain": [
       "array([3, 2, 1], dtype=int64)"
      ]
     },
     "execution_count": 15,
     "metadata": {},
     "output_type": "execute_result"
    }
   ],
   "source": [
    "df['Pclass'].unique()"
   ]
  },
  {
   "cell_type": "code",
   "execution_count": 16,
   "id": "e39163c9",
   "metadata": {
    "execution": {
     "iopub.execute_input": "2022-12-23T09:57:51.232759Z",
     "iopub.status.busy": "2022-12-23T09:57:51.232360Z",
     "iopub.status.idle": "2022-12-23T09:57:51.251932Z",
     "shell.execute_reply": "2022-12-23T09:57:51.251079Z"
    },
    "papermill": {
     "duration": 0.040716,
     "end_time": "2022-12-23T09:57:51.254360",
     "exception": false,
     "start_time": "2022-12-23T09:57:51.213644",
     "status": "completed"
    },
    "tags": []
   },
   "outputs": [
    {
     "data": {
      "text/html": [
       "<div>\n",
       "<style scoped>\n",
       "    .dataframe tbody tr th:only-of-type {\n",
       "        vertical-align: middle;\n",
       "    }\n",
       "\n",
       "    .dataframe tbody tr th {\n",
       "        vertical-align: top;\n",
       "    }\n",
       "\n",
       "    .dataframe thead th {\n",
       "        text-align: right;\n",
       "    }\n",
       "</style>\n",
       "<table border=\"1\" class=\"dataframe\">\n",
       "  <thead>\n",
       "    <tr style=\"text-align: right;\">\n",
       "      <th></th>\n",
       "      <th>PassengerId</th>\n",
       "      <th>Survived</th>\n",
       "      <th>Age</th>\n",
       "      <th>SibSp</th>\n",
       "      <th>Parch</th>\n",
       "      <th>Fare</th>\n",
       "    </tr>\n",
       "    <tr>\n",
       "      <th>Pclass</th>\n",
       "      <th></th>\n",
       "      <th></th>\n",
       "      <th></th>\n",
       "      <th></th>\n",
       "      <th></th>\n",
       "      <th></th>\n",
       "    </tr>\n",
       "  </thead>\n",
       "  <tbody>\n",
       "    <tr>\n",
       "      <th>1</th>\n",
       "      <td>1098.224299</td>\n",
       "      <td>0.467290</td>\n",
       "      <td>40.918367</td>\n",
       "      <td>0.476636</td>\n",
       "      <td>0.383178</td>\n",
       "      <td>94.280297</td>\n",
       "    </tr>\n",
       "    <tr>\n",
       "      <th>2</th>\n",
       "      <td>1117.935484</td>\n",
       "      <td>0.322581</td>\n",
       "      <td>28.777500</td>\n",
       "      <td>0.376344</td>\n",
       "      <td>0.344086</td>\n",
       "      <td>22.202104</td>\n",
       "    </tr>\n",
       "    <tr>\n",
       "      <th>3</th>\n",
       "      <td>1094.178899</td>\n",
       "      <td>0.330275</td>\n",
       "      <td>24.027945</td>\n",
       "      <td>0.463303</td>\n",
       "      <td>0.417431</td>\n",
       "      <td>12.459678</td>\n",
       "    </tr>\n",
       "  </tbody>\n",
       "</table>\n",
       "</div>"
      ],
      "text/plain": [
       "        PassengerId  Survived        Age     SibSp     Parch       Fare\n",
       "Pclass                                                                 \n",
       "1       1098.224299  0.467290  40.918367  0.476636  0.383178  94.280297\n",
       "2       1117.935484  0.322581  28.777500  0.376344  0.344086  22.202104\n",
       "3       1094.178899  0.330275  24.027945  0.463303  0.417431  12.459678"
      ]
     },
     "execution_count": 16,
     "metadata": {},
     "output_type": "execute_result"
    }
   ],
   "source": [
    "df.groupby(by='Pclass').mean()"
   ]
  },
  {
   "cell_type": "code",
   "execution_count": 17,
   "id": "236e5f8a",
   "metadata": {
    "execution": {
     "iopub.execute_input": "2022-12-23T09:57:51.291783Z",
     "iopub.status.busy": "2022-12-23T09:57:51.291280Z",
     "iopub.status.idle": "2022-12-23T09:57:51.306791Z",
     "shell.execute_reply": "2022-12-23T09:57:51.305945Z"
    },
    "papermill": {
     "duration": 0.036798,
     "end_time": "2022-12-23T09:57:51.309068",
     "exception": false,
     "start_time": "2022-12-23T09:57:51.272270",
     "status": "completed"
    },
    "tags": []
   },
   "outputs": [
    {
     "data": {
      "text/html": [
       "<div>\n",
       "<style scoped>\n",
       "    .dataframe tbody tr th:only-of-type {\n",
       "        vertical-align: middle;\n",
       "    }\n",
       "\n",
       "    .dataframe tbody tr th {\n",
       "        vertical-align: top;\n",
       "    }\n",
       "\n",
       "    .dataframe thead th {\n",
       "        text-align: right;\n",
       "    }\n",
       "</style>\n",
       "<table border=\"1\" class=\"dataframe\">\n",
       "  <thead>\n",
       "    <tr style=\"text-align: right;\">\n",
       "      <th></th>\n",
       "      <th>Pclass</th>\n",
       "      <th>Survived</th>\n",
       "    </tr>\n",
       "  </thead>\n",
       "  <tbody>\n",
       "    <tr>\n",
       "      <th>0</th>\n",
       "      <td>1</td>\n",
       "      <td>0.467290</td>\n",
       "    </tr>\n",
       "    <tr>\n",
       "      <th>2</th>\n",
       "      <td>3</td>\n",
       "      <td>0.330275</td>\n",
       "    </tr>\n",
       "    <tr>\n",
       "      <th>1</th>\n",
       "      <td>2</td>\n",
       "      <td>0.322581</td>\n",
       "    </tr>\n",
       "  </tbody>\n",
       "</table>\n",
       "</div>"
      ],
      "text/plain": [
       "   Pclass  Survived\n",
       "0       1  0.467290\n",
       "2       3  0.330275\n",
       "1       2  0.322581"
      ]
     },
     "execution_count": 17,
     "metadata": {},
     "output_type": "execute_result"
    }
   ],
   "source": [
    "#Correlation between Pclass and Survived\n",
    "df[['Pclass', 'Survived']].groupby(['Pclass'], as_index=False).mean().sort_values(by='Survived', ascending=False)"
   ]
  },
  {
   "cell_type": "code",
   "execution_count": 18,
   "id": "30dc1f30",
   "metadata": {
    "execution": {
     "iopub.execute_input": "2022-12-23T09:57:51.347342Z",
     "iopub.status.busy": "2022-12-23T09:57:51.346910Z",
     "iopub.status.idle": "2022-12-23T09:57:51.357493Z",
     "shell.execute_reply": "2022-12-23T09:57:51.356324Z"
    },
    "papermill": {
     "duration": 0.032587,
     "end_time": "2022-12-23T09:57:51.359940",
     "exception": false,
     "start_time": "2022-12-23T09:57:51.327353",
     "status": "completed"
    },
    "tags": []
   },
   "outputs": [
    {
     "data": {
      "text/plain": [
       "-1.2682357097211938e-05"
      ]
     },
     "execution_count": 18,
     "metadata": {},
     "output_type": "execute_result"
    }
   ],
   "source": [
    "#Age-specific survival probability\n",
    "df['Survived'].corr(df['Age'])"
   ]
  },
  {
   "cell_type": "code",
   "execution_count": 19,
   "id": "4c206a77",
   "metadata": {
    "execution": {
     "iopub.execute_input": "2022-12-23T09:57:51.397897Z",
     "iopub.status.busy": "2022-12-23T09:57:51.397501Z",
     "iopub.status.idle": "2022-12-23T09:57:51.422644Z",
     "shell.execute_reply": "2022-12-23T09:57:51.421350Z"
    },
    "papermill": {
     "duration": 0.046966,
     "end_time": "2022-12-23T09:57:51.424964",
     "exception": false,
     "start_time": "2022-12-23T09:57:51.377998",
     "status": "completed"
    },
    "tags": []
   },
   "outputs": [
    {
     "data": {
      "text/html": [
       "<div>\n",
       "<style scoped>\n",
       "    .dataframe tbody tr th:only-of-type {\n",
       "        vertical-align: middle;\n",
       "    }\n",
       "\n",
       "    .dataframe tbody tr th {\n",
       "        vertical-align: top;\n",
       "    }\n",
       "\n",
       "    .dataframe thead th {\n",
       "        text-align: right;\n",
       "    }\n",
       "</style>\n",
       "<table border=\"1\" class=\"dataframe\">\n",
       "  <thead>\n",
       "    <tr style=\"text-align: right;\">\n",
       "      <th></th>\n",
       "      <th>PassengerId</th>\n",
       "      <th>Survived</th>\n",
       "      <th>Pclass</th>\n",
       "      <th>Name</th>\n",
       "      <th>Sex</th>\n",
       "      <th>Age</th>\n",
       "      <th>SibSp</th>\n",
       "      <th>Parch</th>\n",
       "      <th>Ticket</th>\n",
       "      <th>Fare</th>\n",
       "      <th>Cabin</th>\n",
       "      <th>Embarked</th>\n",
       "    </tr>\n",
       "  </thead>\n",
       "  <tbody>\n",
       "    <tr>\n",
       "      <th>1</th>\n",
       "      <td>893</td>\n",
       "      <td>1</td>\n",
       "      <td>3</td>\n",
       "      <td>Wilkes, Mrs. James (Ellen Needs)</td>\n",
       "      <td>female</td>\n",
       "      <td>47.0</td>\n",
       "      <td>1</td>\n",
       "      <td>0</td>\n",
       "      <td>363272</td>\n",
       "      <td>7.0000</td>\n",
       "      <td>NaN</td>\n",
       "      <td>S</td>\n",
       "    </tr>\n",
       "    <tr>\n",
       "      <th>4</th>\n",
       "      <td>896</td>\n",
       "      <td>1</td>\n",
       "      <td>3</td>\n",
       "      <td>Hirvonen, Mrs. Alexander (Helga E Lindqvist)</td>\n",
       "      <td>female</td>\n",
       "      <td>22.0</td>\n",
       "      <td>1</td>\n",
       "      <td>1</td>\n",
       "      <td>3101298</td>\n",
       "      <td>12.2875</td>\n",
       "      <td>NaN</td>\n",
       "      <td>S</td>\n",
       "    </tr>\n",
       "    <tr>\n",
       "      <th>6</th>\n",
       "      <td>898</td>\n",
       "      <td>1</td>\n",
       "      <td>3</td>\n",
       "      <td>Connolly, Miss. Kate</td>\n",
       "      <td>female</td>\n",
       "      <td>30.0</td>\n",
       "      <td>0</td>\n",
       "      <td>0</td>\n",
       "      <td>330972</td>\n",
       "      <td>7.6292</td>\n",
       "      <td>NaN</td>\n",
       "      <td>Q</td>\n",
       "    </tr>\n",
       "    <tr>\n",
       "      <th>8</th>\n",
       "      <td>900</td>\n",
       "      <td>1</td>\n",
       "      <td>3</td>\n",
       "      <td>Abrahim, Mrs. Joseph (Sophie Halaut Easu)</td>\n",
       "      <td>female</td>\n",
       "      <td>18.0</td>\n",
       "      <td>0</td>\n",
       "      <td>0</td>\n",
       "      <td>2657</td>\n",
       "      <td>7.2292</td>\n",
       "      <td>NaN</td>\n",
       "      <td>C</td>\n",
       "    </tr>\n",
       "    <tr>\n",
       "      <th>12</th>\n",
       "      <td>904</td>\n",
       "      <td>1</td>\n",
       "      <td>1</td>\n",
       "      <td>Snyder, Mrs. John Pillsbury (Nelle Stevenson)</td>\n",
       "      <td>female</td>\n",
       "      <td>23.0</td>\n",
       "      <td>1</td>\n",
       "      <td>0</td>\n",
       "      <td>21228</td>\n",
       "      <td>82.2667</td>\n",
       "      <td>B45</td>\n",
       "      <td>S</td>\n",
       "    </tr>\n",
       "    <tr>\n",
       "      <th>...</th>\n",
       "      <td>...</td>\n",
       "      <td>...</td>\n",
       "      <td>...</td>\n",
       "      <td>...</td>\n",
       "      <td>...</td>\n",
       "      <td>...</td>\n",
       "      <td>...</td>\n",
       "      <td>...</td>\n",
       "      <td>...</td>\n",
       "      <td>...</td>\n",
       "      <td>...</td>\n",
       "      <td>...</td>\n",
       "    </tr>\n",
       "    <tr>\n",
       "      <th>409</th>\n",
       "      <td>1301</td>\n",
       "      <td>1</td>\n",
       "      <td>3</td>\n",
       "      <td>Peacock, Miss. Treasteall</td>\n",
       "      <td>female</td>\n",
       "      <td>3.0</td>\n",
       "      <td>1</td>\n",
       "      <td>1</td>\n",
       "      <td>SOTON/O.Q. 3101315</td>\n",
       "      <td>13.7750</td>\n",
       "      <td>NaN</td>\n",
       "      <td>S</td>\n",
       "    </tr>\n",
       "    <tr>\n",
       "      <th>410</th>\n",
       "      <td>1302</td>\n",
       "      <td>1</td>\n",
       "      <td>3</td>\n",
       "      <td>Naughton, Miss. Hannah</td>\n",
       "      <td>female</td>\n",
       "      <td>NaN</td>\n",
       "      <td>0</td>\n",
       "      <td>0</td>\n",
       "      <td>365237</td>\n",
       "      <td>7.7500</td>\n",
       "      <td>NaN</td>\n",
       "      <td>Q</td>\n",
       "    </tr>\n",
       "    <tr>\n",
       "      <th>411</th>\n",
       "      <td>1303</td>\n",
       "      <td>1</td>\n",
       "      <td>1</td>\n",
       "      <td>Minahan, Mrs. William Edward (Lillian E Thorpe)</td>\n",
       "      <td>female</td>\n",
       "      <td>37.0</td>\n",
       "      <td>1</td>\n",
       "      <td>0</td>\n",
       "      <td>19928</td>\n",
       "      <td>90.0000</td>\n",
       "      <td>C78</td>\n",
       "      <td>Q</td>\n",
       "    </tr>\n",
       "    <tr>\n",
       "      <th>412</th>\n",
       "      <td>1304</td>\n",
       "      <td>1</td>\n",
       "      <td>3</td>\n",
       "      <td>Henriksson, Miss. Jenny Lovisa</td>\n",
       "      <td>female</td>\n",
       "      <td>28.0</td>\n",
       "      <td>0</td>\n",
       "      <td>0</td>\n",
       "      <td>347086</td>\n",
       "      <td>7.7750</td>\n",
       "      <td>NaN</td>\n",
       "      <td>S</td>\n",
       "    </tr>\n",
       "    <tr>\n",
       "      <th>414</th>\n",
       "      <td>1306</td>\n",
       "      <td>1</td>\n",
       "      <td>1</td>\n",
       "      <td>Oliva y Ocana, Dona. Fermina</td>\n",
       "      <td>female</td>\n",
       "      <td>39.0</td>\n",
       "      <td>0</td>\n",
       "      <td>0</td>\n",
       "      <td>PC 17758</td>\n",
       "      <td>108.9000</td>\n",
       "      <td>C105</td>\n",
       "      <td>C</td>\n",
       "    </tr>\n",
       "  </tbody>\n",
       "</table>\n",
       "<p>152 rows × 12 columns</p>\n",
       "</div>"
      ],
      "text/plain": [
       "     PassengerId  Survived  Pclass  \\\n",
       "1            893         1       3   \n",
       "4            896         1       3   \n",
       "6            898         1       3   \n",
       "8            900         1       3   \n",
       "12           904         1       1   \n",
       "..           ...       ...     ...   \n",
       "409         1301         1       3   \n",
       "410         1302         1       3   \n",
       "411         1303         1       1   \n",
       "412         1304         1       3   \n",
       "414         1306         1       1   \n",
       "\n",
       "                                                Name     Sex   Age  SibSp  \\\n",
       "1                   Wilkes, Mrs. James (Ellen Needs)  female  47.0      1   \n",
       "4       Hirvonen, Mrs. Alexander (Helga E Lindqvist)  female  22.0      1   \n",
       "6                               Connolly, Miss. Kate  female  30.0      0   \n",
       "8          Abrahim, Mrs. Joseph (Sophie Halaut Easu)  female  18.0      0   \n",
       "12     Snyder, Mrs. John Pillsbury (Nelle Stevenson)  female  23.0      1   \n",
       "..                                               ...     ...   ...    ...   \n",
       "409                        Peacock, Miss. Treasteall  female   3.0      1   \n",
       "410                           Naughton, Miss. Hannah  female   NaN      0   \n",
       "411  Minahan, Mrs. William Edward (Lillian E Thorpe)  female  37.0      1   \n",
       "412                   Henriksson, Miss. Jenny Lovisa  female  28.0      0   \n",
       "414                     Oliva y Ocana, Dona. Fermina  female  39.0      0   \n",
       "\n",
       "     Parch              Ticket      Fare Cabin Embarked  \n",
       "1        0              363272    7.0000   NaN        S  \n",
       "4        1             3101298   12.2875   NaN        S  \n",
       "6        0              330972    7.6292   NaN        Q  \n",
       "8        0                2657    7.2292   NaN        C  \n",
       "12       0               21228   82.2667   B45        S  \n",
       "..     ...                 ...       ...   ...      ...  \n",
       "409      1  SOTON/O.Q. 3101315   13.7750   NaN        S  \n",
       "410      0              365237    7.7500   NaN        Q  \n",
       "411      0               19928   90.0000   C78        Q  \n",
       "412      0              347086    7.7750   NaN        S  \n",
       "414      0            PC 17758  108.9000  C105        C  \n",
       "\n",
       "[152 rows x 12 columns]"
      ]
     },
     "execution_count": 19,
     "metadata": {},
     "output_type": "execute_result"
    }
   ],
   "source": [
    "df[(df['Sex']=='female') & (df['Survived']==1)]"
   ]
  },
  {
   "cell_type": "code",
   "execution_count": 20,
   "id": "433174f0",
   "metadata": {
    "execution": {
     "iopub.execute_input": "2022-12-23T09:57:51.463619Z",
     "iopub.status.busy": "2022-12-23T09:57:51.463237Z",
     "iopub.status.idle": "2022-12-23T09:57:51.470066Z",
     "shell.execute_reply": "2022-12-23T09:57:51.469222Z"
    },
    "papermill": {
     "duration": 0.028656,
     "end_time": "2022-12-23T09:57:51.472117",
     "exception": false,
     "start_time": "2022-12-23T09:57:51.443461",
     "status": "completed"
    },
    "tags": []
   },
   "outputs": [],
   "source": [
    "#Dummy variables were created, 1 if female and 0 if male\n",
    "df.loc[df['Sex']=='Female', 'Dummy'] = 1\n",
    "df.loc[df['Sex']=='male', 'Dummy'] = 0"
   ]
  },
  {
   "cell_type": "code",
   "execution_count": 21,
   "id": "c53a1aa7",
   "metadata": {
    "execution": {
     "iopub.execute_input": "2022-12-23T09:57:51.510971Z",
     "iopub.status.busy": "2022-12-23T09:57:51.510593Z",
     "iopub.status.idle": "2022-12-23T09:57:51.518936Z",
     "shell.execute_reply": "2022-12-23T09:57:51.517741Z"
    },
    "papermill": {
     "duration": 0.030674,
     "end_time": "2022-12-23T09:57:51.521053",
     "exception": false,
     "start_time": "2022-12-23T09:57:51.490379",
     "status": "completed"
    },
    "tags": []
   },
   "outputs": [
    {
     "data": {
      "text/plain": [
       "76"
      ]
     },
     "execution_count": 21,
     "metadata": {},
     "output_type": "execute_result"
    }
   ],
   "source": [
    "df['Cabin'].unique()\n",
    "df['Cabin'].nunique()"
   ]
  },
  {
   "cell_type": "code",
   "execution_count": 22,
   "id": "d2e95c16",
   "metadata": {
    "execution": {
     "iopub.execute_input": "2022-12-23T09:57:51.560510Z",
     "iopub.status.busy": "2022-12-23T09:57:51.560038Z",
     "iopub.status.idle": "2022-12-23T09:57:51.583086Z",
     "shell.execute_reply": "2022-12-23T09:57:51.581974Z"
    },
    "papermill": {
     "duration": 0.045596,
     "end_time": "2022-12-23T09:57:51.585296",
     "exception": false,
     "start_time": "2022-12-23T09:57:51.539700",
     "status": "completed"
    },
    "tags": []
   },
   "outputs": [
    {
     "data": {
      "text/html": [
       "<div>\n",
       "<style scoped>\n",
       "    .dataframe tbody tr th:only-of-type {\n",
       "        vertical-align: middle;\n",
       "    }\n",
       "\n",
       "    .dataframe tbody tr th {\n",
       "        vertical-align: top;\n",
       "    }\n",
       "\n",
       "    .dataframe thead th {\n",
       "        text-align: right;\n",
       "    }\n",
       "</style>\n",
       "<table border=\"1\" class=\"dataframe\">\n",
       "  <thead>\n",
       "    <tr style=\"text-align: right;\">\n",
       "      <th></th>\n",
       "      <th>PassengerId</th>\n",
       "      <th>Survived</th>\n",
       "      <th>Pclass</th>\n",
       "      <th>Name</th>\n",
       "      <th>Sex</th>\n",
       "      <th>Age</th>\n",
       "      <th>SibSp</th>\n",
       "      <th>Parch</th>\n",
       "      <th>Ticket</th>\n",
       "      <th>Fare</th>\n",
       "      <th>Embarked</th>\n",
       "      <th>Dummy</th>\n",
       "    </tr>\n",
       "    <tr>\n",
       "      <th>Cabin</th>\n",
       "      <th></th>\n",
       "      <th></th>\n",
       "      <th></th>\n",
       "      <th></th>\n",
       "      <th></th>\n",
       "      <th></th>\n",
       "      <th></th>\n",
       "      <th></th>\n",
       "      <th></th>\n",
       "      <th></th>\n",
       "      <th></th>\n",
       "      <th></th>\n",
       "    </tr>\n",
       "  </thead>\n",
       "  <tbody>\n",
       "    <tr>\n",
       "      <th>A11</th>\n",
       "      <td>1</td>\n",
       "      <td>1</td>\n",
       "      <td>1</td>\n",
       "      <td>1</td>\n",
       "      <td>1</td>\n",
       "      <td>1</td>\n",
       "      <td>1</td>\n",
       "      <td>1</td>\n",
       "      <td>1</td>\n",
       "      <td>1</td>\n",
       "      <td>1</td>\n",
       "      <td>0</td>\n",
       "    </tr>\n",
       "    <tr>\n",
       "      <th>A18</th>\n",
       "      <td>1</td>\n",
       "      <td>1</td>\n",
       "      <td>1</td>\n",
       "      <td>1</td>\n",
       "      <td>1</td>\n",
       "      <td>1</td>\n",
       "      <td>1</td>\n",
       "      <td>1</td>\n",
       "      <td>1</td>\n",
       "      <td>1</td>\n",
       "      <td>1</td>\n",
       "      <td>1</td>\n",
       "    </tr>\n",
       "    <tr>\n",
       "      <th>A21</th>\n",
       "      <td>1</td>\n",
       "      <td>1</td>\n",
       "      <td>1</td>\n",
       "      <td>1</td>\n",
       "      <td>1</td>\n",
       "      <td>1</td>\n",
       "      <td>1</td>\n",
       "      <td>1</td>\n",
       "      <td>1</td>\n",
       "      <td>1</td>\n",
       "      <td>1</td>\n",
       "      <td>1</td>\n",
       "    </tr>\n",
       "    <tr>\n",
       "      <th>A29</th>\n",
       "      <td>1</td>\n",
       "      <td>1</td>\n",
       "      <td>1</td>\n",
       "      <td>1</td>\n",
       "      <td>1</td>\n",
       "      <td>1</td>\n",
       "      <td>1</td>\n",
       "      <td>1</td>\n",
       "      <td>1</td>\n",
       "      <td>1</td>\n",
       "      <td>1</td>\n",
       "      <td>0</td>\n",
       "    </tr>\n",
       "    <tr>\n",
       "      <th>A34</th>\n",
       "      <td>2</td>\n",
       "      <td>2</td>\n",
       "      <td>2</td>\n",
       "      <td>2</td>\n",
       "      <td>2</td>\n",
       "      <td>2</td>\n",
       "      <td>2</td>\n",
       "      <td>2</td>\n",
       "      <td>2</td>\n",
       "      <td>2</td>\n",
       "      <td>2</td>\n",
       "      <td>1</td>\n",
       "    </tr>\n",
       "    <tr>\n",
       "      <th>...</th>\n",
       "      <td>...</td>\n",
       "      <td>...</td>\n",
       "      <td>...</td>\n",
       "      <td>...</td>\n",
       "      <td>...</td>\n",
       "      <td>...</td>\n",
       "      <td>...</td>\n",
       "      <td>...</td>\n",
       "      <td>...</td>\n",
       "      <td>...</td>\n",
       "      <td>...</td>\n",
       "      <td>...</td>\n",
       "    </tr>\n",
       "    <tr>\n",
       "      <th>F G63</th>\n",
       "      <td>1</td>\n",
       "      <td>1</td>\n",
       "      <td>1</td>\n",
       "      <td>1</td>\n",
       "      <td>1</td>\n",
       "      <td>1</td>\n",
       "      <td>1</td>\n",
       "      <td>1</td>\n",
       "      <td>1</td>\n",
       "      <td>1</td>\n",
       "      <td>1</td>\n",
       "      <td>1</td>\n",
       "    </tr>\n",
       "    <tr>\n",
       "      <th>F2</th>\n",
       "      <td>1</td>\n",
       "      <td>1</td>\n",
       "      <td>1</td>\n",
       "      <td>1</td>\n",
       "      <td>1</td>\n",
       "      <td>1</td>\n",
       "      <td>1</td>\n",
       "      <td>1</td>\n",
       "      <td>1</td>\n",
       "      <td>1</td>\n",
       "      <td>1</td>\n",
       "      <td>1</td>\n",
       "    </tr>\n",
       "    <tr>\n",
       "      <th>F33</th>\n",
       "      <td>1</td>\n",
       "      <td>1</td>\n",
       "      <td>1</td>\n",
       "      <td>1</td>\n",
       "      <td>1</td>\n",
       "      <td>1</td>\n",
       "      <td>1</td>\n",
       "      <td>1</td>\n",
       "      <td>1</td>\n",
       "      <td>1</td>\n",
       "      <td>1</td>\n",
       "      <td>0</td>\n",
       "    </tr>\n",
       "    <tr>\n",
       "      <th>F4</th>\n",
       "      <td>2</td>\n",
       "      <td>2</td>\n",
       "      <td>2</td>\n",
       "      <td>2</td>\n",
       "      <td>2</td>\n",
       "      <td>2</td>\n",
       "      <td>2</td>\n",
       "      <td>2</td>\n",
       "      <td>2</td>\n",
       "      <td>2</td>\n",
       "      <td>2</td>\n",
       "      <td>0</td>\n",
       "    </tr>\n",
       "    <tr>\n",
       "      <th>G6</th>\n",
       "      <td>1</td>\n",
       "      <td>1</td>\n",
       "      <td>1</td>\n",
       "      <td>1</td>\n",
       "      <td>1</td>\n",
       "      <td>1</td>\n",
       "      <td>1</td>\n",
       "      <td>1</td>\n",
       "      <td>1</td>\n",
       "      <td>1</td>\n",
       "      <td>1</td>\n",
       "      <td>0</td>\n",
       "    </tr>\n",
       "  </tbody>\n",
       "</table>\n",
       "<p>76 rows × 12 columns</p>\n",
       "</div>"
      ],
      "text/plain": [
       "       PassengerId  Survived  Pclass  Name  Sex  Age  SibSp  Parch  Ticket  \\\n",
       "Cabin                                                                        \n",
       "A11              1         1       1     1    1    1      1      1       1   \n",
       "A18              1         1       1     1    1    1      1      1       1   \n",
       "A21              1         1       1     1    1    1      1      1       1   \n",
       "A29              1         1       1     1    1    1      1      1       1   \n",
       "A34              2         2       2     2    2    2      2      2       2   \n",
       "...            ...       ...     ...   ...  ...  ...    ...    ...     ...   \n",
       "F G63            1         1       1     1    1    1      1      1       1   \n",
       "F2               1         1       1     1    1    1      1      1       1   \n",
       "F33              1         1       1     1    1    1      1      1       1   \n",
       "F4               2         2       2     2    2    2      2      2       2   \n",
       "G6               1         1       1     1    1    1      1      1       1   \n",
       "\n",
       "       Fare  Embarked  Dummy  \n",
       "Cabin                         \n",
       "A11       1         1      0  \n",
       "A18       1         1      1  \n",
       "A21       1         1      1  \n",
       "A29       1         1      0  \n",
       "A34       2         2      1  \n",
       "...     ...       ...    ...  \n",
       "F G63     1         1      1  \n",
       "F2        1         1      1  \n",
       "F33       1         1      0  \n",
       "F4        2         2      0  \n",
       "G6        1         1      0  \n",
       "\n",
       "[76 rows x 12 columns]"
      ]
     },
     "execution_count": 22,
     "metadata": {},
     "output_type": "execute_result"
    }
   ],
   "source": [
    "#Create a group\n",
    "df.groupby(by = 'Cabin').count()"
   ]
  },
  {
   "cell_type": "code",
   "execution_count": 23,
   "id": "3b6a5f92",
   "metadata": {
    "execution": {
     "iopub.execute_input": "2022-12-23T09:57:51.624431Z",
     "iopub.status.busy": "2022-12-23T09:57:51.624013Z",
     "iopub.status.idle": "2022-12-23T09:57:51.646215Z",
     "shell.execute_reply": "2022-12-23T09:57:51.645061Z"
    },
    "papermill": {
     "duration": 0.044522,
     "end_time": "2022-12-23T09:57:51.648704",
     "exception": false,
     "start_time": "2022-12-23T09:57:51.604182",
     "status": "completed"
    },
    "tags": []
   },
   "outputs": [
    {
     "data": {
      "text/html": [
       "<div>\n",
       "<style scoped>\n",
       "    .dataframe tbody tr th:only-of-type {\n",
       "        vertical-align: middle;\n",
       "    }\n",
       "\n",
       "    .dataframe tbody tr th {\n",
       "        vertical-align: top;\n",
       "    }\n",
       "\n",
       "    .dataframe thead th {\n",
       "        text-align: right;\n",
       "    }\n",
       "</style>\n",
       "<table border=\"1\" class=\"dataframe\">\n",
       "  <thead>\n",
       "    <tr style=\"text-align: right;\">\n",
       "      <th></th>\n",
       "      <th>Cabin</th>\n",
       "      <th>PassengerId</th>\n",
       "      <th>Survived</th>\n",
       "      <th>Pclass</th>\n",
       "      <th>Name</th>\n",
       "      <th>Sex</th>\n",
       "      <th>Age</th>\n",
       "      <th>SibSp</th>\n",
       "      <th>Parch</th>\n",
       "      <th>Ticket</th>\n",
       "      <th>Fare</th>\n",
       "      <th>Embarked</th>\n",
       "      <th>Dummy</th>\n",
       "    </tr>\n",
       "  </thead>\n",
       "  <tbody>\n",
       "    <tr>\n",
       "      <th>15</th>\n",
       "      <td>B57 B59 B63 B66</td>\n",
       "      <td>3</td>\n",
       "      <td>3</td>\n",
       "      <td>3</td>\n",
       "      <td>3</td>\n",
       "      <td>3</td>\n",
       "      <td>3</td>\n",
       "      <td>3</td>\n",
       "      <td>3</td>\n",
       "      <td>3</td>\n",
       "      <td>3</td>\n",
       "      <td>3</td>\n",
       "      <td>2</td>\n",
       "    </tr>\n",
       "    <tr>\n",
       "      <th>38</th>\n",
       "      <td>C6</td>\n",
       "      <td>2</td>\n",
       "      <td>2</td>\n",
       "      <td>2</td>\n",
       "      <td>2</td>\n",
       "      <td>2</td>\n",
       "      <td>2</td>\n",
       "      <td>2</td>\n",
       "      <td>2</td>\n",
       "      <td>2</td>\n",
       "      <td>2</td>\n",
       "      <td>2</td>\n",
       "      <td>2</td>\n",
       "    </tr>\n",
       "    <tr>\n",
       "      <th>12</th>\n",
       "      <td>B45</td>\n",
       "      <td>2</td>\n",
       "      <td>2</td>\n",
       "      <td>2</td>\n",
       "      <td>2</td>\n",
       "      <td>2</td>\n",
       "      <td>2</td>\n",
       "      <td>2</td>\n",
       "      <td>2</td>\n",
       "      <td>2</td>\n",
       "      <td>2</td>\n",
       "      <td>2</td>\n",
       "      <td>1</td>\n",
       "    </tr>\n",
       "    <tr>\n",
       "      <th>41</th>\n",
       "      <td>C78</td>\n",
       "      <td>2</td>\n",
       "      <td>2</td>\n",
       "      <td>2</td>\n",
       "      <td>2</td>\n",
       "      <td>2</td>\n",
       "      <td>2</td>\n",
       "      <td>2</td>\n",
       "      <td>2</td>\n",
       "      <td>2</td>\n",
       "      <td>2</td>\n",
       "      <td>2</td>\n",
       "      <td>1</td>\n",
       "    </tr>\n",
       "    <tr>\n",
       "      <th>45</th>\n",
       "      <td>C89</td>\n",
       "      <td>2</td>\n",
       "      <td>2</td>\n",
       "      <td>2</td>\n",
       "      <td>2</td>\n",
       "      <td>2</td>\n",
       "      <td>2</td>\n",
       "      <td>2</td>\n",
       "      <td>2</td>\n",
       "      <td>2</td>\n",
       "      <td>2</td>\n",
       "      <td>2</td>\n",
       "      <td>1</td>\n",
       "    </tr>\n",
       "    <tr>\n",
       "      <th>...</th>\n",
       "      <td>...</td>\n",
       "      <td>...</td>\n",
       "      <td>...</td>\n",
       "      <td>...</td>\n",
       "      <td>...</td>\n",
       "      <td>...</td>\n",
       "      <td>...</td>\n",
       "      <td>...</td>\n",
       "      <td>...</td>\n",
       "      <td>...</td>\n",
       "      <td>...</td>\n",
       "      <td>...</td>\n",
       "      <td>...</td>\n",
       "    </tr>\n",
       "    <tr>\n",
       "      <th>34</th>\n",
       "      <td>C51</td>\n",
       "      <td>1</td>\n",
       "      <td>1</td>\n",
       "      <td>1</td>\n",
       "      <td>1</td>\n",
       "      <td>1</td>\n",
       "      <td>1</td>\n",
       "      <td>1</td>\n",
       "      <td>1</td>\n",
       "      <td>1</td>\n",
       "      <td>1</td>\n",
       "      <td>1</td>\n",
       "      <td>1</td>\n",
       "    </tr>\n",
       "    <tr>\n",
       "      <th>35</th>\n",
       "      <td>C53</td>\n",
       "      <td>1</td>\n",
       "      <td>1</td>\n",
       "      <td>1</td>\n",
       "      <td>1</td>\n",
       "      <td>1</td>\n",
       "      <td>1</td>\n",
       "      <td>1</td>\n",
       "      <td>1</td>\n",
       "      <td>1</td>\n",
       "      <td>1</td>\n",
       "      <td>1</td>\n",
       "      <td>1</td>\n",
       "    </tr>\n",
       "    <tr>\n",
       "      <th>36</th>\n",
       "      <td>C54</td>\n",
       "      <td>1</td>\n",
       "      <td>1</td>\n",
       "      <td>1</td>\n",
       "      <td>1</td>\n",
       "      <td>1</td>\n",
       "      <td>1</td>\n",
       "      <td>1</td>\n",
       "      <td>1</td>\n",
       "      <td>1</td>\n",
       "      <td>1</td>\n",
       "      <td>1</td>\n",
       "      <td>0</td>\n",
       "    </tr>\n",
       "    <tr>\n",
       "      <th>1</th>\n",
       "      <td>A18</td>\n",
       "      <td>1</td>\n",
       "      <td>1</td>\n",
       "      <td>1</td>\n",
       "      <td>1</td>\n",
       "      <td>1</td>\n",
       "      <td>1</td>\n",
       "      <td>1</td>\n",
       "      <td>1</td>\n",
       "      <td>1</td>\n",
       "      <td>1</td>\n",
       "      <td>1</td>\n",
       "      <td>1</td>\n",
       "    </tr>\n",
       "    <tr>\n",
       "      <th>75</th>\n",
       "      <td>G6</td>\n",
       "      <td>1</td>\n",
       "      <td>1</td>\n",
       "      <td>1</td>\n",
       "      <td>1</td>\n",
       "      <td>1</td>\n",
       "      <td>1</td>\n",
       "      <td>1</td>\n",
       "      <td>1</td>\n",
       "      <td>1</td>\n",
       "      <td>1</td>\n",
       "      <td>1</td>\n",
       "      <td>0</td>\n",
       "    </tr>\n",
       "  </tbody>\n",
       "</table>\n",
       "<p>76 rows × 13 columns</p>\n",
       "</div>"
      ],
      "text/plain": [
       "              Cabin  PassengerId  Survived  Pclass  Name  Sex  Age  SibSp  \\\n",
       "15  B57 B59 B63 B66            3         3       3     3    3    3      3   \n",
       "38               C6            2         2       2     2    2    2      2   \n",
       "12              B45            2         2       2     2    2    2      2   \n",
       "41              C78            2         2       2     2    2    2      2   \n",
       "45              C89            2         2       2     2    2    2      2   \n",
       "..              ...          ...       ...     ...   ...  ...  ...    ...   \n",
       "34              C51            1         1       1     1    1    1      1   \n",
       "35              C53            1         1       1     1    1    1      1   \n",
       "36              C54            1         1       1     1    1    1      1   \n",
       "1               A18            1         1       1     1    1    1      1   \n",
       "75               G6            1         1       1     1    1    1      1   \n",
       "\n",
       "    Parch  Ticket  Fare  Embarked  Dummy  \n",
       "15      3       3     3         3      2  \n",
       "38      2       2     2         2      2  \n",
       "12      2       2     2         2      1  \n",
       "41      2       2     2         2      1  \n",
       "45      2       2     2         2      1  \n",
       "..    ...     ...   ...       ...    ...  \n",
       "34      1       1     1         1      1  \n",
       "35      1       1     1         1      1  \n",
       "36      1       1     1         1      0  \n",
       "1       1       1     1         1      1  \n",
       "75      1       1     1         1      0  \n",
       "\n",
       "[76 rows x 13 columns]"
      ]
     },
     "execution_count": 23,
     "metadata": {},
     "output_type": "execute_result"
    }
   ],
   "source": [
    "df.groupby(by = 'Cabin').count().reset_index().sort_values(by='PassengerId', ascending = False)"
   ]
  },
  {
   "cell_type": "code",
   "execution_count": 24,
   "id": "f0625136",
   "metadata": {
    "execution": {
     "iopub.execute_input": "2022-12-23T09:57:51.689396Z",
     "iopub.status.busy": "2022-12-23T09:57:51.688148Z",
     "iopub.status.idle": "2022-12-23T09:57:51.697988Z",
     "shell.execute_reply": "2022-12-23T09:57:51.697020Z"
    },
    "papermill": {
     "duration": 0.033002,
     "end_time": "2022-12-23T09:57:51.700789",
     "exception": false,
     "start_time": "2022-12-23T09:57:51.667787",
     "status": "completed"
    },
    "tags": []
   },
   "outputs": [],
   "source": [
    "df = df.groupby(by = 'Cabin').count().reset_index().sort_values(by='PassengerId', ascending = False)"
   ]
  },
  {
   "cell_type": "code",
   "execution_count": 25,
   "id": "5dbc6093",
   "metadata": {
    "execution": {
     "iopub.execute_input": "2022-12-23T09:57:51.740717Z",
     "iopub.status.busy": "2022-12-23T09:57:51.740314Z",
     "iopub.status.idle": "2022-12-23T09:57:51.748084Z",
     "shell.execute_reply": "2022-12-23T09:57:51.746976Z"
    },
    "papermill": {
     "duration": 0.030553,
     "end_time": "2022-12-23T09:57:51.750422",
     "exception": false,
     "start_time": "2022-12-23T09:57:51.719869",
     "status": "completed"
    },
    "tags": []
   },
   "outputs": [
    {
     "data": {
      "text/plain": [
       "1.1973684210526316"
      ]
     },
     "execution_count": 25,
     "metadata": {},
     "output_type": "execute_result"
    }
   ],
   "source": [
    "df['Survived'].mean()"
   ]
  },
  {
   "cell_type": "code",
   "execution_count": 26,
   "id": "0476f2fe",
   "metadata": {
    "execution": {
     "iopub.execute_input": "2022-12-23T09:57:51.790954Z",
     "iopub.status.busy": "2022-12-23T09:57:51.790000Z",
     "iopub.status.idle": "2022-12-23T09:57:51.798951Z",
     "shell.execute_reply": "2022-12-23T09:57:51.797785Z"
    },
    "papermill": {
     "duration": 0.031937,
     "end_time": "2022-12-23T09:57:51.801576",
     "exception": false,
     "start_time": "2022-12-23T09:57:51.769639",
     "status": "completed"
    },
    "tags": []
   },
   "outputs": [],
   "source": [
    "#to make it easier to store data in TC format\n",
    "TC = df.groupby(by = 'Cabin').count().reset_index().sort_values(by='PassengerId', ascending = False)"
   ]
  },
  {
   "cell_type": "code",
   "execution_count": 27,
   "id": "9b9bc7a2",
   "metadata": {
    "execution": {
     "iopub.execute_input": "2022-12-23T09:57:51.841323Z",
     "iopub.status.busy": "2022-12-23T09:57:51.840898Z",
     "iopub.status.idle": "2022-12-23T09:57:51.849076Z",
     "shell.execute_reply": "2022-12-23T09:57:51.847901Z"
    },
    "papermill": {
     "duration": 0.030899,
     "end_time": "2022-12-23T09:57:51.851434",
     "exception": false,
     "start_time": "2022-12-23T09:57:51.820535",
     "status": "completed"
    },
    "tags": []
   },
   "outputs": [
    {
     "data": {
      "text/plain": [
       "76"
      ]
     },
     "execution_count": 27,
     "metadata": {},
     "output_type": "execute_result"
    }
   ],
   "source": [
    "TC['PassengerId'].sum()"
   ]
  },
  {
   "cell_type": "code",
   "execution_count": 28,
   "id": "c246708a",
   "metadata": {
    "execution": {
     "iopub.execute_input": "2022-12-23T09:57:51.892543Z",
     "iopub.status.busy": "2022-12-23T09:57:51.891276Z",
     "iopub.status.idle": "2022-12-23T09:57:52.414883Z",
     "shell.execute_reply": "2022-12-23T09:57:52.413426Z"
    },
    "papermill": {
     "duration": 0.546572,
     "end_time": "2022-12-23T09:57:52.417344",
     "exception": false,
     "start_time": "2022-12-23T09:57:51.870772",
     "status": "completed"
    },
    "tags": []
   },
   "outputs": [
    {
     "name": "stdout",
     "output_type": "stream",
     "text": [
      "Total Null Entries in training samples : 0\n",
      "Total Null Entries in testing samples  : 0\n"
     ]
    },
    {
     "data": {
      "image/png": "[encoded data removed]",
      "text/plain": [
       "<Figure size 864x360 with 2 Axes>"
      ]
     },
     "metadata": {},
     "output_type": "display_data"
    }
   ],
   "source": [
    "#Feature - Sex\n",
    "\n",
    "#Number of null values\n",
    "print(\"Total Null Entries in training samples :\", df['Sex'].isnull().sum())\n",
    "print(\"Total Null Entries in testing samples  :\", df['Sex'].isnull().sum())\n",
    "\n",
    "#Data Visualization\n",
    "fig, (ax1, ax2) = plt.subplots(1, 2, figsize=(12,5))\n",
    "sns.pointplot(data=df, x=\"Sex\", y=\"Survived\", ax=ax1)\n",
    "sns.countplot(data=df, x=\"Sex\", hue=\"Survived\", ax=ax2)\n",
    "\n",
    "#Map to integer data\n",
    "df[\"Sex\"] = df[\"Sex\"].map({\"male\" : 0, \"female\" : 1})\n",
    "df[\"Sex\"] = df[\"Sex\"].map({\"male\" : 0, \"female\" : 1})"
   ]
  },
  {
   "cell_type": "code",
   "execution_count": 29,
   "id": "682a8e31",
   "metadata": {
    "execution": {
     "iopub.execute_input": "2022-12-23T09:57:52.459017Z",
     "iopub.status.busy": "2022-12-23T09:57:52.458598Z",
     "iopub.status.idle": "2022-12-23T09:57:52.472599Z",
     "shell.execute_reply": "2022-12-23T09:57:52.471461Z"
    },
    "papermill": {
     "duration": 0.037755,
     "end_time": "2022-12-23T09:57:52.475127",
     "exception": false,
     "start_time": "2022-12-23T09:57:52.437372",
     "status": "completed"
    },
    "tags": []
   },
   "outputs": [
    {
     "data": {
      "text/html": [
       "<div>\n",
       "<style scoped>\n",
       "    .dataframe tbody tr th:only-of-type {\n",
       "        vertical-align: middle;\n",
       "    }\n",
       "\n",
       "    .dataframe tbody tr th {\n",
       "        vertical-align: top;\n",
       "    }\n",
       "\n",
       "    .dataframe thead th {\n",
       "        text-align: right;\n",
       "    }\n",
       "</style>\n",
       "<table border=\"1\" class=\"dataframe\">\n",
       "  <thead>\n",
       "    <tr style=\"text-align: right;\">\n",
       "      <th></th>\n",
       "      <th>Age</th>\n",
       "    </tr>\n",
       "  </thead>\n",
       "  <tbody>\n",
       "    <tr>\n",
       "      <th>count</th>\n",
       "      <td>76.000000</td>\n",
       "    </tr>\n",
       "    <tr>\n",
       "      <th>mean</th>\n",
       "      <td>1.144737</td>\n",
       "    </tr>\n",
       "    <tr>\n",
       "      <th>std</th>\n",
       "      <td>0.508696</td>\n",
       "    </tr>\n",
       "    <tr>\n",
       "      <th>min</th>\n",
       "      <td>0.000000</td>\n",
       "    </tr>\n",
       "    <tr>\n",
       "      <th>25%</th>\n",
       "      <td>1.000000</td>\n",
       "    </tr>\n",
       "    <tr>\n",
       "      <th>50%</th>\n",
       "      <td>1.000000</td>\n",
       "    </tr>\n",
       "    <tr>\n",
       "      <th>75%</th>\n",
       "      <td>1.000000</td>\n",
       "    </tr>\n",
       "    <tr>\n",
       "      <th>max</th>\n",
       "      <td>3.000000</td>\n",
       "    </tr>\n",
       "  </tbody>\n",
       "</table>\n",
       "</div>"
      ],
      "text/plain": [
       "             Age\n",
       "count  76.000000\n",
       "mean    1.144737\n",
       "std     0.508696\n",
       "min     0.000000\n",
       "25%     1.000000\n",
       "50%     1.000000\n",
       "75%     1.000000\n",
       "max     3.000000"
      ]
     },
     "execution_count": 29,
     "metadata": {},
     "output_type": "execute_result"
    }
   ],
   "source": [
    "df.Age.describe().to_frame()"
   ]
  },
  {
   "cell_type": "code",
   "execution_count": 30,
   "id": "95c61443",
   "metadata": {
    "execution": {
     "iopub.execute_input": "2022-12-23T09:57:52.517674Z",
     "iopub.status.busy": "2022-12-23T09:57:52.516992Z",
     "iopub.status.idle": "2022-12-23T09:57:52.867695Z",
     "shell.execute_reply": "2022-12-23T09:57:52.866571Z"
    },
    "papermill": {
     "duration": 0.374793,
     "end_time": "2022-12-23T09:57:52.870369",
     "exception": false,
     "start_time": "2022-12-23T09:57:52.495576",
     "status": "completed"
    },
    "tags": []
   },
   "outputs": [
    {
     "data": {
      "image/png": "[encoded data removed]",
      "text/plain": [
       "<Figure size 1152x504 with 1 Axes>"
      ]
     },
     "metadata": {},
     "output_type": "display_data"
    }
   ],
   "source": [
    "#Histogram\n",
    "df['Age'].hist(bins=16, color='blue' ,figsize=(16,7))\n",
    "plt.title('Age Distribution of all passengers')\n",
    "plt.xlabel('Age')\n",
    "plt.ylabel('Count')\n",
    "plt.grid(True)"
   ]
  },
  {
   "cell_type": "code",
   "execution_count": 31,
   "id": "8c9ba848",
   "metadata": {
    "execution": {
     "iopub.execute_input": "2022-12-23T09:57:52.914309Z",
     "iopub.status.busy": "2022-12-23T09:57:52.913660Z",
     "iopub.status.idle": "2022-12-23T09:57:52.968551Z",
     "shell.execute_reply": "2022-12-23T09:57:52.967338Z"
    },
    "papermill": {
     "duration": 0.07972,
     "end_time": "2022-12-23T09:57:52.971220",
     "exception": false,
     "start_time": "2022-12-23T09:57:52.891500",
     "status": "completed"
    },
    "tags": []
   },
   "outputs": [
    {
     "data": {
      "text/html": [
       "<div>\n",
       "<style scoped>\n",
       "    .dataframe tbody tr th:only-of-type {\n",
       "        vertical-align: middle;\n",
       "    }\n",
       "\n",
       "    .dataframe tbody tr th {\n",
       "        vertical-align: top;\n",
       "    }\n",
       "\n",
       "    .dataframe thead th {\n",
       "        text-align: right;\n",
       "    }\n",
       "</style>\n",
       "<table border=\"1\" class=\"dataframe\">\n",
       "  <thead>\n",
       "    <tr style=\"text-align: right;\">\n",
       "      <th></th>\n",
       "      <th>Cabin</th>\n",
       "      <th>PassengerId</th>\n",
       "      <th>Survived</th>\n",
       "      <th>Pclass</th>\n",
       "      <th>Name</th>\n",
       "      <th>Sex</th>\n",
       "      <th>Age</th>\n",
       "      <th>SibSp</th>\n",
       "      <th>Parch</th>\n",
       "      <th>Ticket</th>\n",
       "      <th>Fare</th>\n",
       "      <th>Embarked</th>\n",
       "      <th>Dummy</th>\n",
       "    </tr>\n",
       "  </thead>\n",
       "  <tbody>\n",
       "    <tr>\n",
       "      <th>count</th>\n",
       "      <td>76</td>\n",
       "      <td>76.0</td>\n",
       "      <td>76.0</td>\n",
       "      <td>76.0</td>\n",
       "      <td>76.0</td>\n",
       "      <td>76.0</td>\n",
       "      <td>76.0</td>\n",
       "      <td>76.0</td>\n",
       "      <td>76.0</td>\n",
       "      <td>76.0</td>\n",
       "      <td>76.0</td>\n",
       "      <td>76.0</td>\n",
       "      <td>76.0</td>\n",
       "    </tr>\n",
       "    <tr>\n",
       "      <th>unique</th>\n",
       "      <td>76</td>\n",
       "      <td>NaN</td>\n",
       "      <td>NaN</td>\n",
       "      <td>NaN</td>\n",
       "      <td>NaN</td>\n",
       "      <td>NaN</td>\n",
       "      <td>NaN</td>\n",
       "      <td>NaN</td>\n",
       "      <td>NaN</td>\n",
       "      <td>NaN</td>\n",
       "      <td>NaN</td>\n",
       "      <td>NaN</td>\n",
       "      <td>NaN</td>\n",
       "    </tr>\n",
       "    <tr>\n",
       "      <th>top</th>\n",
       "      <td>A11</td>\n",
       "      <td>NaN</td>\n",
       "      <td>NaN</td>\n",
       "      <td>NaN</td>\n",
       "      <td>NaN</td>\n",
       "      <td>NaN</td>\n",
       "      <td>NaN</td>\n",
       "      <td>NaN</td>\n",
       "      <td>NaN</td>\n",
       "      <td>NaN</td>\n",
       "      <td>NaN</td>\n",
       "      <td>NaN</td>\n",
       "      <td>NaN</td>\n",
       "    </tr>\n",
       "    <tr>\n",
       "      <th>freq</th>\n",
       "      <td>1</td>\n",
       "      <td>NaN</td>\n",
       "      <td>NaN</td>\n",
       "      <td>NaN</td>\n",
       "      <td>NaN</td>\n",
       "      <td>NaN</td>\n",
       "      <td>NaN</td>\n",
       "      <td>NaN</td>\n",
       "      <td>NaN</td>\n",
       "      <td>NaN</td>\n",
       "      <td>NaN</td>\n",
       "      <td>NaN</td>\n",
       "      <td>NaN</td>\n",
       "    </tr>\n",
       "    <tr>\n",
       "      <th>mean</th>\n",
       "      <td>NaN</td>\n",
       "      <td>1.0</td>\n",
       "      <td>1.0</td>\n",
       "      <td>1.0</td>\n",
       "      <td>1.0</td>\n",
       "      <td>1.0</td>\n",
       "      <td>1.0</td>\n",
       "      <td>1.0</td>\n",
       "      <td>1.0</td>\n",
       "      <td>1.0</td>\n",
       "      <td>1.0</td>\n",
       "      <td>1.0</td>\n",
       "      <td>1.0</td>\n",
       "    </tr>\n",
       "    <tr>\n",
       "      <th>std</th>\n",
       "      <td>NaN</td>\n",
       "      <td>0.0</td>\n",
       "      <td>0.0</td>\n",
       "      <td>0.0</td>\n",
       "      <td>0.0</td>\n",
       "      <td>0.0</td>\n",
       "      <td>0.0</td>\n",
       "      <td>0.0</td>\n",
       "      <td>0.0</td>\n",
       "      <td>0.0</td>\n",
       "      <td>0.0</td>\n",
       "      <td>0.0</td>\n",
       "      <td>0.0</td>\n",
       "    </tr>\n",
       "    <tr>\n",
       "      <th>min</th>\n",
       "      <td>NaN</td>\n",
       "      <td>1.0</td>\n",
       "      <td>1.0</td>\n",
       "      <td>1.0</td>\n",
       "      <td>1.0</td>\n",
       "      <td>1.0</td>\n",
       "      <td>1.0</td>\n",
       "      <td>1.0</td>\n",
       "      <td>1.0</td>\n",
       "      <td>1.0</td>\n",
       "      <td>1.0</td>\n",
       "      <td>1.0</td>\n",
       "      <td>1.0</td>\n",
       "    </tr>\n",
       "    <tr>\n",
       "      <th>25%</th>\n",
       "      <td>NaN</td>\n",
       "      <td>1.0</td>\n",
       "      <td>1.0</td>\n",
       "      <td>1.0</td>\n",
       "      <td>1.0</td>\n",
       "      <td>1.0</td>\n",
       "      <td>1.0</td>\n",
       "      <td>1.0</td>\n",
       "      <td>1.0</td>\n",
       "      <td>1.0</td>\n",
       "      <td>1.0</td>\n",
       "      <td>1.0</td>\n",
       "      <td>1.0</td>\n",
       "    </tr>\n",
       "    <tr>\n",
       "      <th>50%</th>\n",
       "      <td>NaN</td>\n",
       "      <td>1.0</td>\n",
       "      <td>1.0</td>\n",
       "      <td>1.0</td>\n",
       "      <td>1.0</td>\n",
       "      <td>1.0</td>\n",
       "      <td>1.0</td>\n",
       "      <td>1.0</td>\n",
       "      <td>1.0</td>\n",
       "      <td>1.0</td>\n",
       "      <td>1.0</td>\n",
       "      <td>1.0</td>\n",
       "      <td>1.0</td>\n",
       "    </tr>\n",
       "    <tr>\n",
       "      <th>75%</th>\n",
       "      <td>NaN</td>\n",
       "      <td>1.0</td>\n",
       "      <td>1.0</td>\n",
       "      <td>1.0</td>\n",
       "      <td>1.0</td>\n",
       "      <td>1.0</td>\n",
       "      <td>1.0</td>\n",
       "      <td>1.0</td>\n",
       "      <td>1.0</td>\n",
       "      <td>1.0</td>\n",
       "      <td>1.0</td>\n",
       "      <td>1.0</td>\n",
       "      <td>1.0</td>\n",
       "    </tr>\n",
       "    <tr>\n",
       "      <th>max</th>\n",
       "      <td>NaN</td>\n",
       "      <td>1.0</td>\n",
       "      <td>1.0</td>\n",
       "      <td>1.0</td>\n",
       "      <td>1.0</td>\n",
       "      <td>1.0</td>\n",
       "      <td>1.0</td>\n",
       "      <td>1.0</td>\n",
       "      <td>1.0</td>\n",
       "      <td>1.0</td>\n",
       "      <td>1.0</td>\n",
       "      <td>1.0</td>\n",
       "      <td>1.0</td>\n",
       "    </tr>\n",
       "  </tbody>\n",
       "</table>\n",
       "</div>"
      ],
      "text/plain": [
       "       Cabin  PassengerId  Survived  Pclass  Name   Sex   Age  SibSp  Parch  \\\n",
       "count     76         76.0      76.0    76.0  76.0  76.0  76.0   76.0   76.0   \n",
       "unique    76          NaN       NaN     NaN   NaN   NaN   NaN    NaN    NaN   \n",
       "top      A11          NaN       NaN     NaN   NaN   NaN   NaN    NaN    NaN   \n",
       "freq       1          NaN       NaN     NaN   NaN   NaN   NaN    NaN    NaN   \n",
       "mean     NaN          1.0       1.0     1.0   1.0   1.0   1.0    1.0    1.0   \n",
       "std      NaN          0.0       0.0     0.0   0.0   0.0   0.0    0.0    0.0   \n",
       "min      NaN          1.0       1.0     1.0   1.0   1.0   1.0    1.0    1.0   \n",
       "25%      NaN          1.0       1.0     1.0   1.0   1.0   1.0    1.0    1.0   \n",
       "50%      NaN          1.0       1.0     1.0   1.0   1.0   1.0    1.0    1.0   \n",
       "75%      NaN          1.0       1.0     1.0   1.0   1.0   1.0    1.0    1.0   \n",
       "max      NaN          1.0       1.0     1.0   1.0   1.0   1.0    1.0    1.0   \n",
       "\n",
       "        Ticket  Fare  Embarked  Dummy  \n",
       "count     76.0  76.0      76.0   76.0  \n",
       "unique     NaN   NaN       NaN    NaN  \n",
       "top        NaN   NaN       NaN    NaN  \n",
       "freq       NaN   NaN       NaN    NaN  \n",
       "mean       1.0   1.0       1.0    1.0  \n",
       "std        0.0   0.0       0.0    0.0  \n",
       "min        1.0   1.0       1.0    1.0  \n",
       "25%        1.0   1.0       1.0    1.0  \n",
       "50%        1.0   1.0       1.0    1.0  \n",
       "75%        1.0   1.0       1.0    1.0  \n",
       "max        1.0   1.0       1.0    1.0  "
      ]
     },
     "execution_count": 31,
     "metadata": {},
     "output_type": "execute_result"
    }
   ],
   "source": [
    "#Exploratory data analysis \n",
    "TC.describe(include='all')"
   ]
  },
  {
   "cell_type": "code",
   "execution_count": 32,
   "id": "f3e9ebc0",
   "metadata": {
    "execution": {
     "iopub.execute_input": "2022-12-23T09:57:53.014394Z",
     "iopub.status.busy": "2022-12-23T09:57:53.013967Z",
     "iopub.status.idle": "2022-12-23T09:57:53.398498Z",
     "shell.execute_reply": "2022-12-23T09:57:53.397388Z"
    },
    "papermill": {
     "duration": 0.409615,
     "end_time": "2022-12-23T09:57:53.401438",
     "exception": false,
     "start_time": "2022-12-23T09:57:52.991823",
     "status": "completed"
    },
    "tags": []
   },
   "outputs": [
    {
     "data": {
      "text/plain": [
       "<AxesSubplot:>"
      ]
     },
     "execution_count": 32,
     "metadata": {},
     "output_type": "execute_result"
    },
    {
     "data": {
      "image/png": "[encoded data removed]",
      "text/plain": [
       "<Figure size 432x288 with 2 Axes>"
      ]
     },
     "metadata": {},
     "output_type": "display_data"
    }
   ],
   "source": [
    "#visualization of missing data\n",
    "sns.heatmap(df.isnull())"
   ]
  },
  {
   "cell_type": "code",
   "execution_count": 33,
   "id": "689cb361",
   "metadata": {
    "execution": {
     "iopub.execute_input": "2022-12-23T09:57:53.445706Z",
     "iopub.status.busy": "2022-12-23T09:57:53.445312Z",
     "iopub.status.idle": "2022-12-23T09:57:53.450837Z",
     "shell.execute_reply": "2022-12-23T09:57:53.449707Z"
    },
    "papermill": {
     "duration": 0.030188,
     "end_time": "2022-12-23T09:57:53.453100",
     "exception": false,
     "start_time": "2022-12-23T09:57:53.422912",
     "status": "completed"
    },
    "tags": []
   },
   "outputs": [],
   "source": [
    "#Viewing the missing values in the dataset\n",
    "df[\"Embarked\"] = df[\"Embarked\"].fillna(\"S\")"
   ]
  },
  {
   "cell_type": "code",
   "execution_count": 34,
   "id": "5d5399b2",
   "metadata": {
    "execution": {
     "iopub.execute_input": "2022-12-23T09:57:53.497305Z",
     "iopub.status.busy": "2022-12-23T09:57:53.496834Z",
     "iopub.status.idle": "2022-12-23T09:57:53.506401Z",
     "shell.execute_reply": "2022-12-23T09:57:53.505050Z"
    },
    "papermill": {
     "duration": 0.034625,
     "end_time": "2022-12-23T09:57:53.509059",
     "exception": false,
     "start_time": "2022-12-23T09:57:53.474434",
     "status": "completed"
    },
    "tags": []
   },
   "outputs": [
    {
     "data": {
      "text/plain": [
       "1    62\n",
       "2    13\n",
       "3     1\n",
       "Name: Embarked, dtype: int64"
      ]
     },
     "execution_count": 34,
     "metadata": {},
     "output_type": "execute_result"
    }
   ],
   "source": [
    "#Checking and counting the value of the \"Embark\" colum\n",
    "df['Embarked'].value_counts()"
   ]
  },
  {
   "cell_type": "code",
   "execution_count": 35,
   "id": "cd72036c",
   "metadata": {
    "execution": {
     "iopub.execute_input": "2022-12-23T09:57:53.556749Z",
     "iopub.status.busy": "2022-12-23T09:57:53.556326Z",
     "iopub.status.idle": "2022-12-23T09:57:53.569570Z",
     "shell.execute_reply": "2022-12-23T09:57:53.568224Z"
    },
    "papermill": {
     "duration": 0.039362,
     "end_time": "2022-12-23T09:57:53.572031",
     "exception": false,
     "start_time": "2022-12-23T09:57:53.532669",
     "status": "completed"
    },
    "tags": []
   },
   "outputs": [
    {
     "data": {
      "text/html": [
       "<div>\n",
       "<style scoped>\n",
       "    .dataframe tbody tr th:only-of-type {\n",
       "        vertical-align: middle;\n",
       "    }\n",
       "\n",
       "    .dataframe tbody tr th {\n",
       "        vertical-align: top;\n",
       "    }\n",
       "\n",
       "    .dataframe thead th {\n",
       "        text-align: right;\n",
       "    }\n",
       "</style>\n",
       "<table border=\"1\" class=\"dataframe\">\n",
       "  <thead>\n",
       "    <tr style=\"text-align: right;\">\n",
       "      <th></th>\n",
       "      <th>Cabin</th>\n",
       "      <th>PassengerId</th>\n",
       "      <th>Survived</th>\n",
       "      <th>Pclass</th>\n",
       "      <th>Name</th>\n",
       "      <th>Sex</th>\n",
       "      <th>Age</th>\n",
       "      <th>SibSp</th>\n",
       "      <th>Parch</th>\n",
       "      <th>Ticket</th>\n",
       "      <th>Fare</th>\n",
       "      <th>Embarked</th>\n",
       "      <th>Dummy</th>\n",
       "    </tr>\n",
       "  </thead>\n",
       "  <tbody>\n",
       "  </tbody>\n",
       "</table>\n",
       "</div>"
      ],
      "text/plain": [
       "Empty DataFrame\n",
       "Columns: [Cabin, PassengerId, Survived, Pclass, Name, Sex, Age, SibSp, Parch, Ticket, Fare, Embarked, Dummy]\n",
       "Index: []"
      ]
     },
     "execution_count": 35,
     "metadata": {},
     "output_type": "execute_result"
    }
   ],
   "source": [
    "df[pd.isnull(df.Embarked)]"
   ]
  },
  {
   "cell_type": "code",
   "execution_count": 36,
   "id": "8b3a69f3",
   "metadata": {
    "execution": {
     "iopub.execute_input": "2022-12-23T09:57:53.617196Z",
     "iopub.status.busy": "2022-12-23T09:57:53.616746Z",
     "iopub.status.idle": "2022-12-23T09:57:53.636195Z",
     "shell.execute_reply": "2022-12-23T09:57:53.635023Z"
    },
    "papermill": {
     "duration": 0.045066,
     "end_time": "2022-12-23T09:57:53.638796",
     "exception": false,
     "start_time": "2022-12-23T09:57:53.593730",
     "status": "completed"
    },
    "tags": []
   },
   "outputs": [
    {
     "data": {
      "text/html": [
       "<div>\n",
       "<style scoped>\n",
       "    .dataframe tbody tr th:only-of-type {\n",
       "        vertical-align: middle;\n",
       "    }\n",
       "\n",
       "    .dataframe tbody tr th {\n",
       "        vertical-align: top;\n",
       "    }\n",
       "\n",
       "    .dataframe thead th {\n",
       "        text-align: right;\n",
       "    }\n",
       "</style>\n",
       "<table border=\"1\" class=\"dataframe\">\n",
       "  <thead>\n",
       "    <tr style=\"text-align: right;\">\n",
       "      <th></th>\n",
       "      <th>len</th>\n",
       "      <th>min</th>\n",
       "      <th>max</th>\n",
       "      <th>mean</th>\n",
       "    </tr>\n",
       "    <tr>\n",
       "      <th>Survived</th>\n",
       "      <th></th>\n",
       "      <th></th>\n",
       "      <th></th>\n",
       "      <th></th>\n",
       "    </tr>\n",
       "  </thead>\n",
       "  <tbody>\n",
       "    <tr>\n",
       "      <th>1</th>\n",
       "      <td>62</td>\n",
       "      <td>0</td>\n",
       "      <td>1</td>\n",
       "      <td>0.935484</td>\n",
       "    </tr>\n",
       "    <tr>\n",
       "      <th>2</th>\n",
       "      <td>13</td>\n",
       "      <td>2</td>\n",
       "      <td>2</td>\n",
       "      <td>2.000000</td>\n",
       "    </tr>\n",
       "    <tr>\n",
       "      <th>3</th>\n",
       "      <td>1</td>\n",
       "      <td>3</td>\n",
       "      <td>3</td>\n",
       "      <td>3.000000</td>\n",
       "    </tr>\n",
       "  </tbody>\n",
       "</table>\n",
       "</div>"
      ],
      "text/plain": [
       "          len  min  max      mean\n",
       "Survived                         \n",
       "1          62    0    1  0.935484\n",
       "2          13    2    2  2.000000\n",
       "3           1    3    3  3.000000"
      ]
     },
     "execution_count": 36,
     "metadata": {},
     "output_type": "execute_result"
    }
   ],
   "source": [
    "#Amount and average age of people who survived compared to those who died\n",
    "df.groupby(['Survived']).Age.agg([len,min, max,'mean'])"
   ]
  },
  {
   "cell_type": "code",
   "execution_count": 37,
   "id": "3fcab4b5",
   "metadata": {
    "execution": {
     "iopub.execute_input": "2022-12-23T09:57:53.684292Z",
     "iopub.status.busy": "2022-12-23T09:57:53.683850Z",
     "iopub.status.idle": "2022-12-23T09:57:53.692719Z",
     "shell.execute_reply": "2022-12-23T09:57:53.691529Z"
    },
    "papermill": {
     "duration": 0.034333,
     "end_time": "2022-12-23T09:57:53.695054",
     "exception": false,
     "start_time": "2022-12-23T09:57:53.660721",
     "status": "completed"
    },
    "tags": []
   },
   "outputs": [
    {
     "data": {
      "text/plain": [
       "1    62\n",
       "2    13\n",
       "3     1\n",
       "Name: Pclass, dtype: int64"
      ]
     },
     "execution_count": 37,
     "metadata": {},
     "output_type": "execute_result"
    }
   ],
   "source": [
    "df['Pclass'].value_counts()"
   ]
  },
  {
   "cell_type": "code",
   "execution_count": 38,
   "id": "90212175",
   "metadata": {
    "execution": {
     "iopub.execute_input": "2022-12-23T09:57:53.740430Z",
     "iopub.status.busy": "2022-12-23T09:57:53.739623Z",
     "iopub.status.idle": "2022-12-23T09:57:53.892378Z",
     "shell.execute_reply": "2022-12-23T09:57:53.891253Z"
    },
    "papermill": {
     "duration": 0.177967,
     "end_time": "2022-12-23T09:57:53.894650",
     "exception": false,
     "start_time": "2022-12-23T09:57:53.716683",
     "status": "completed"
    },
    "tags": []
   },
   "outputs": [
    {
     "data": {
      "text/html": [
       "<div>\n",
       "<style scoped>\n",
       "    .dataframe tbody tr th:only-of-type {\n",
       "        vertical-align: middle;\n",
       "    }\n",
       "\n",
       "    .dataframe tbody tr th {\n",
       "        vertical-align: top;\n",
       "    }\n",
       "\n",
       "    .dataframe thead th {\n",
       "        text-align: right;\n",
       "    }\n",
       "</style>\n",
       "<table border=\"1\" class=\"dataframe\">\n",
       "  <thead>\n",
       "    <tr style=\"text-align: right;\">\n",
       "      <th></th>\n",
       "      <th></th>\n",
       "      <th>len</th>\n",
       "    </tr>\n",
       "    <tr>\n",
       "      <th>Pclass</th>\n",
       "      <th>Survived</th>\n",
       "      <th></th>\n",
       "    </tr>\n",
       "  </thead>\n",
       "  <tbody>\n",
       "    <tr>\n",
       "      <th>1</th>\n",
       "      <th>1</th>\n",
       "      <td>62</td>\n",
       "    </tr>\n",
       "    <tr>\n",
       "      <th>2</th>\n",
       "      <th>2</th>\n",
       "      <td>13</td>\n",
       "    </tr>\n",
       "    <tr>\n",
       "      <th>3</th>\n",
       "      <th>3</th>\n",
       "      <td>1</td>\n",
       "    </tr>\n",
       "  </tbody>\n",
       "</table>\n",
       "</div>"
      ],
      "text/plain": [
       "                 len\n",
       "Pclass Survived     \n",
       "1      1          62\n",
       "2      2          13\n",
       "3      3           1"
      ]
     },
     "execution_count": 38,
     "metadata": {},
     "output_type": "execute_result"
    }
   ],
   "source": [
    "df.groupby(['Pclass', 'Survived']).Age.agg([len])"
   ]
  },
  {
   "cell_type": "code",
   "execution_count": 39,
   "id": "6aa331ed",
   "metadata": {
    "execution": {
     "iopub.execute_input": "2022-12-23T09:57:53.941878Z",
     "iopub.status.busy": "2022-12-23T09:57:53.941137Z",
     "iopub.status.idle": "2022-12-23T09:57:53.956407Z",
     "shell.execute_reply": "2022-12-23T09:57:53.955212Z"
    },
    "papermill": {
     "duration": 0.041943,
     "end_time": "2022-12-23T09:57:53.959125",
     "exception": false,
     "start_time": "2022-12-23T09:57:53.917182",
     "status": "completed"
    },
    "tags": []
   },
   "outputs": [
    {
     "data": {
      "text/html": [
       "<div>\n",
       "<style scoped>\n",
       "    .dataframe tbody tr th:only-of-type {\n",
       "        vertical-align: middle;\n",
       "    }\n",
       "\n",
       "    .dataframe tbody tr th {\n",
       "        vertical-align: top;\n",
       "    }\n",
       "\n",
       "    .dataframe thead th {\n",
       "        text-align: right;\n",
       "    }\n",
       "</style>\n",
       "<table border=\"1\" class=\"dataframe\">\n",
       "  <thead>\n",
       "    <tr style=\"text-align: right;\">\n",
       "      <th></th>\n",
       "      <th>len</th>\n",
       "      <th>min</th>\n",
       "      <th>max</th>\n",
       "      <th>mean</th>\n",
       "    </tr>\n",
       "    <tr>\n",
       "      <th>Survived</th>\n",
       "      <th></th>\n",
       "      <th></th>\n",
       "      <th></th>\n",
       "      <th></th>\n",
       "    </tr>\n",
       "  </thead>\n",
       "  <tbody>\n",
       "    <tr>\n",
       "      <th>1</th>\n",
       "      <td>62</td>\n",
       "      <td>0</td>\n",
       "      <td>1</td>\n",
       "      <td>0.935484</td>\n",
       "    </tr>\n",
       "    <tr>\n",
       "      <th>2</th>\n",
       "      <td>13</td>\n",
       "      <td>2</td>\n",
       "      <td>2</td>\n",
       "      <td>2.000000</td>\n",
       "    </tr>\n",
       "    <tr>\n",
       "      <th>3</th>\n",
       "      <td>1</td>\n",
       "      <td>3</td>\n",
       "      <td>3</td>\n",
       "      <td>3.000000</td>\n",
       "    </tr>\n",
       "  </tbody>\n",
       "</table>\n",
       "</div>"
      ],
      "text/plain": [
       "          len  min  max      mean\n",
       "Survived                         \n",
       "1          62    0    1  0.935484\n",
       "2          13    2    2  2.000000\n",
       "3           1    3    3  3.000000"
      ]
     },
     "execution_count": 39,
     "metadata": {},
     "output_type": "execute_result"
    }
   ],
   "source": [
    "#Number and average age of survivors compared to those who died\n",
    "df.groupby(['Survived']).Age.agg([len,min, max,'mean'])"
   ]
  },
  {
   "cell_type": "code",
   "execution_count": 40,
   "id": "9cd0c9e0",
   "metadata": {
    "execution": {
     "iopub.execute_input": "2022-12-23T09:57:54.006472Z",
     "iopub.status.busy": "2022-12-23T09:57:54.006044Z",
     "iopub.status.idle": "2022-12-23T09:57:54.021894Z",
     "shell.execute_reply": "2022-12-23T09:57:54.020570Z"
    },
    "papermill": {
     "duration": 0.043597,
     "end_time": "2022-12-23T09:57:54.024742",
     "exception": false,
     "start_time": "2022-12-23T09:57:53.981145",
     "status": "completed"
    },
    "tags": []
   },
   "outputs": [
    {
     "data": {
      "text/html": [
       "<div>\n",
       "<style scoped>\n",
       "    .dataframe tbody tr th:only-of-type {\n",
       "        vertical-align: middle;\n",
       "    }\n",
       "\n",
       "    .dataframe tbody tr th {\n",
       "        vertical-align: top;\n",
       "    }\n",
       "\n",
       "    .dataframe thead th {\n",
       "        text-align: right;\n",
       "    }\n",
       "</style>\n",
       "<table border=\"1\" class=\"dataframe\">\n",
       "  <thead>\n",
       "    <tr style=\"text-align: right;\">\n",
       "      <th></th>\n",
       "      <th></th>\n",
       "      <th>len</th>\n",
       "      <th>mean</th>\n",
       "      <th>median</th>\n",
       "    </tr>\n",
       "    <tr>\n",
       "      <th>Sex</th>\n",
       "      <th>Survived</th>\n",
       "      <th></th>\n",
       "      <th></th>\n",
       "      <th></th>\n",
       "    </tr>\n",
       "  </thead>\n",
       "  <tbody>\n",
       "  </tbody>\n",
       "</table>\n",
       "</div>"
      ],
      "text/plain": [
       "Empty DataFrame\n",
       "Columns: [len, mean, median]\n",
       "Index: []"
      ]
     },
     "execution_count": 40,
     "metadata": {},
     "output_type": "execute_result"
    }
   ],
   "source": [
    "#Amount and average age of women and men who survived compared to those who died\n",
    "df.groupby(['Sex','Survived']).Age.agg([len,'mean', 'median'])"
   ]
  },
  {
   "cell_type": "code",
   "execution_count": 41,
   "id": "49640034",
   "metadata": {
    "execution": {
     "iopub.execute_input": "2022-12-23T09:57:54.071519Z",
     "iopub.status.busy": "2022-12-23T09:57:54.071072Z",
     "iopub.status.idle": "2022-12-23T09:57:54.084565Z",
     "shell.execute_reply": "2022-12-23T09:57:54.083360Z"
    },
    "papermill": {
     "duration": 0.039489,
     "end_time": "2022-12-23T09:57:54.086981",
     "exception": false,
     "start_time": "2022-12-23T09:57:54.047492",
     "status": "completed"
    },
    "tags": []
   },
   "outputs": [
    {
     "data": {
      "text/html": [
       "<div>\n",
       "<style scoped>\n",
       "    .dataframe tbody tr th:only-of-type {\n",
       "        vertical-align: middle;\n",
       "    }\n",
       "\n",
       "    .dataframe tbody tr th {\n",
       "        vertical-align: top;\n",
       "    }\n",
       "\n",
       "    .dataframe thead th {\n",
       "        text-align: right;\n",
       "    }\n",
       "</style>\n",
       "<table border=\"1\" class=\"dataframe\">\n",
       "  <thead>\n",
       "    <tr style=\"text-align: right;\">\n",
       "      <th></th>\n",
       "      <th></th>\n",
       "      <th>len</th>\n",
       "    </tr>\n",
       "    <tr>\n",
       "      <th>Pclass</th>\n",
       "      <th>Survived</th>\n",
       "      <th></th>\n",
       "    </tr>\n",
       "  </thead>\n",
       "  <tbody>\n",
       "    <tr>\n",
       "      <th>1</th>\n",
       "      <th>1</th>\n",
       "      <td>62</td>\n",
       "    </tr>\n",
       "    <tr>\n",
       "      <th>2</th>\n",
       "      <th>2</th>\n",
       "      <td>13</td>\n",
       "    </tr>\n",
       "    <tr>\n",
       "      <th>3</th>\n",
       "      <th>3</th>\n",
       "      <td>1</td>\n",
       "    </tr>\n",
       "  </tbody>\n",
       "</table>\n",
       "</div>"
      ],
      "text/plain": [
       "                 len\n",
       "Pclass Survived     \n",
       "1      1          62\n",
       "2      2          13\n",
       "3      3           1"
      ]
     },
     "execution_count": 41,
     "metadata": {},
     "output_type": "execute_result"
    }
   ],
   "source": [
    "df.groupby(['Pclass', 'Survived']).Age.agg([len])"
   ]
  },
  {
   "cell_type": "code",
   "execution_count": 42,
   "id": "6381511e",
   "metadata": {
    "execution": {
     "iopub.execute_input": "2022-12-23T09:57:54.133957Z",
     "iopub.status.busy": "2022-12-23T09:57:54.132848Z",
     "iopub.status.idle": "2022-12-23T09:57:54.399977Z",
     "shell.execute_reply": "2022-12-23T09:57:54.398774Z"
    },
    "papermill": {
     "duration": 0.293618,
     "end_time": "2022-12-23T09:57:54.402813",
     "exception": false,
     "start_time": "2022-12-23T09:57:54.109195",
     "status": "completed"
    },
    "tags": []
   },
   "outputs": [
    {
     "data": {
      "image/png": "[encoded data removed]",
      "text/plain": [
       "<Figure size 720x576 with 1 Axes>"
      ]
     },
     "metadata": {},
     "output_type": "display_data"
    }
   ],
   "source": [
    "#Compare the chances of survival for each ticket category\n",
    "plt.figure(figsize=(10,8))\n",
    "sns.barplot(x=\"Pclass\", y=\"Survived\", data=df)\n",
    "plt.title(\"Chance of Survival for each Ticket Class\")\n",
    "plt.show()"
   ]
  },
  {
   "cell_type": "code",
   "execution_count": 43,
   "id": "c4315747",
   "metadata": {
    "execution": {
     "iopub.execute_input": "2022-12-23T09:57:54.450288Z",
     "iopub.status.busy": "2022-12-23T09:57:54.449762Z",
     "iopub.status.idle": "2022-12-23T09:57:54.741863Z",
     "shell.execute_reply": "2022-12-23T09:57:54.741014Z"
    },
    "papermill": {
     "duration": 0.318672,
     "end_time": "2022-12-23T09:57:54.744215",
     "exception": false,
     "start_time": "2022-12-23T09:57:54.425543",
     "status": "completed"
    },
    "tags": []
   },
   "outputs": [
    {
     "data": {
      "text/plain": [
       "Text(0.5, 1.0, 'Comparison: Survivors - Ticket Class')"
      ]
     },
     "execution_count": 43,
     "metadata": {},
     "output_type": "execute_result"
    },
    {
     "data": {
      "image/png": "[encoded data removed]",
      "text/plain": [
       "<Figure size 720x576 with 1 Axes>"
      ]
     },
     "metadata": {},
     "output_type": "display_data"
    }
   ],
   "source": [
    "# Survived and not survived compared for each ticket class\n",
    "plt.figure(figsize=(10,8))\n",
    "sns.countplot(x=df['Pclass'],hue=df['Survived'])\n",
    "plt.title(\"Comparison: Survivors - Ticket Class\")"
   ]
  },
  {
   "cell_type": "code",
   "execution_count": 44,
   "id": "dda0959f",
   "metadata": {
    "execution": {
     "iopub.execute_input": "2022-12-23T09:57:54.793570Z",
     "iopub.status.busy": "2022-12-23T09:57:54.792717Z",
     "iopub.status.idle": "2022-12-23T09:57:54.808547Z",
     "shell.execute_reply": "2022-12-23T09:57:54.807259Z"
    },
    "papermill": {
     "duration": 0.043698,
     "end_time": "2022-12-23T09:57:54.811251",
     "exception": false,
     "start_time": "2022-12-23T09:57:54.767553",
     "status": "completed"
    },
    "tags": []
   },
   "outputs": [
    {
     "data": {
      "text/html": [
       "<div>\n",
       "<style scoped>\n",
       "    .dataframe tbody tr th:only-of-type {\n",
       "        vertical-align: middle;\n",
       "    }\n",
       "\n",
       "    .dataframe tbody tr th {\n",
       "        vertical-align: top;\n",
       "    }\n",
       "\n",
       "    .dataframe thead th {\n",
       "        text-align: right;\n",
       "    }\n",
       "</style>\n",
       "<table border=\"1\" class=\"dataframe\">\n",
       "  <thead>\n",
       "    <tr style=\"text-align: right;\">\n",
       "      <th></th>\n",
       "      <th></th>\n",
       "      <th></th>\n",
       "      <th>len</th>\n",
       "      <th>min</th>\n",
       "      <th>max</th>\n",
       "      <th>mean</th>\n",
       "    </tr>\n",
       "    <tr>\n",
       "      <th>Sex</th>\n",
       "      <th>Survived</th>\n",
       "      <th>Pclass</th>\n",
       "      <th></th>\n",
       "      <th></th>\n",
       "      <th></th>\n",
       "      <th></th>\n",
       "    </tr>\n",
       "  </thead>\n",
       "  <tbody>\n",
       "  </tbody>\n",
       "</table>\n",
       "</div>"
      ],
      "text/plain": [
       "Empty DataFrame\n",
       "Columns: [len, min, max, mean]\n",
       "Index: []"
      ]
     },
     "execution_count": 44,
     "metadata": {},
     "output_type": "execute_result"
    }
   ],
   "source": [
    "#Survived, Pclass, Sex and Age\n",
    "# Amount and average age of women and men of each class who survived compared to those who died\n",
    "df.groupby(['Sex','Survived', 'Pclass']).Age.agg([len,min, max,'mean'])"
   ]
  },
  {
   "cell_type": "markdown",
   "id": "83a8e593",
   "metadata": {
    "papermill": {
     "duration": 0.022888,
     "end_time": "2022-12-23T09:57:54.857883",
     "exception": false,
     "start_time": "2022-12-23T09:57:54.834995",
     "status": "completed"
    },
    "tags": []
   },
   "source": [
    "# Survived and parched"
   ]
  },
  {
   "cell_type": "code",
   "execution_count": 45,
   "id": "5e5bf193",
   "metadata": {
    "execution": {
     "iopub.execute_input": "2022-12-23T09:57:54.906333Z",
     "iopub.status.busy": "2022-12-23T09:57:54.905889Z",
     "iopub.status.idle": "2022-12-23T09:57:54.913979Z",
     "shell.execute_reply": "2022-12-23T09:57:54.913132Z"
    },
    "papermill": {
     "duration": 0.035,
     "end_time": "2022-12-23T09:57:54.916050",
     "exception": false,
     "start_time": "2022-12-23T09:57:54.881050",
     "status": "completed"
    },
    "tags": []
   },
   "outputs": [
    {
     "data": {
      "text/plain": [
       "1    62\n",
       "2    13\n",
       "3     1\n",
       "Name: Parch, dtype: int64"
      ]
     },
     "execution_count": 45,
     "metadata": {},
     "output_type": "execute_result"
    }
   ],
   "source": [
    "df['Parch'].value_counts()"
   ]
  },
  {
   "cell_type": "code",
   "execution_count": 46,
   "id": "4fae25aa",
   "metadata": {
    "execution": {
     "iopub.execute_input": "2022-12-23T09:57:54.966837Z",
     "iopub.status.busy": "2022-12-23T09:57:54.966240Z",
     "iopub.status.idle": "2022-12-23T09:57:55.232804Z",
     "shell.execute_reply": "2022-12-23T09:57:55.231896Z"
    },
    "papermill": {
     "duration": 0.294228,
     "end_time": "2022-12-23T09:57:55.235100",
     "exception": false,
     "start_time": "2022-12-23T09:57:54.940872",
     "status": "completed"
    },
    "tags": []
   },
   "outputs": [
    {
     "data": {
      "image/png": "[encoded data removed]",
      "text/plain": [
       "<Figure size 864x432 with 1 Axes>"
      ]
     },
     "metadata": {},
     "output_type": "display_data"
    }
   ],
   "source": [
    "plt.figure(figsize=(12,6))\n",
    "sns.barplot(x=\"Parch\", y=\"Survived\", data=df)\n",
    "plt.title(\"Chance of Survival for Passengers with Parents or Children\")\n",
    "plt.xlabel('Number of Parents / Children')\n",
    "plt.show()"
   ]
  },
  {
   "cell_type": "code",
   "execution_count": 47,
   "id": "599509db",
   "metadata": {
    "execution": {
     "iopub.execute_input": "2022-12-23T09:57:55.284320Z",
     "iopub.status.busy": "2022-12-23T09:57:55.283847Z",
     "iopub.status.idle": "2022-12-23T09:57:55.593088Z",
     "shell.execute_reply": "2022-12-23T09:57:55.591735Z"
    },
    "papermill": {
     "duration": 0.33745,
     "end_time": "2022-12-23T09:57:55.596096",
     "exception": false,
     "start_time": "2022-12-23T09:57:55.258646",
     "status": "completed"
    },
    "tags": []
   },
   "outputs": [
    {
     "data": {
      "text/plain": [
       "Text(0.5, 0, 'Parents / Children')"
      ]
     },
     "execution_count": 47,
     "metadata": {},
     "output_type": "execute_result"
    },
    {
     "data": {
      "image/png": "[encoded data removed]",
      "text/plain": [
       "<Figure size 1152x576 with 1 Axes>"
      ]
     },
     "metadata": {},
     "output_type": "display_data"
    }
   ],
   "source": [
    "plt.figure(figsize=(16,8))\n",
    "sns.countplot(x=df['Parch'],hue=df['Survived'])\n",
    "plt.title(\"Survived - Parents or Children\")\n",
    "plt.xlabel('Parents / Children')"
   ]
  },
  {
   "cell_type": "code",
   "execution_count": 48,
   "id": "942de520",
   "metadata": {
    "execution": {
     "iopub.execute_input": "2022-12-23T09:57:55.647735Z",
     "iopub.status.busy": "2022-12-23T09:57:55.646835Z",
     "iopub.status.idle": "2022-12-23T09:57:55.663129Z",
     "shell.execute_reply": "2022-12-23T09:57:55.662073Z"
    },
    "papermill": {
     "duration": 0.045226,
     "end_time": "2022-12-23T09:57:55.666131",
     "exception": false,
     "start_time": "2022-12-23T09:57:55.620905",
     "status": "completed"
    },
    "tags": []
   },
   "outputs": [
    {
     "data": {
      "text/html": [
       "<div>\n",
       "<style scoped>\n",
       "    .dataframe tbody tr th:only-of-type {\n",
       "        vertical-align: middle;\n",
       "    }\n",
       "\n",
       "    .dataframe tbody tr th {\n",
       "        vertical-align: top;\n",
       "    }\n",
       "\n",
       "    .dataframe thead th {\n",
       "        text-align: right;\n",
       "    }\n",
       "</style>\n",
       "<table border=\"1\" class=\"dataframe\">\n",
       "  <thead>\n",
       "    <tr style=\"text-align: right;\">\n",
       "      <th></th>\n",
       "      <th></th>\n",
       "      <th>len</th>\n",
       "      <th>min</th>\n",
       "      <th>max</th>\n",
       "      <th>mean</th>\n",
       "      <th>median</th>\n",
       "    </tr>\n",
       "    <tr>\n",
       "      <th>Parch</th>\n",
       "      <th>Survived</th>\n",
       "      <th></th>\n",
       "      <th></th>\n",
       "      <th></th>\n",
       "      <th></th>\n",
       "      <th></th>\n",
       "    </tr>\n",
       "  </thead>\n",
       "  <tbody>\n",
       "    <tr>\n",
       "      <th>1</th>\n",
       "      <th>1</th>\n",
       "      <td>62</td>\n",
       "      <td>0</td>\n",
       "      <td>1</td>\n",
       "      <td>0.935484</td>\n",
       "      <td>1.0</td>\n",
       "    </tr>\n",
       "    <tr>\n",
       "      <th>2</th>\n",
       "      <th>2</th>\n",
       "      <td>13</td>\n",
       "      <td>2</td>\n",
       "      <td>2</td>\n",
       "      <td>2.000000</td>\n",
       "      <td>2.0</td>\n",
       "    </tr>\n",
       "    <tr>\n",
       "      <th>3</th>\n",
       "      <th>3</th>\n",
       "      <td>1</td>\n",
       "      <td>3</td>\n",
       "      <td>3</td>\n",
       "      <td>3.000000</td>\n",
       "      <td>3.0</td>\n",
       "    </tr>\n",
       "  </tbody>\n",
       "</table>\n",
       "</div>"
      ],
      "text/plain": [
       "                len  min  max      mean  median\n",
       "Parch Survived                                 \n",
       "1     1          62    0    1  0.935484     1.0\n",
       "2     2          13    2    2  2.000000     2.0\n",
       "3     3           1    3    3  3.000000     3.0"
      ]
     },
     "execution_count": 48,
     "metadata": {},
     "output_type": "execute_result"
    }
   ],
   "source": [
    " #Age of people with parents or children\n",
    "df.groupby(['Parch','Survived']).Age.agg([len, min, max, 'mean', 'median'])"
   ]
  },
  {
   "cell_type": "markdown",
   "id": "a9b7a1ee",
   "metadata": {
    "papermill": {
     "duration": 0.025196,
     "end_time": "2022-12-23T09:57:55.717110",
     "exception": false,
     "start_time": "2022-12-23T09:57:55.691914",
     "status": "completed"
    },
    "tags": []
   },
   "source": [
    "# Survived and Sibsp"
   ]
  },
  {
   "cell_type": "code",
   "execution_count": 49,
   "id": "7bcc4abc",
   "metadata": {
    "execution": {
     "iopub.execute_input": "2022-12-23T09:57:55.770123Z",
     "iopub.status.busy": "2022-12-23T09:57:55.769235Z",
     "iopub.status.idle": "2022-12-23T09:57:55.777141Z",
     "shell.execute_reply": "2022-12-23T09:57:55.776237Z"
    },
    "papermill": {
     "duration": 0.036579,
     "end_time": "2022-12-23T09:57:55.779587",
     "exception": false,
     "start_time": "2022-12-23T09:57:55.743008",
     "status": "completed"
    },
    "tags": []
   },
   "outputs": [
    {
     "data": {
      "text/plain": [
       "1    62\n",
       "2    13\n",
       "3     1\n",
       "Name: SibSp, dtype: int64"
      ]
     },
     "execution_count": 49,
     "metadata": {},
     "output_type": "execute_result"
    }
   ],
   "source": [
    "df.SibSp.value_counts()"
   ]
  },
  {
   "cell_type": "code",
   "execution_count": 50,
   "id": "c49e27a2",
   "metadata": {
    "execution": {
     "iopub.execute_input": "2022-12-23T09:57:55.832788Z",
     "iopub.status.busy": "2022-12-23T09:57:55.832167Z",
     "iopub.status.idle": "2022-12-23T09:57:55.845266Z",
     "shell.execute_reply": "2022-12-23T09:57:55.844387Z"
    },
    "papermill": {
     "duration": 0.041906,
     "end_time": "2022-12-23T09:57:55.847490",
     "exception": false,
     "start_time": "2022-12-23T09:57:55.805584",
     "status": "completed"
    },
    "tags": []
   },
   "outputs": [
    {
     "data": {
      "text/html": [
       "<div>\n",
       "<style scoped>\n",
       "    .dataframe tbody tr th:only-of-type {\n",
       "        vertical-align: middle;\n",
       "    }\n",
       "\n",
       "    .dataframe tbody tr th {\n",
       "        vertical-align: top;\n",
       "    }\n",
       "\n",
       "    .dataframe thead th {\n",
       "        text-align: right;\n",
       "    }\n",
       "</style>\n",
       "<table border=\"1\" class=\"dataframe\">\n",
       "  <thead>\n",
       "    <tr style=\"text-align: right;\">\n",
       "      <th></th>\n",
       "      <th></th>\n",
       "      <th>len</th>\n",
       "      <th>mean</th>\n",
       "    </tr>\n",
       "    <tr>\n",
       "      <th>SibSp</th>\n",
       "      <th>Survived</th>\n",
       "      <th></th>\n",
       "      <th></th>\n",
       "    </tr>\n",
       "  </thead>\n",
       "  <tbody>\n",
       "    <tr>\n",
       "      <th>1</th>\n",
       "      <th>1</th>\n",
       "      <td>62</td>\n",
       "      <td>0.935484</td>\n",
       "    </tr>\n",
       "    <tr>\n",
       "      <th>2</th>\n",
       "      <th>2</th>\n",
       "      <td>13</td>\n",
       "      <td>2.000000</td>\n",
       "    </tr>\n",
       "    <tr>\n",
       "      <th>3</th>\n",
       "      <th>3</th>\n",
       "      <td>1</td>\n",
       "      <td>3.000000</td>\n",
       "    </tr>\n",
       "  </tbody>\n",
       "</table>\n",
       "</div>"
      ],
      "text/plain": [
       "                len      mean\n",
       "SibSp Survived               \n",
       "1     1          62  0.935484\n",
       "2     2          13  2.000000\n",
       "3     3           1  3.000000"
      ]
     },
     "execution_count": 50,
     "metadata": {},
     "output_type": "execute_result"
    }
   ],
   "source": [
    "df.groupby(['SibSp','Survived']).Age.agg([len, 'mean'])"
   ]
  },
  {
   "cell_type": "markdown",
   "id": "dd1327c5",
   "metadata": {
    "papermill": {
     "duration": 0.024854,
     "end_time": "2022-12-23T09:57:55.898029",
     "exception": false,
     "start_time": "2022-12-23T09:57:55.873175",
     "status": "completed"
    },
    "tags": []
   },
   "source": [
    "# Survived and Embarked"
   ]
  },
  {
   "cell_type": "code",
   "execution_count": 51,
   "id": "0f57a3f2",
   "metadata": {
    "execution": {
     "iopub.execute_input": "2022-12-23T09:57:55.951426Z",
     "iopub.status.busy": "2022-12-23T09:57:55.950472Z",
     "iopub.status.idle": "2022-12-23T09:57:56.223229Z",
     "shell.execute_reply": "2022-12-23T09:57:56.222280Z"
    },
    "papermill": {
     "duration": 0.30259,
     "end_time": "2022-12-23T09:57:56.225716",
     "exception": false,
     "start_time": "2022-12-23T09:57:55.923126",
     "status": "completed"
    },
    "tags": []
   },
   "outputs": [
    {
     "data": {
      "image/png": "[encoded data removed]",
      "text/plain": [
       "<Figure size 864x432 with 1 Axes>"
      ]
     },
     "metadata": {},
     "output_type": "display_data"
    }
   ],
   "source": [
    "plt.figure(figsize=(12,6))\n",
    "sns.barplot(x=\"SibSp\", y=\"Survived\", data=df)\n",
    "plt.title(\"Chance of Survival for Passengers with Siblings or Spouses\")\n",
    "plt.xlabel('Number of Siblings / Spouses')\n",
    "plt.show()"
   ]
  },
  {
   "cell_type": "code",
   "execution_count": 52,
   "id": "0390c155",
   "metadata": {
    "execution": {
     "iopub.execute_input": "2022-12-23T09:57:56.277912Z",
     "iopub.status.busy": "2022-12-23T09:57:56.277180Z",
     "iopub.status.idle": "2022-12-23T09:57:56.292099Z",
     "shell.execute_reply": "2022-12-23T09:57:56.290904Z"
    },
    "papermill": {
     "duration": 0.043856,
     "end_time": "2022-12-23T09:57:56.294572",
     "exception": false,
     "start_time": "2022-12-23T09:57:56.250716",
     "status": "completed"
    },
    "tags": []
   },
   "outputs": [
    {
     "data": {
      "text/html": [
       "<div>\n",
       "<style scoped>\n",
       "    .dataframe tbody tr th:only-of-type {\n",
       "        vertical-align: middle;\n",
       "    }\n",
       "\n",
       "    .dataframe tbody tr th {\n",
       "        vertical-align: top;\n",
       "    }\n",
       "\n",
       "    .dataframe thead th {\n",
       "        text-align: right;\n",
       "    }\n",
       "</style>\n",
       "<table border=\"1\" class=\"dataframe\">\n",
       "  <thead>\n",
       "    <tr style=\"text-align: right;\">\n",
       "      <th></th>\n",
       "      <th></th>\n",
       "      <th>len</th>\n",
       "      <th>min</th>\n",
       "      <th>max</th>\n",
       "      <th>mean</th>\n",
       "    </tr>\n",
       "    <tr>\n",
       "      <th>SibSp</th>\n",
       "      <th>Survived</th>\n",
       "      <th></th>\n",
       "      <th></th>\n",
       "      <th></th>\n",
       "      <th></th>\n",
       "    </tr>\n",
       "  </thead>\n",
       "  <tbody>\n",
       "    <tr>\n",
       "      <th>1</th>\n",
       "      <th>1</th>\n",
       "      <td>62</td>\n",
       "      <td>0</td>\n",
       "      <td>1</td>\n",
       "      <td>0.935484</td>\n",
       "    </tr>\n",
       "    <tr>\n",
       "      <th>2</th>\n",
       "      <th>2</th>\n",
       "      <td>13</td>\n",
       "      <td>2</td>\n",
       "      <td>2</td>\n",
       "      <td>2.000000</td>\n",
       "    </tr>\n",
       "    <tr>\n",
       "      <th>3</th>\n",
       "      <th>3</th>\n",
       "      <td>1</td>\n",
       "      <td>3</td>\n",
       "      <td>3</td>\n",
       "      <td>3.000000</td>\n",
       "    </tr>\n",
       "  </tbody>\n",
       "</table>\n",
       "</div>"
      ],
      "text/plain": [
       "                len  min  max      mean\n",
       "SibSp Survived                         \n",
       "1     1          62    0    1  0.935484\n",
       "2     2          13    2    2  2.000000\n",
       "3     3           1    3    3  3.000000"
      ]
     },
     "execution_count": 52,
     "metadata": {},
     "output_type": "execute_result"
    }
   ],
   "source": [
    "df.groupby(['SibSp','Survived']).Age.agg([len, min, max, 'mean'])"
   ]
  },
  {
   "cell_type": "code",
   "execution_count": 53,
   "id": "4858a38e",
   "metadata": {
    "execution": {
     "iopub.execute_input": "2022-12-23T09:57:56.346801Z",
     "iopub.status.busy": "2022-12-23T09:57:56.346052Z",
     "iopub.status.idle": "2022-12-23T09:57:56.616385Z",
     "shell.execute_reply": "2022-12-23T09:57:56.615201Z"
    },
    "papermill": {
     "duration": 0.299414,
     "end_time": "2022-12-23T09:57:56.619015",
     "exception": false,
     "start_time": "2022-12-23T09:57:56.319601",
     "status": "completed"
    },
    "tags": []
   },
   "outputs": [
    {
     "data": {
      "image/png": "[encoded data removed]",
      "text/plain": [
       "<Figure size 720x576 with 1 Axes>"
      ]
     },
     "metadata": {},
     "output_type": "display_data"
    }
   ],
   "source": [
    "# This barplot compares the probability of survival in a given category\n",
    "plt.figure(figsize=(10,8))\n",
    "sns.barplot(x=\"Embarked\", y=\"Survived\", data=df)\n",
    "plt.title('Chance of Survival by Port of Embarkation')\n",
    "plt.xlabel('Port of Embarkation')\n",
    "plt.show()"
   ]
  },
  {
   "cell_type": "code",
   "execution_count": 54,
   "id": "b78e0460",
   "metadata": {
    "execution": {
     "iopub.execute_input": "2022-12-23T09:57:56.672570Z",
     "iopub.status.busy": "2022-12-23T09:57:56.672141Z",
     "iopub.status.idle": "2022-12-23T09:57:56.965431Z",
     "shell.execute_reply": "2022-12-23T09:57:56.964352Z"
    },
    "papermill": {
     "duration": 0.323554,
     "end_time": "2022-12-23T09:57:56.968459",
     "exception": false,
     "start_time": "2022-12-23T09:57:56.644905",
     "status": "completed"
    },
    "tags": []
   },
   "outputs": [
    {
     "data": {
      "text/plain": [
       "Text(0.5, 0, 'Port of Embarkation')"
      ]
     },
     "execution_count": 54,
     "metadata": {},
     "output_type": "execute_result"
    },
    {
     "data": {
      "image/png": "[encoded data removed]",
      "text/plain": [
       "<Figure size 720x576 with 1 Axes>"
      ]
     },
     "metadata": {},
     "output_type": "display_data"
    }
   ],
   "source": [
    "plt.figure(figsize=(10,8))\n",
    "sns.countplot(x=df['Embarked'],hue=df['Survived'])\n",
    "plt.title(\"Comparison: Survivors by Port of Embarkation\")\n",
    "plt.xlabel('Port of Embarkation')"
   ]
  },
  {
   "cell_type": "markdown",
   "id": "7a560954",
   "metadata": {
    "papermill": {
     "duration": 0.026144,
     "end_time": "2022-12-23T09:57:57.020747",
     "exception": false,
     "start_time": "2022-12-23T09:57:56.994603",
     "status": "completed"
    },
    "tags": []
   },
   "source": [
    "# Survived pivot"
   ]
  },
  {
   "cell_type": "code",
   "execution_count": 55,
   "id": "998ac533",
   "metadata": {
    "execution": {
     "iopub.execute_input": "2022-12-23T09:57:57.074755Z",
     "iopub.status.busy": "2022-12-23T09:57:57.074310Z",
     "iopub.status.idle": "2022-12-23T09:57:57.100119Z",
     "shell.execute_reply": "2022-12-23T09:57:57.098887Z"
    },
    "papermill": {
     "duration": 0.05564,
     "end_time": "2022-12-23T09:57:57.102535",
     "exception": false,
     "start_time": "2022-12-23T09:57:57.046895",
     "status": "completed"
    },
    "tags": []
   },
   "outputs": [
    {
     "data": {
      "text/html": [
       "<div>\n",
       "<style scoped>\n",
       "    .dataframe tbody tr th:only-of-type {\n",
       "        vertical-align: middle;\n",
       "    }\n",
       "\n",
       "    .dataframe tbody tr th {\n",
       "        vertical-align: top;\n",
       "    }\n",
       "\n",
       "    .dataframe thead th {\n",
       "        text-align: right;\n",
       "    }\n",
       "</style>\n",
       "<table border=\"1\" class=\"dataframe\">\n",
       "  <thead>\n",
       "    <tr style=\"text-align: right;\">\n",
       "      <th></th>\n",
       "      <th>Age</th>\n",
       "      <th>Fare</th>\n",
       "      <th>Parch</th>\n",
       "      <th>SibSp</th>\n",
       "    </tr>\n",
       "    <tr>\n",
       "      <th>Survived</th>\n",
       "      <th></th>\n",
       "      <th></th>\n",
       "      <th></th>\n",
       "      <th></th>\n",
       "    </tr>\n",
       "  </thead>\n",
       "  <tbody>\n",
       "    <tr>\n",
       "      <th>1</th>\n",
       "      <td>0.935484</td>\n",
       "      <td>1</td>\n",
       "      <td>1</td>\n",
       "      <td>1</td>\n",
       "    </tr>\n",
       "    <tr>\n",
       "      <th>2</th>\n",
       "      <td>2.000000</td>\n",
       "      <td>2</td>\n",
       "      <td>2</td>\n",
       "      <td>2</td>\n",
       "    </tr>\n",
       "    <tr>\n",
       "      <th>3</th>\n",
       "      <td>3.000000</td>\n",
       "      <td>3</td>\n",
       "      <td>3</td>\n",
       "      <td>3</td>\n",
       "    </tr>\n",
       "  </tbody>\n",
       "</table>\n",
       "</div>"
      ],
      "text/plain": [
       "               Age  Fare  Parch  SibSp\n",
       "Survived                              \n",
       "1         0.935484     1      1      1\n",
       "2         2.000000     2      2      2\n",
       "3         3.000000     3      3      3"
      ]
     },
     "execution_count": 55,
     "metadata": {},
     "output_type": "execute_result"
    }
   ],
   "source": [
    "pd.pivot_table(df, index= \"Survived\", values=['Age', 'SibSp', 'Parch', 'Fare'])"
   ]
  },
  {
   "cell_type": "markdown",
   "id": "e5091a4b",
   "metadata": {
    "papermill": {
     "duration": 0.026526,
     "end_time": "2022-12-23T09:57:57.155048",
     "exception": false,
     "start_time": "2022-12-23T09:57:57.128522",
     "status": "completed"
    },
    "tags": []
   },
   "source": [
    "# Age"
   ]
  },
  {
   "cell_type": "code",
   "execution_count": 56,
   "id": "f6ae9771",
   "metadata": {
    "execution": {
     "iopub.execute_input": "2022-12-23T09:57:57.209974Z",
     "iopub.status.busy": "2022-12-23T09:57:57.209273Z",
     "iopub.status.idle": "2022-12-23T09:57:57.475207Z",
     "shell.execute_reply": "2022-12-23T09:57:57.474067Z"
    },
    "papermill": {
     "duration": 0.296377,
     "end_time": "2022-12-23T09:57:57.477654",
     "exception": false,
     "start_time": "2022-12-23T09:57:57.181277",
     "status": "completed"
    },
    "tags": []
   },
   "outputs": [
    {
     "data": {
      "image/png": "[encoded data removed]",
      "text/plain": [
       "<Figure size 864x432 with 1 Axes>"
      ]
     },
     "metadata": {},
     "output_type": "display_data"
    }
   ],
   "source": [
    "plt.figure(figsize=(12,6))\n",
    "sns.barplot(x=\"SibSp\", y=\"Age\", data=df)\n",
    "plt.title('Average Age of Passengers with Siblings')\n",
    "plt.xlabel('Siblings')\n",
    "plt.show()"
   ]
  },
  {
   "cell_type": "markdown",
   "id": "021648a2",
   "metadata": {
    "papermill": {
     "duration": 0.026364,
     "end_time": "2022-12-23T09:57:57.530406",
     "exception": false,
     "start_time": "2022-12-23T09:57:57.504042",
     "status": "completed"
    },
    "tags": []
   },
   "source": [
    "# Fare"
   ]
  },
  {
   "cell_type": "code",
   "execution_count": 57,
   "id": "4b097016",
   "metadata": {
    "execution": {
     "iopub.execute_input": "2022-12-23T09:57:57.586894Z",
     "iopub.status.busy": "2022-12-23T09:57:57.586343Z",
     "iopub.status.idle": "2022-12-23T09:57:57.935475Z",
     "shell.execute_reply": "2022-12-23T09:57:57.934096Z"
    },
    "papermill": {
     "duration": 0.382177,
     "end_time": "2022-12-23T09:57:57.939069",
     "exception": false,
     "start_time": "2022-12-23T09:57:57.556892",
     "status": "completed"
    },
    "tags": []
   },
   "outputs": [
    {
     "data": {
      "text/plain": [
       "Text(0.5, 1.0, 'Fares Paid')"
      ]
     },
     "execution_count": 57,
     "metadata": {},
     "output_type": "execute_result"
    },
    {
     "data": {
      "image/png": "[encoded data removed]",
      "text/plain": [
       "<Figure size 1440x720 with 1 Axes>"
      ]
     },
     "metadata": {},
     "output_type": "display_data"
    }
   ],
   "source": [
    "plt.figure(figsize=(20,10))\n",
    "sns.histplot(df.Fare)\n",
    "plt.title('Fares Paid')"
   ]
  },
  {
   "cell_type": "markdown",
   "id": "bdbef5c2",
   "metadata": {
    "papermill": {
     "duration": 0.027102,
     "end_time": "2022-12-23T09:57:57.994477",
     "exception": false,
     "start_time": "2022-12-23T09:57:57.967375",
     "status": "completed"
    },
    "tags": []
   },
   "source": [
    "# Handelling outlier"
   ]
  },
  {
   "cell_type": "code",
   "execution_count": 58,
   "id": "af8bd568",
   "metadata": {
    "execution": {
     "iopub.execute_input": "2022-12-23T09:57:58.050732Z",
     "iopub.status.busy": "2022-12-23T09:57:58.050283Z",
     "iopub.status.idle": "2022-12-23T09:57:58.065117Z",
     "shell.execute_reply": "2022-12-23T09:57:58.064237Z"
    },
    "papermill": {
     "duration": 0.045309,
     "end_time": "2022-12-23T09:57:58.067384",
     "exception": false,
     "start_time": "2022-12-23T09:57:58.022075",
     "status": "completed"
    },
    "tags": []
   },
   "outputs": [
    {
     "data": {
      "text/html": [
       "<div>\n",
       "<style scoped>\n",
       "    .dataframe tbody tr th:only-of-type {\n",
       "        vertical-align: middle;\n",
       "    }\n",
       "\n",
       "    .dataframe tbody tr th {\n",
       "        vertical-align: top;\n",
       "    }\n",
       "\n",
       "    .dataframe thead th {\n",
       "        text-align: right;\n",
       "    }\n",
       "</style>\n",
       "<table border=\"1\" class=\"dataframe\">\n",
       "  <thead>\n",
       "    <tr style=\"text-align: right;\">\n",
       "      <th></th>\n",
       "      <th>Cabin</th>\n",
       "      <th>PassengerId</th>\n",
       "      <th>Survived</th>\n",
       "      <th>Pclass</th>\n",
       "      <th>Name</th>\n",
       "      <th>Sex</th>\n",
       "      <th>Age</th>\n",
       "      <th>SibSp</th>\n",
       "      <th>Parch</th>\n",
       "      <th>Ticket</th>\n",
       "      <th>Fare</th>\n",
       "      <th>Embarked</th>\n",
       "      <th>Dummy</th>\n",
       "    </tr>\n",
       "  </thead>\n",
       "  <tbody>\n",
       "    <tr>\n",
       "      <th>15</th>\n",
       "      <td>B57 B59 B63 B66</td>\n",
       "      <td>3</td>\n",
       "      <td>3</td>\n",
       "      <td>3</td>\n",
       "      <td>3</td>\n",
       "      <td>NaN</td>\n",
       "      <td>3</td>\n",
       "      <td>3</td>\n",
       "      <td>3</td>\n",
       "      <td>3</td>\n",
       "      <td>3</td>\n",
       "      <td>3</td>\n",
       "      <td>2</td>\n",
       "    </tr>\n",
       "    <tr>\n",
       "      <th>38</th>\n",
       "      <td>C6</td>\n",
       "      <td>2</td>\n",
       "      <td>2</td>\n",
       "      <td>2</td>\n",
       "      <td>2</td>\n",
       "      <td>NaN</td>\n",
       "      <td>2</td>\n",
       "      <td>2</td>\n",
       "      <td>2</td>\n",
       "      <td>2</td>\n",
       "      <td>2</td>\n",
       "      <td>2</td>\n",
       "      <td>2</td>\n",
       "    </tr>\n",
       "    <tr>\n",
       "      <th>12</th>\n",
       "      <td>B45</td>\n",
       "      <td>2</td>\n",
       "      <td>2</td>\n",
       "      <td>2</td>\n",
       "      <td>2</td>\n",
       "      <td>NaN</td>\n",
       "      <td>2</td>\n",
       "      <td>2</td>\n",
       "      <td>2</td>\n",
       "      <td>2</td>\n",
       "      <td>2</td>\n",
       "      <td>2</td>\n",
       "      <td>1</td>\n",
       "    </tr>\n",
       "    <tr>\n",
       "      <th>41</th>\n",
       "      <td>C78</td>\n",
       "      <td>2</td>\n",
       "      <td>2</td>\n",
       "      <td>2</td>\n",
       "      <td>2</td>\n",
       "      <td>NaN</td>\n",
       "      <td>2</td>\n",
       "      <td>2</td>\n",
       "      <td>2</td>\n",
       "      <td>2</td>\n",
       "      <td>2</td>\n",
       "      <td>2</td>\n",
       "      <td>1</td>\n",
       "    </tr>\n",
       "    <tr>\n",
       "      <th>45</th>\n",
       "      <td>C89</td>\n",
       "      <td>2</td>\n",
       "      <td>2</td>\n",
       "      <td>2</td>\n",
       "      <td>2</td>\n",
       "      <td>NaN</td>\n",
       "      <td>2</td>\n",
       "      <td>2</td>\n",
       "      <td>2</td>\n",
       "      <td>2</td>\n",
       "      <td>2</td>\n",
       "      <td>2</td>\n",
       "      <td>1</td>\n",
       "    </tr>\n",
       "  </tbody>\n",
       "</table>\n",
       "</div>"
      ],
      "text/plain": [
       "              Cabin  PassengerId  Survived  Pclass  Name  Sex  Age  SibSp  \\\n",
       "15  B57 B59 B63 B66            3         3       3     3  NaN    3      3   \n",
       "38               C6            2         2       2     2  NaN    2      2   \n",
       "12              B45            2         2       2     2  NaN    2      2   \n",
       "41              C78            2         2       2     2  NaN    2      2   \n",
       "45              C89            2         2       2     2  NaN    2      2   \n",
       "\n",
       "    Parch  Ticket  Fare  Embarked  Dummy  \n",
       "15      3       3     3         3      2  \n",
       "38      2       2     2         2      2  \n",
       "12      2       2     2         2      1  \n",
       "41      2       2     2         2      1  \n",
       "45      2       2     2         2      1  "
      ]
     },
     "execution_count": 58,
     "metadata": {},
     "output_type": "execute_result"
    }
   ],
   "source": [
    "df.head()"
   ]
  },
  {
   "cell_type": "code",
   "execution_count": 59,
   "id": "bf0a0253",
   "metadata": {
    "execution": {
     "iopub.execute_input": "2022-12-23T09:57:58.124482Z",
     "iopub.status.busy": "2022-12-23T09:57:58.123736Z",
     "iopub.status.idle": "2022-12-23T09:57:58.433563Z",
     "shell.execute_reply": "2022-12-23T09:57:58.431896Z"
    },
    "papermill": {
     "duration": 0.34128,
     "end_time": "2022-12-23T09:57:58.436408",
     "exception": false,
     "start_time": "2022-12-23T09:57:58.095128",
     "status": "completed"
    },
    "tags": []
   },
   "outputs": [
    {
     "data": {
      "text/plain": [
       "<AxesSubplot:xlabel='Fare', ylabel='Density'>"
      ]
     },
     "execution_count": 59,
     "metadata": {},
     "output_type": "execute_result"
    },
    {
     "data": {
      "image/png": "[encoded data removed]",
      "text/plain": [
       "<Figure size 432x288 with 1 Axes>"
      ]
     },
     "metadata": {},
     "output_type": "display_data"
    }
   ],
   "source": [
    "sns.distplot(df['Fare'])"
   ]
  },
  {
   "cell_type": "code",
   "execution_count": 60,
   "id": "f9f9410b",
   "metadata": {
    "execution": {
     "iopub.execute_input": "2022-12-23T09:57:58.495358Z",
     "iopub.status.busy": "2022-12-23T09:57:58.494665Z",
     "iopub.status.idle": "2022-12-23T09:57:58.500848Z",
     "shell.execute_reply": "2022-12-23T09:57:58.499952Z"
    },
    "papermill": {
     "duration": 0.038491,
     "end_time": "2022-12-23T09:57:58.503274",
     "exception": false,
     "start_time": "2022-12-23T09:57:58.464783",
     "status": "completed"
    },
    "tags": []
   },
   "outputs": [],
   "source": [
    "submission = df[['PassengerId', 'Survived']]"
   ]
  },
  {
   "cell_type": "code",
   "execution_count": 61,
   "id": "61ced007",
   "metadata": {},
   "outputs": [
    {
     "data": {
      "text/html": [
       "<div>\n",
       "<style scoped>\n",
       "    .dataframe tbody tr th:only-of-type {\n",
       "        vertical-align: middle;\n",
       "    }\n",
       "\n",
       "    .dataframe tbody tr th {\n",
       "        vertical-align: top;\n",
       "    }\n",
       "\n",
       "    .dataframe thead th {\n",
       "        text-align: right;\n",
       "    }\n",
       "</style>\n",
       "<table border=\"1\" class=\"dataframe\">\n",
       "  <thead>\n",
       "    <tr style=\"text-align: right;\">\n",
       "      <th></th>\n",
       "      <th>PassengerId</th>\n",
       "      <th>Survived</th>\n",
       "    </tr>\n",
       "  </thead>\n",
       "  <tbody>\n",
       "    <tr>\n",
       "      <th>15</th>\n",
       "      <td>3</td>\n",
       "      <td>3</td>\n",
       "    </tr>\n",
       "    <tr>\n",
       "      <th>38</th>\n",
       "      <td>2</td>\n",
       "      <td>2</td>\n",
       "    </tr>\n",
       "    <tr>\n",
       "      <th>12</th>\n",
       "      <td>2</td>\n",
       "      <td>2</td>\n",
       "    </tr>\n",
       "    <tr>\n",
       "      <th>41</th>\n",
       "      <td>2</td>\n",
       "      <td>2</td>\n",
       "    </tr>\n",
       "    <tr>\n",
       "      <th>45</th>\n",
       "      <td>2</td>\n",
       "      <td>2</td>\n",
       "    </tr>\n",
       "    <tr>\n",
       "      <th>...</th>\n",
       "      <td>...</td>\n",
       "      <td>...</td>\n",
       "    </tr>\n",
       "    <tr>\n",
       "      <th>34</th>\n",
       "      <td>1</td>\n",
       "      <td>1</td>\n",
       "    </tr>\n",
       "    <tr>\n",
       "      <th>35</th>\n",
       "      <td>1</td>\n",
       "      <td>1</td>\n",
       "    </tr>\n",
       "    <tr>\n",
       "      <th>36</th>\n",
       "      <td>1</td>\n",
       "      <td>1</td>\n",
       "    </tr>\n",
       "    <tr>\n",
       "      <th>1</th>\n",
       "      <td>1</td>\n",
       "      <td>1</td>\n",
       "    </tr>\n",
       "    <tr>\n",
       "      <th>75</th>\n",
       "      <td>1</td>\n",
       "      <td>1</td>\n",
       "    </tr>\n",
       "  </tbody>\n",
       "</table>\n",
       "<p>76 rows × 2 columns</p>\n",
       "</div>"
      ],
      "text/plain": [
       "    PassengerId  Survived\n",
       "15            3         3\n",
       "38            2         2\n",
       "12            2         2\n",
       "41            2         2\n",
       "45            2         2\n",
       "..          ...       ...\n",
       "34            1         1\n",
       "35            1         1\n",
       "36            1         1\n",
       "1             1         1\n",
       "75            1         1\n",
       "\n",
       "[76 rows x 2 columns]"
      ]
     },
     "execution_count": 61,
     "metadata": {},
     "output_type": "execute_result"
    }
   ],
   "source": [
    "submission"
   ]
  },
  {
   "cell_type": "code",
   "execution_count": null,
   "id": "ea2bdfbb",
   "metadata": {},
   "outputs": [],
   "source": []
  }
 ],
 "metadata": {
  "kernelspec": {
   "display_name": "base",
   "language": "python",
   "name": "python3"
  },
  "language_info": {
   "codemirror_mode": {
    "name": "ipython",
    "version": 3
   },
   "file_extension": ".py",
   "mimetype": "text/x-python",
   "name": "python",
   "nbconvert_exporter": "python",
   "pygments_lexer": "ipython3",
   "version": "3.9.7"
  },
  "papermill": {
   "default_parameters": {},
   "duration": 20.785051,
   "end_time": "2022-12-23T09:57:59.455524",
   "environment_variables": {},
   "exception": null,
   "input_path": "__notebook__.ipynb",
   "output_path": "__notebook__.ipynb",
   "parameters": {},
   "start_time": "2022-12-23T09:57:38.670473",
   "version": "2.3.4"
  },
  "vscode": {
   "interpreter": {
    "hash": "554d16f91212807607faa9486685a081685b9fb72cde3f895ae52345cfd51af2"
   }
  }
 },
 "nbformat": 4,
 "nbformat_minor": 5
}
