{
 "cells": [
  {
   "cell_type": "code",
   "execution_count": 1,
   "metadata": {
    "_cell_guid": "b1076dfc-b9ad-4769-8c92-a6c4dae69d19",
    "_uuid": "8f2839f25d086af736a60e9eeb907d3b93b6e0e5",
    "execution": {
     "iopub.execute_input": "2021-03-05T09:21:27.532007Z",
     "iopub.status.busy": "2021-03-05T09:21:27.531371Z",
     "iopub.status.idle": "2021-03-05T09:21:28.341077Z",
     "shell.execute_reply": "2021-03-05T09:21:28.341573Z"
    },
    "papermill": {
     "duration": 0.827196,
     "end_time": "2021-03-05T09:21:28.341909",
     "exception": false,
     "start_time": "2021-03-05T09:21:27.514713",
     "status": "completed"
    },
    "tags": []
   },
   "outputs": [],
   "source": [
    "# Importing Libraries\n",
    "\n",
    "import pandas as pd\n",
    "import matplotlib.pyplot as plt\n",
    "import numpy as np\n",
    "import seaborn as sns"
   ]
  },
  {
   "cell_type": "code",
   "execution_count": 2,
   "metadata": {
    "execution": {
     "iopub.execute_input": "2021-03-05T09:21:28.372622Z",
     "iopub.status.busy": "2021-03-05T09:21:28.372030Z",
     "iopub.status.idle": "2021-03-05T09:21:28.394312Z",
     "shell.execute_reply": "2021-03-05T09:21:28.394817Z"
    },
    "papermill": {
     "duration": 0.038997,
     "end_time": "2021-03-05T09:21:28.394992",
     "exception": false,
     "start_time": "2021-03-05T09:21:28.355995",
     "status": "completed"
    },
    "tags": []
   },
   "outputs": [],
   "source": [
    "# reading data set (Salary_Data.csv) using pandas\n",
    "\n",
    "df = pd.read_csv(\"C://Users//FARNANDO//Downloads//Salary_Data.csv\")"
   ]
  },
  {
   "cell_type": "code",
   "execution_count": 3,
   "metadata": {
    "execution": {
     "iopub.execute_input": "2021-03-05T09:21:28.426272Z",
     "iopub.status.busy": "2021-03-05T09:21:28.425621Z",
     "iopub.status.idle": "2021-03-05T09:21:28.450638Z",
     "shell.execute_reply": "2021-03-05T09:21:28.451119Z"
    },
    "papermill": {
     "duration": 0.042354,
     "end_time": "2021-03-05T09:21:28.451284",
     "exception": false,
     "start_time": "2021-03-05T09:21:28.408930",
     "status": "completed"
    },
    "tags": []
   },
   "outputs": [
    {
     "data": {
      "text/html": [
       "<div>\n",
       "<style scoped>\n",
       "    .dataframe tbody tr th:only-of-type {\n",
       "        vertical-align: middle;\n",
       "    }\n",
       "\n",
       "    .dataframe tbody tr th {\n",
       "        vertical-align: top;\n",
       "    }\n",
       "\n",
       "    .dataframe thead th {\n",
       "        text-align: right;\n",
       "    }\n",
       "</style>\n",
       "<table border=\"1\" class=\"dataframe\">\n",
       "  <thead>\n",
       "    <tr style=\"text-align: right;\">\n",
       "      <th></th>\n",
       "      <th>YearsExperience</th>\n",
       "      <th>Salary</th>\n",
       "    </tr>\n",
       "  </thead>\n",
       "  <tbody>\n",
       "    <tr>\n",
       "      <th>0</th>\n",
       "      <td>1.1</td>\n",
       "      <td>39343.0</td>\n",
       "    </tr>\n",
       "    <tr>\n",
       "      <th>1</th>\n",
       "      <td>1.3</td>\n",
       "      <td>46205.0</td>\n",
       "    </tr>\n",
       "    <tr>\n",
       "      <th>2</th>\n",
       "      <td>1.5</td>\n",
       "      <td>37731.0</td>\n",
       "    </tr>\n",
       "    <tr>\n",
       "      <th>3</th>\n",
       "      <td>2.0</td>\n",
       "      <td>43525.0</td>\n",
       "    </tr>\n",
       "    <tr>\n",
       "      <th>4</th>\n",
       "      <td>2.2</td>\n",
       "      <td>39891.0</td>\n",
       "    </tr>\n",
       "  </tbody>\n",
       "</table>\n",
       "</div>"
      ],
      "text/plain": [
       "   YearsExperience   Salary\n",
       "0              1.1  39343.0\n",
       "1              1.3  46205.0\n",
       "2              1.5  37731.0\n",
       "3              2.0  43525.0\n",
       "4              2.2  39891.0"
      ]
     },
     "execution_count": 3,
     "metadata": {},
     "output_type": "execute_result"
    }
   ],
   "source": [
    "## Now some Eploratory Data Analysis EDA\n",
    "\n",
    "# Checking first five rows  \n",
    "\n",
    "df.head()"
   ]
  },
  {
   "cell_type": "code",
   "execution_count": 4,
   "metadata": {
    "execution": {
     "iopub.execute_input": "2021-03-05T09:21:28.483772Z",
     "iopub.status.busy": "2021-03-05T09:21:28.483161Z",
     "iopub.status.idle": "2021-03-05T09:21:28.497988Z",
     "shell.execute_reply": "2021-03-05T09:21:28.498464Z"
    },
    "papermill": {
     "duration": 0.032686,
     "end_time": "2021-03-05T09:21:28.498647",
     "exception": false,
     "start_time": "2021-03-05T09:21:28.465961",
     "status": "completed"
    },
    "tags": []
   },
   "outputs": [
    {
     "name": "stdout",
     "output_type": "stream",
     "text": [
      "<class 'pandas.core.frame.DataFrame'>\n",
      "RangeIndex: 30 entries, 0 to 29\n",
      "Data columns (total 2 columns):\n",
      " #   Column           Non-Null Count  Dtype  \n",
      "---  ------           --------------  -----  \n",
      " 0   YearsExperience  30 non-null     float64\n",
      " 1   Salary           30 non-null     float64\n",
      "dtypes: float64(2)\n",
      "memory usage: 608.0 bytes\n"
     ]
    }
   ],
   "source": [
    "# Data set information\n",
    "\n",
    "df.info()"
   ]
  },
  {
   "cell_type": "code",
   "execution_count": 5,
   "metadata": {
    "execution": {
     "iopub.execute_input": "2021-03-05T09:21:28.545329Z",
     "iopub.status.busy": "2021-03-05T09:21:28.536043Z",
     "iopub.status.idle": "2021-03-05T09:21:28.548733Z",
     "shell.execute_reply": "2021-03-05T09:21:28.549192Z"
    },
    "papermill": {
     "duration": 0.035614,
     "end_time": "2021-03-05T09:21:28.549355",
     "exception": false,
     "start_time": "2021-03-05T09:21:28.513741",
     "status": "completed"
    },
    "tags": []
   },
   "outputs": [
    {
     "data": {
      "text/html": [
       "<div>\n",
       "<style scoped>\n",
       "    .dataframe tbody tr th:only-of-type {\n",
       "        vertical-align: middle;\n",
       "    }\n",
       "\n",
       "    .dataframe tbody tr th {\n",
       "        vertical-align: top;\n",
       "    }\n",
       "\n",
       "    .dataframe thead th {\n",
       "        text-align: right;\n",
       "    }\n",
       "</style>\n",
       "<table border=\"1\" class=\"dataframe\">\n",
       "  <thead>\n",
       "    <tr style=\"text-align: right;\">\n",
       "      <th></th>\n",
       "      <th>YearsExperience</th>\n",
       "      <th>Salary</th>\n",
       "    </tr>\n",
       "  </thead>\n",
       "  <tbody>\n",
       "    <tr>\n",
       "      <th>count</th>\n",
       "      <td>30.000000</td>\n",
       "      <td>30.000000</td>\n",
       "    </tr>\n",
       "    <tr>\n",
       "      <th>mean</th>\n",
       "      <td>5.313333</td>\n",
       "      <td>76003.000000</td>\n",
       "    </tr>\n",
       "    <tr>\n",
       "      <th>std</th>\n",
       "      <td>2.837888</td>\n",
       "      <td>27414.429785</td>\n",
       "    </tr>\n",
       "    <tr>\n",
       "      <th>min</th>\n",
       "      <td>1.100000</td>\n",
       "      <td>37731.000000</td>\n",
       "    </tr>\n",
       "    <tr>\n",
       "      <th>25%</th>\n",
       "      <td>3.200000</td>\n",
       "      <td>56720.750000</td>\n",
       "    </tr>\n",
       "    <tr>\n",
       "      <th>50%</th>\n",
       "      <td>4.700000</td>\n",
       "      <td>65237.000000</td>\n",
       "    </tr>\n",
       "    <tr>\n",
       "      <th>75%</th>\n",
       "      <td>7.700000</td>\n",
       "      <td>100544.750000</td>\n",
       "    </tr>\n",
       "    <tr>\n",
       "      <th>max</th>\n",
       "      <td>10.500000</td>\n",
       "      <td>122391.000000</td>\n",
       "    </tr>\n",
       "  </tbody>\n",
       "</table>\n",
       "</div>"
      ],
      "text/plain": [
       "       YearsExperience         Salary\n",
       "count        30.000000      30.000000\n",
       "mean          5.313333   76003.000000\n",
       "std           2.837888   27414.429785\n",
       "min           1.100000   37731.000000\n",
       "25%           3.200000   56720.750000\n",
       "50%           4.700000   65237.000000\n",
       "75%           7.700000  100544.750000\n",
       "max          10.500000  122391.000000"
      ]
     },
     "execution_count": 5,
     "metadata": {},
     "output_type": "execute_result"
    }
   ],
   "source": [
    "# Data Set statistical information\n",
    "\n",
    "df.describe()"
   ]
  },
  {
   "cell_type": "code",
   "execution_count": 6,
   "metadata": {
    "execution": {
     "iopub.execute_input": "2021-03-05T09:21:28.584302Z",
     "iopub.status.busy": "2021-03-05T09:21:28.583752Z",
     "iopub.status.idle": "2021-03-05T09:21:28.595816Z",
     "shell.execute_reply": "2021-03-05T09:21:28.595313Z"
    },
    "papermill": {
     "duration": 0.030244,
     "end_time": "2021-03-05T09:21:28.595961",
     "exception": false,
     "start_time": "2021-03-05T09:21:28.565717",
     "status": "completed"
    },
    "tags": []
   },
   "outputs": [
    {
     "data": {
      "text/html": [
       "<div>\n",
       "<style scoped>\n",
       "    .dataframe tbody tr th:only-of-type {\n",
       "        vertical-align: middle;\n",
       "    }\n",
       "\n",
       "    .dataframe tbody tr th {\n",
       "        vertical-align: top;\n",
       "    }\n",
       "\n",
       "    .dataframe thead th {\n",
       "        text-align: right;\n",
       "    }\n",
       "</style>\n",
       "<table border=\"1\" class=\"dataframe\">\n",
       "  <thead>\n",
       "    <tr style=\"text-align: right;\">\n",
       "      <th></th>\n",
       "      <th>YearsExperience</th>\n",
       "      <th>Salary</th>\n",
       "    </tr>\n",
       "  </thead>\n",
       "  <tbody>\n",
       "    <tr>\n",
       "      <th>0</th>\n",
       "      <td>False</td>\n",
       "      <td>False</td>\n",
       "    </tr>\n",
       "    <tr>\n",
       "      <th>1</th>\n",
       "      <td>False</td>\n",
       "      <td>False</td>\n",
       "    </tr>\n",
       "    <tr>\n",
       "      <th>2</th>\n",
       "      <td>False</td>\n",
       "      <td>False</td>\n",
       "    </tr>\n",
       "    <tr>\n",
       "      <th>3</th>\n",
       "      <td>False</td>\n",
       "      <td>False</td>\n",
       "    </tr>\n",
       "    <tr>\n",
       "      <th>4</th>\n",
       "      <td>False</td>\n",
       "      <td>False</td>\n",
       "    </tr>\n",
       "    <tr>\n",
       "      <th>5</th>\n",
       "      <td>False</td>\n",
       "      <td>False</td>\n",
       "    </tr>\n",
       "    <tr>\n",
       "      <th>6</th>\n",
       "      <td>False</td>\n",
       "      <td>False</td>\n",
       "    </tr>\n",
       "    <tr>\n",
       "      <th>7</th>\n",
       "      <td>False</td>\n",
       "      <td>False</td>\n",
       "    </tr>\n",
       "    <tr>\n",
       "      <th>8</th>\n",
       "      <td>False</td>\n",
       "      <td>False</td>\n",
       "    </tr>\n",
       "    <tr>\n",
       "      <th>9</th>\n",
       "      <td>False</td>\n",
       "      <td>False</td>\n",
       "    </tr>\n",
       "    <tr>\n",
       "      <th>10</th>\n",
       "      <td>False</td>\n",
       "      <td>False</td>\n",
       "    </tr>\n",
       "    <tr>\n",
       "      <th>11</th>\n",
       "      <td>False</td>\n",
       "      <td>False</td>\n",
       "    </tr>\n",
       "    <tr>\n",
       "      <th>12</th>\n",
       "      <td>False</td>\n",
       "      <td>False</td>\n",
       "    </tr>\n",
       "    <tr>\n",
       "      <th>13</th>\n",
       "      <td>False</td>\n",
       "      <td>False</td>\n",
       "    </tr>\n",
       "    <tr>\n",
       "      <th>14</th>\n",
       "      <td>False</td>\n",
       "      <td>False</td>\n",
       "    </tr>\n",
       "    <tr>\n",
       "      <th>15</th>\n",
       "      <td>False</td>\n",
       "      <td>False</td>\n",
       "    </tr>\n",
       "    <tr>\n",
       "      <th>16</th>\n",
       "      <td>False</td>\n",
       "      <td>False</td>\n",
       "    </tr>\n",
       "    <tr>\n",
       "      <th>17</th>\n",
       "      <td>False</td>\n",
       "      <td>False</td>\n",
       "    </tr>\n",
       "    <tr>\n",
       "      <th>18</th>\n",
       "      <td>False</td>\n",
       "      <td>False</td>\n",
       "    </tr>\n",
       "    <tr>\n",
       "      <th>19</th>\n",
       "      <td>False</td>\n",
       "      <td>False</td>\n",
       "    </tr>\n",
       "    <tr>\n",
       "      <th>20</th>\n",
       "      <td>False</td>\n",
       "      <td>False</td>\n",
       "    </tr>\n",
       "    <tr>\n",
       "      <th>21</th>\n",
       "      <td>False</td>\n",
       "      <td>False</td>\n",
       "    </tr>\n",
       "    <tr>\n",
       "      <th>22</th>\n",
       "      <td>False</td>\n",
       "      <td>False</td>\n",
       "    </tr>\n",
       "    <tr>\n",
       "      <th>23</th>\n",
       "      <td>False</td>\n",
       "      <td>False</td>\n",
       "    </tr>\n",
       "    <tr>\n",
       "      <th>24</th>\n",
       "      <td>False</td>\n",
       "      <td>False</td>\n",
       "    </tr>\n",
       "    <tr>\n",
       "      <th>25</th>\n",
       "      <td>False</td>\n",
       "      <td>False</td>\n",
       "    </tr>\n",
       "    <tr>\n",
       "      <th>26</th>\n",
       "      <td>False</td>\n",
       "      <td>False</td>\n",
       "    </tr>\n",
       "    <tr>\n",
       "      <th>27</th>\n",
       "      <td>False</td>\n",
       "      <td>False</td>\n",
       "    </tr>\n",
       "    <tr>\n",
       "      <th>28</th>\n",
       "      <td>False</td>\n",
       "      <td>False</td>\n",
       "    </tr>\n",
       "    <tr>\n",
       "      <th>29</th>\n",
       "      <td>False</td>\n",
       "      <td>False</td>\n",
       "    </tr>\n",
       "  </tbody>\n",
       "</table>\n",
       "</div>"
      ],
      "text/plain": [
       "    YearsExperience  Salary\n",
       "0             False   False\n",
       "1             False   False\n",
       "2             False   False\n",
       "3             False   False\n",
       "4             False   False\n",
       "5             False   False\n",
       "6             False   False\n",
       "7             False   False\n",
       "8             False   False\n",
       "9             False   False\n",
       "10            False   False\n",
       "11            False   False\n",
       "12            False   False\n",
       "13            False   False\n",
       "14            False   False\n",
       "15            False   False\n",
       "16            False   False\n",
       "17            False   False\n",
       "18            False   False\n",
       "19            False   False\n",
       "20            False   False\n",
       "21            False   False\n",
       "22            False   False\n",
       "23            False   False\n",
       "24            False   False\n",
       "25            False   False\n",
       "26            False   False\n",
       "27            False   False\n",
       "28            False   False\n",
       "29            False   False"
      ]
     },
     "execution_count": 6,
     "metadata": {},
     "output_type": "execute_result"
    }
   ],
   "source": [
    "# isnull() check if there is any null (missing) value\n",
    "\n",
    "df.isnull()"
   ]
  },
  {
   "cell_type": "code",
   "execution_count": 7,
   "metadata": {
    "execution": {
     "iopub.execute_input": "2021-03-05T09:21:28.634406Z",
     "iopub.status.busy": "2021-03-05T09:21:28.633749Z",
     "iopub.status.idle": "2021-03-05T09:21:28.637295Z",
     "shell.execute_reply": "2021-03-05T09:21:28.636744Z"
    },
    "papermill": {
     "duration": 0.02586,
     "end_time": "2021-03-05T09:21:28.637436",
     "exception": false,
     "start_time": "2021-03-05T09:21:28.611576",
     "status": "completed"
    },
    "tags": []
   },
   "outputs": [
    {
     "data": {
      "text/plain": [
       "YearsExperience    0\n",
       "Salary             0\n",
       "dtype: int64"
      ]
     },
     "execution_count": 7,
     "metadata": {},
     "output_type": "execute_result"
    }
   ],
   "source": [
    "# summing up all null value if there is any\n",
    "\n",
    "df.isnull().sum()"
   ]
  },
  {
   "cell_type": "code",
   "execution_count": 8,
   "metadata": {
    "execution": {
     "iopub.execute_input": "2021-03-05T09:21:28.675562Z",
     "iopub.status.busy": "2021-03-05T09:21:28.674968Z",
     "iopub.status.idle": "2021-03-05T09:21:28.853396Z",
     "shell.execute_reply": "2021-03-05T09:21:28.852811Z"
    },
    "papermill": {
     "duration": 0.199235,
     "end_time": "2021-03-05T09:21:28.853529",
     "exception": false,
     "start_time": "2021-03-05T09:21:28.654294",
     "status": "completed"
    },
    "tags": []
   },
   "outputs": [
    {
     "data": {
      "image/png": "[encoded data removed]",
      "text/plain": [
       "<Figure size 432x288 with 1 Axes>"
      ]
     },
     "metadata": {
      "needs_background": "light"
     },
     "output_type": "display_data"
    }
   ],
   "source": [
    "# Visualize data with matplotlib\n",
    "\n",
    "df.plot('YearsExperience' , 'Salary' , kind = 'scatter')\n",
    "plt.show()"
   ]
  },
  {
   "cell_type": "code",
   "execution_count": 9,
   "metadata": {
    "execution": {
     "iopub.execute_input": "2021-03-05T09:21:28.893239Z",
     "iopub.status.busy": "2021-03-05T09:21:28.892619Z",
     "iopub.status.idle": "2021-03-05T09:21:28.895697Z",
     "shell.execute_reply": "2021-03-05T09:21:28.895122Z"
    },
    "papermill": {
     "duration": 0.024486,
     "end_time": "2021-03-05T09:21:28.895832",
     "exception": false,
     "start_time": "2021-03-05T09:21:28.871346",
     "status": "completed"
    },
    "tags": []
   },
   "outputs": [],
   "source": [
    "# Now Splitting Data --- Train and Test Data\n",
    "\n",
    "X = df['YearsExperience']\n",
    "y = df['Salary']\n",
    "\n"
   ]
  },
  {
   "cell_type": "code",
   "execution_count": 10,
   "metadata": {
    "execution": {
     "iopub.execute_input": "2021-03-05T09:21:28.935047Z",
     "iopub.status.busy": "2021-03-05T09:21:28.934316Z",
     "iopub.status.idle": "2021-03-05T09:21:29.226192Z",
     "shell.execute_reply": "2021-03-05T09:21:29.225499Z"
    },
    "papermill": {
     "duration": 0.313594,
     "end_time": "2021-03-05T09:21:29.226336",
     "exception": false,
     "start_time": "2021-03-05T09:21:28.912742",
     "status": "completed"
    },
    "tags": []
   },
   "outputs": [],
   "source": [
    "# importing sklearn and using train_test_split to split data\n",
    "\n",
    "from sklearn.model_selection import train_test_split\n",
    " \n",
    "\n",
    "X_train , X_test , y_train , y_test = train_test_split(X,y, test_size=0.2 , random_state=100)\n",
    "\n",
    "# test_size=0.2 means we select 20% for test data\n",
    "# remaining 80% for train data\n",
    "\n"
   ]
  },
  {
   "cell_type": "code",
   "execution_count": 11,
   "metadata": {
    "execution": {
     "iopub.execute_input": "2021-03-05T09:21:29.266408Z",
     "iopub.status.busy": "2021-03-05T09:21:29.265411Z",
     "iopub.status.idle": "2021-03-05T09:21:29.270313Z",
     "shell.execute_reply": "2021-03-05T09:21:29.269872Z"
    },
    "papermill": {
     "duration": 0.026455,
     "end_time": "2021-03-05T09:21:29.270449",
     "exception": false,
     "start_time": "2021-03-05T09:21:29.243994",
     "status": "completed"
    },
    "tags": []
   },
   "outputs": [
    {
     "name": "stdout",
     "output_type": "stream",
     "text": [
      "(24,)\n",
      "(6,)\n",
      "(24,)\n",
      "(6,)\n"
     ]
    }
   ],
   "source": [
    "# Now check the dimension of train and test data and modify with correct dimension\n",
    "\n",
    "print(X_train.shape)\n",
    "print(X_test.shape)\n",
    "print(y_train.shape)\n",
    "print(y_test.shape)"
   ]
  },
  {
   "cell_type": "code",
   "execution_count": 12,
   "metadata": {
    "execution": {
     "iopub.execute_input": "2021-03-05T09:21:29.309969Z",
     "iopub.status.busy": "2021-03-05T09:21:29.309313Z",
     "iopub.status.idle": "2021-03-05T09:21:29.312631Z",
     "shell.execute_reply": "2021-03-05T09:21:29.312059Z"
    },
    "papermill": {
     "duration": 0.025018,
     "end_time": "2021-03-05T09:21:29.312793",
     "exception": false,
     "start_time": "2021-03-05T09:21:29.287775",
     "status": "completed"
    },
    "tags": []
   },
   "outputs": [
    {
     "name": "stdout",
     "output_type": "stream",
     "text": [
      "1\n",
      "1\n",
      "1\n",
      "1\n"
     ]
    }
   ],
   "source": [
    "print(X_train.ndim)\n",
    "print(X_test.ndim)\n",
    "print(y_train.ndim)\n",
    "print(y_test.ndim)"
   ]
  },
  {
   "cell_type": "code",
   "execution_count": 13,
   "metadata": {
    "execution": {
     "iopub.execute_input": "2021-03-05T09:21:29.353951Z",
     "iopub.status.busy": "2021-03-05T09:21:29.353333Z",
     "iopub.status.idle": "2021-03-05T09:21:29.356669Z",
     "shell.execute_reply": "2021-03-05T09:21:29.357090Z"
    },
    "papermill": {
     "duration": 0.02639,
     "end_time": "2021-03-05T09:21:29.357270",
     "exception": false,
     "start_time": "2021-03-05T09:21:29.330880",
     "status": "completed"
    },
    "tags": []
   },
   "outputs": [],
   "source": [
    "# We have to convert our data into 2D otherwise Expected 2D array error occurs\n",
    "\n",
    "X_train = X_train.values.reshape(-1 , 1)\n",
    "\n"
   ]
  },
  {
   "cell_type": "code",
   "execution_count": 14,
   "metadata": {
    "execution": {
     "iopub.execute_input": "2021-03-05T09:21:29.398399Z",
     "iopub.status.busy": "2021-03-05T09:21:29.397797Z",
     "iopub.status.idle": "2021-03-05T09:21:29.401306Z",
     "shell.execute_reply": "2021-03-05T09:21:29.400804Z"
    },
    "papermill": {
     "duration": 0.026254,
     "end_time": "2021-03-05T09:21:29.401440",
     "exception": false,
     "start_time": "2021-03-05T09:21:29.375186",
     "status": "completed"
    },
    "tags": []
   },
   "outputs": [],
   "source": [
    "X_test = X_test.values.reshape(-1 ,1)"
   ]
  },
  {
   "cell_type": "code",
   "execution_count": 15,
   "metadata": {
    "execution": {
     "iopub.execute_input": "2021-03-05T09:21:29.442232Z",
     "iopub.status.busy": "2021-03-05T09:21:29.441418Z",
     "iopub.status.idle": "2021-03-05T09:21:29.444643Z",
     "shell.execute_reply": "2021-03-05T09:21:29.444152Z"
    },
    "papermill": {
     "duration": 0.02556,
     "end_time": "2021-03-05T09:21:29.444821",
     "exception": false,
     "start_time": "2021-03-05T09:21:29.419261",
     "status": "completed"
    },
    "tags": []
   },
   "outputs": [],
   "source": [
    "y_train = y_train.values.reshape(-1 , 1)\n"
   ]
  },
  {
   "cell_type": "code",
   "execution_count": 16,
   "metadata": {
    "execution": {
     "iopub.execute_input": "2021-03-05T09:21:29.486438Z",
     "iopub.status.busy": "2021-03-05T09:21:29.485860Z",
     "iopub.status.idle": "2021-03-05T09:21:29.488967Z",
     "shell.execute_reply": "2021-03-05T09:21:29.488381Z"
    },
    "papermill": {
     "duration": 0.025844,
     "end_time": "2021-03-05T09:21:29.489104",
     "exception": false,
     "start_time": "2021-03-05T09:21:29.463260",
     "status": "completed"
    },
    "tags": []
   },
   "outputs": [],
   "source": [
    "y_test = y_test.values.reshape(-1 , 1)"
   ]
  },
  {
   "cell_type": "code",
   "execution_count": 17,
   "metadata": {
    "execution": {
     "iopub.execute_input": "2021-03-05T09:21:29.528958Z",
     "iopub.status.busy": "2021-03-05T09:21:29.528350Z",
     "iopub.status.idle": "2021-03-05T09:21:29.534399Z",
     "shell.execute_reply": "2021-03-05T09:21:29.533972Z"
    },
    "papermill": {
     "duration": 0.026872,
     "end_time": "2021-03-05T09:21:29.534540",
     "exception": false,
     "start_time": "2021-03-05T09:21:29.507668",
     "status": "completed"
    },
    "tags": []
   },
   "outputs": [
    {
     "name": "stdout",
     "output_type": "stream",
     "text": [
      "(24, 1)\n",
      "(6, 1)\n",
      "(24, 1)\n",
      "(6, 1)\n"
     ]
    }
   ],
   "source": [
    "# Verify if all train and test shapes become 2D\n",
    "\n",
    "print(X_train.shape)\n",
    "print(X_test.shape)\n",
    "print(y_train.shape)\n",
    "print(y_test.shape)"
   ]
  },
  {
   "cell_type": "markdown",
   "metadata": {
    "papermill": {
     "duration": 0.018366,
     "end_time": "2021-03-05T09:21:29.571757",
     "exception": false,
     "start_time": "2021-03-05T09:21:29.553391",
     "status": "completed"
    },
    "tags": []
   },
   "source": [
    "# Introducing Models\n",
    "\n",
    "\n",
    "# 1.  Linear Regression"
   ]
  },
  {
   "cell_type": "code",
   "execution_count": 18,
   "metadata": {
    "execution": {
     "iopub.execute_input": "2021-03-05T09:21:29.613463Z",
     "iopub.status.busy": "2021-03-05T09:21:29.612766Z",
     "iopub.status.idle": "2021-03-05T09:21:29.711912Z",
     "shell.execute_reply": "2021-03-05T09:21:29.711235Z"
    },
    "papermill": {
     "duration": 0.121914,
     "end_time": "2021-03-05T09:21:29.712055",
     "exception": false,
     "start_time": "2021-03-05T09:21:29.590141",
     "status": "completed"
    },
    "tags": []
   },
   "outputs": [],
   "source": [
    "# Importing Linear Regression \n",
    "\n",
    "from sklearn.linear_model import LinearRegression\n",
    "lr = LinearRegression()"
   ]
  },
  {
   "cell_type": "code",
   "execution_count": 19,
   "metadata": {
    "execution": {
     "iopub.execute_input": "2021-03-05T09:21:29.768881Z",
     "iopub.status.busy": "2021-03-05T09:21:29.768256Z",
     "iopub.status.idle": "2021-03-05T09:21:29.773198Z",
     "shell.execute_reply": "2021-03-05T09:21:29.773642Z"
    },
    "papermill": {
     "duration": 0.042802,
     "end_time": "2021-03-05T09:21:29.773822",
     "exception": false,
     "start_time": "2021-03-05T09:21:29.731020",
     "status": "completed"
    },
    "tags": []
   },
   "outputs": [
    {
     "data": {
      "text/html": [
       "<style>#sk-container-id-1 {color: black;background-color: white;}#sk-container-id-1 pre{padding: 0;}#sk-container-id-1 div.sk-toggleable {background-color: white;}#sk-container-id-1 label.sk-toggleable__label {cursor: pointer;display: block;width: 100%;margin-bottom: 0;padding: 0.3em;box-sizing: border-box;text-align: center;}#sk-container-id-1 label.sk-toggleable__label-arrow:before {content: \"▸\";float: left;margin-right: 0.25em;color: #696969;}#sk-container-id-1 label.sk-toggleable__label-arrow:hover:before {color: black;}#sk-container-id-1 div.sk-estimator:hover label.sk-toggleable__label-arrow:before {color: black;}#sk-container-id-1 div.sk-toggleable__content {max-height: 0;max-width: 0;overflow: hidden;text-align: left;background-color: #f0f8ff;}#sk-container-id-1 div.sk-toggleable__content pre {margin: 0.2em;color: black;border-radius: 0.25em;background-color: #f0f8ff;}#sk-container-id-1 input.sk-toggleable__control:checked~div.sk-toggleable__content {max-height: 200px;max-width: 100%;overflow: auto;}#sk-container-id-1 input.sk-toggleable__control:checked~label.sk-toggleable__label-arrow:before {content: \"▾\";}#sk-container-id-1 div.sk-estimator input.sk-toggleable__control:checked~label.sk-toggleable__label {background-color: #d4ebff;}#sk-container-id-1 div.sk-label input.sk-toggleable__control:checked~label.sk-toggleable__label {background-color: #d4ebff;}#sk-container-id-1 input.sk-hidden--visually {border: 0;clip: rect(1px 1px 1px 1px);clip: rect(1px, 1px, 1px, 1px);height: 1px;margin: -1px;overflow: hidden;padding: 0;position: absolute;width: 1px;}#sk-container-id-1 div.sk-estimator {font-family: monospace;background-color: #f0f8ff;border: 1px dotted black;border-radius: 0.25em;box-sizing: border-box;margin-bottom: 0.5em;}#sk-container-id-1 div.sk-estimator:hover {background-color: #d4ebff;}#sk-container-id-1 div.sk-parallel-item::after {content: \"\";width: 100%;border-bottom: 1px solid gray;flex-grow: 1;}#sk-container-id-1 div.sk-label:hover label.sk-toggleable__label {background-color: #d4ebff;}#sk-container-id-1 div.sk-serial::before {content: \"\";position: absolute;border-left: 1px solid gray;box-sizing: border-box;top: 0;bottom: 0;left: 50%;z-index: 0;}#sk-container-id-1 div.sk-serial {display: flex;flex-direction: column;align-items: center;background-color: white;padding-right: 0.2em;padding-left: 0.2em;position: relative;}#sk-container-id-1 div.sk-item {position: relative;z-index: 1;}#sk-container-id-1 div.sk-parallel {display: flex;align-items: stretch;justify-content: center;background-color: white;position: relative;}#sk-container-id-1 div.sk-item::before, #sk-container-id-1 div.sk-parallel-item::before {content: \"\";position: absolute;border-left: 1px solid gray;box-sizing: border-box;top: 0;bottom: 0;left: 50%;z-index: -1;}#sk-container-id-1 div.sk-parallel-item {display: flex;flex-direction: column;z-index: 1;position: relative;background-color: white;}#sk-container-id-1 div.sk-parallel-item:first-child::after {align-self: flex-end;width: 50%;}#sk-container-id-1 div.sk-parallel-item:last-child::after {align-self: flex-start;width: 50%;}#sk-container-id-1 div.sk-parallel-item:only-child::after {width: 0;}#sk-container-id-1 div.sk-dashed-wrapped {border: 1px dashed gray;margin: 0 0.4em 0.5em 0.4em;box-sizing: border-box;padding-bottom: 0.4em;background-color: white;}#sk-container-id-1 div.sk-label label {font-family: monospace;font-weight: bold;display: inline-block;line-height: 1.2em;}#sk-container-id-1 div.sk-label-container {text-align: center;}#sk-container-id-1 div.sk-container {/* jupyter's `normalize.less` sets `[hidden] { display: none; }` but bootstrap.min.css set `[hidden] { display: none !important; }` so we also need the `!important` here to be able to override the default hidden behavior on the sphinx rendered scikit-learn.org. See: https://github.com/scikit-learn/scikit-learn/issues/21755 */display: inline-block !important;position: relative;}#sk-container-id-1 div.sk-text-repr-fallback {display: none;}</style><div id=\"sk-container-id-1\" class=\"sk-top-container\"><div class=\"sk-text-repr-fallback\"><pre>LinearRegression()</pre><b>In a Jupyter environment, please rerun this cell to show the HTML representation or trust the notebook. <br />On GitHub, the HTML representation is unable to render, please try loading this page with nbviewer.org.</b></div><div class=\"sk-container\" hidden><div class=\"sk-item\"><div class=\"sk-estimator sk-toggleable\"><input class=\"sk-toggleable__control sk-hidden--visually\" id=\"sk-estimator-id-1\" type=\"checkbox\" checked><label for=\"sk-estimator-id-1\" class=\"sk-toggleable__label sk-toggleable__label-arrow\">LinearRegression</label><div class=\"sk-toggleable__content\"><pre>LinearRegression()</pre></div></div></div></div></div>"
      ],
      "text/plain": [
       "LinearRegression()"
      ]
     },
     "execution_count": 19,
     "metadata": {},
     "output_type": "execute_result"
    }
   ],
   "source": [
    "# Training model by introducing training data in lr.fit\n",
    "\n",
    "lr.fit(X_train , y_train)  \n"
   ]
  },
  {
   "cell_type": "code",
   "execution_count": 20,
   "metadata": {
    "execution": {
     "iopub.execute_input": "2021-03-05T09:21:29.814412Z",
     "iopub.status.busy": "2021-03-05T09:21:29.813849Z",
     "iopub.status.idle": "2021-03-05T09:21:29.819316Z",
     "shell.execute_reply": "2021-03-05T09:21:29.818856Z"
    },
    "papermill": {
     "duration": 0.026677,
     "end_time": "2021-03-05T09:21:29.819445",
     "exception": false,
     "start_time": "2021-03-05T09:21:29.792768",
     "status": "completed"
    },
    "tags": []
   },
   "outputs": [
    {
     "data": {
      "text/plain": [
       "array([[ 61455.19576289],\n",
       "       [115749.67082676],\n",
       "       [123238.56393901],\n",
       "       [ 65199.64231902],\n",
       "       [ 53966.30265063],\n",
       "       [ 64263.53067999]])"
      ]
     },
     "execution_count": 20,
     "metadata": {},
     "output_type": "execute_result"
    }
   ],
   "source": [
    "# Now Prediction\n",
    "\n",
    "ylr_pred = lr.predict(X_test)\n",
    "ylr_pred"
   ]
  },
  {
   "cell_type": "code",
   "execution_count": 21,
   "metadata": {
    "execution": {
     "iopub.execute_input": "2021-03-05T09:21:29.864389Z",
     "iopub.status.busy": "2021-03-05T09:21:29.863407Z",
     "iopub.status.idle": "2021-03-05T09:21:29.867568Z",
     "shell.execute_reply": "2021-03-05T09:21:29.866967Z"
    },
    "papermill": {
     "duration": 0.028779,
     "end_time": "2021-03-05T09:21:29.867730",
     "exception": false,
     "start_time": "2021-03-05T09:21:29.838951",
     "status": "completed"
    },
    "tags": []
   },
   "outputs": [
    {
     "data": {
      "text/plain": [
       "4072.3265372536903"
      ]
     },
     "execution_count": 21,
     "metadata": {},
     "output_type": "execute_result"
    }
   ],
   "source": [
    "# Importing regression matrices for mean_absoulute_error and r2_score\n",
    "\n",
    "from sklearn.metrics import mean_absolute_error as mae , r2_score\n",
    "\n",
    "lr_mae = mae(y_test , ylr_pred)\n",
    "lr_mae"
   ]
  },
  {
   "cell_type": "code",
   "execution_count": 22,
   "metadata": {
    "execution": {
     "iopub.execute_input": "2021-03-05T09:21:29.913257Z",
     "iopub.status.busy": "2021-03-05T09:21:29.912634Z",
     "iopub.status.idle": "2021-03-05T09:21:29.916921Z",
     "shell.execute_reply": "2021-03-05T09:21:29.916071Z"
    },
    "papermill": {
     "duration": 0.029563,
     "end_time": "2021-03-05T09:21:29.917105",
     "exception": false,
     "start_time": "2021-03-05T09:21:29.887542",
     "status": "completed"
    },
    "tags": []
   },
   "outputs": [
    {
     "name": "stdout",
     "output_type": "stream",
     "text": [
      "0.9720725422361338\n",
      "97.21 %\n"
     ]
    }
   ],
   "source": [
    "# Check thr r2 score for accuracy of model\n",
    "\n",
    "lr_r2 = r2_score(y_test , ylr_pred)\n",
    "\n",
    "print(lr_r2)  \n",
    "\n",
    "print(round(lr_r2*100 , 2) , '%')"
   ]
  },
  {
   "cell_type": "code",
   "execution_count": 23,
   "metadata": {
    "execution": {
     "iopub.execute_input": "2021-03-05T09:21:29.979083Z",
     "iopub.status.busy": "2021-03-05T09:21:29.978431Z",
     "iopub.status.idle": "2021-03-05T09:21:30.114405Z",
     "shell.execute_reply": "2021-03-05T09:21:30.114850Z"
    },
    "papermill": {
     "duration": 0.176801,
     "end_time": "2021-03-05T09:21:30.115040",
     "exception": false,
     "start_time": "2021-03-05T09:21:29.938239",
     "status": "completed"
    },
    "tags": []
   },
   "outputs": [
    {
     "data": {
      "image/png": "[encoded data removed]",
      "text/plain": [
       "<Figure size 432x288 with 1 Axes>"
      ]
     },
     "metadata": {
      "needs_background": "light"
     },
     "output_type": "display_data"
    }
   ],
   "source": [
    "# ploting Actual vs Predicted values\n",
    "\n",
    "plt.scatter(x=X_test , y=y_test , color='b' )\n",
    "plt.scatter(x=X_test , y=ylr_pred , color='r' )\n",
    "\n",
    "plt.show()"
   ]
  },
  {
   "cell_type": "markdown",
   "metadata": {
    "papermill": {
     "duration": 0.021582,
     "end_time": "2021-03-05T09:21:30.158307",
     "exception": false,
     "start_time": "2021-03-05T09:21:30.136725",
     "status": "completed"
    },
    "tags": []
   },
   "source": [
    "# Plotting the Best-fit Line\n",
    "\n",
    "Formula for the Linear Regression in this case: \n",
    "\n",
    "           Salary = β0 + β1*(Experience)\n",
    "\n",
    "where,           \n",
    "β0 = intercept => Salary when experience is 0\n",
    "\n",
    "β1 = slope => increase in Salary with unit increase in Experience"
   ]
  },
  {
   "cell_type": "code",
   "execution_count": 24,
   "metadata": {
    "execution": {
     "iopub.execute_input": "2021-03-05T09:21:30.220547Z",
     "iopub.status.busy": "2021-03-05T09:21:30.214323Z",
     "iopub.status.idle": "2021-03-05T09:21:30.329433Z",
     "shell.execute_reply": "2021-03-05T09:21:30.328561Z"
    },
    "papermill": {
     "duration": 0.149794,
     "end_time": "2021-03-05T09:21:30.329573",
     "exception": false,
     "start_time": "2021-03-05T09:21:30.179779",
     "status": "completed"
    },
    "tags": []
   },
   "outputs": [
    {
     "data": {
      "image/png": "[encoded data removed]",
      "text/plain": [
       "<Figure size 432x288 with 1 Axes>"
      ]
     },
     "metadata": {
      "needs_background": "light"
     },
     "output_type": "display_data"
    }
   ],
   "source": [
    "plt.scatter(x=X_train , y=y_train , color='r')\n",
    "plt.plot(X_train,lr.predict(X_train))\n",
    "plt.xlabel('Experience')\n",
    "plt.ylabel('Salary')\n",
    "plt.show()\n"
   ]
  },
  {
   "cell_type": "code",
   "execution_count": 25,
   "metadata": {
    "execution": {
     "iopub.execute_input": "2021-03-05T09:21:30.379379Z",
     "iopub.status.busy": "2021-03-05T09:21:30.378792Z",
     "iopub.status.idle": "2021-03-05T09:21:30.381915Z",
     "shell.execute_reply": "2021-03-05T09:21:30.382556Z"
    },
    "papermill": {
     "duration": 0.031613,
     "end_time": "2021-03-05T09:21:30.382797",
     "exception": false,
     "start_time": "2021-03-05T09:21:30.351184",
     "status": "completed"
    },
    "tags": []
   },
   "outputs": [
    {
     "name": "stdout",
     "output_type": "stream",
     "text": [
      "[[139152.46180256]]\n",
      "[[167235.81097353]]\n",
      "[[214041.39292513]]\n",
      "[[260846.97487674]]\n"
     ]
    }
   ],
   "source": [
    "# Now to predict Salary at any given Experience\n",
    "\n",
    "print(lr.predict([[12]]))   \n",
    "print(lr.predict([[15]]))\n",
    "print(lr.predict([[20]]))\n",
    "print(lr.predict([[25]]))\n",
    "\n",
    "# Double bracket make Experience value in 2D array\n",
    "# other wise Expected 2D error will occur"
   ]
  },
  {
   "cell_type": "markdown",
   "metadata": {
    "papermill": {
     "duration": 0.021442,
     "end_time": "2021-03-05T09:21:30.426966",
     "exception": false,
     "start_time": "2021-03-05T09:21:30.405524",
     "status": "completed"
    },
    "tags": []
   },
   "source": [
    "## Intercept and coefficient of line   \n",
    "## Salary = β0 + β1*(Experience)"
   ]
  },
  {
   "cell_type": "code",
   "execution_count": 26,
   "metadata": {
    "execution": {
     "iopub.execute_input": "2021-03-05T09:21:30.474019Z",
     "iopub.status.busy": "2021-03-05T09:21:30.473380Z",
     "iopub.status.idle": "2021-03-05T09:21:30.479350Z",
     "shell.execute_reply": "2021-03-05T09:21:30.478865Z"
    },
    "papermill": {
     "duration": 0.03057,
     "end_time": "2021-03-05T09:21:30.479484",
     "exception": false,
     "start_time": "2021-03-05T09:21:30.448914",
     "status": "completed"
    },
    "tags": []
   },
   "outputs": [
    {
     "name": "stdout",
     "output_type": "stream",
     "text": [
      "Intercept of the model β0: [26819.0651187]\n",
      "Coefficient of the line β1 [[9361.11639032]]\n"
     ]
    }
   ],
   "source": [
    "# Intercept and coefficient\n",
    "\n",
    "print('Intercept of the model β0:' , lr.intercept_)\n",
    "print('Coefficient of the line β1' , lr.coef_)"
   ]
  },
  {
   "cell_type": "markdown",
   "metadata": {
    "papermill": {
     "duration": 0.021721,
     "end_time": "2021-03-05T09:21:30.523018",
     "exception": false,
     "start_time": "2021-03-05T09:21:30.501297",
     "status": "completed"
    },
    "tags": []
   },
   "source": [
    "# Final equation becomes\n",
    "\n",
    "##         Salary = 26819 + 9361*Experience\n",
    "         \n",
    "##          y = 26819 + 9361x"
   ]
  },
  {
   "cell_type": "markdown",
   "metadata": {
    "papermill": {
     "duration": 0.021505,
     "end_time": "2021-03-05T09:21:30.566545",
     "exception": false,
     "start_time": "2021-03-05T09:21:30.545040",
     "status": "completed"
    },
    "tags": []
   },
   "source": []
  }
 ],
 "metadata": {
  "kernelspec": {
   "display_name": "base",
   "language": "python",
   "name": "python3"
  },
  "language_info": {
   "codemirror_mode": {
    "name": "ipython",
    "version": 3
   },
   "file_extension": ".py",
   "mimetype": "text/x-python",
   "name": "python",
   "nbconvert_exporter": "python",
   "pygments_lexer": "ipython3",
   "version": "3.9.7"
  },
  "papermill": {
   "default_parameters": {},
   "duration": 8.847925,
   "end_time": "2021-03-05T09:21:31.196939",
   "environment_variables": {},
   "exception": null,
   "input_path": "__notebook__.ipynb",
   "output_path": "__notebook__.ipynb",
   "parameters": {},
   "start_time": "2021-03-05T09:21:22.349014",
   "version": "2.2.2"
  },
  "vscode": {
   "interpreter": {
    "hash": "554d16f91212807607faa9486685a081685b9fb72cde3f895ae52345cfd51af2"
   }
  }
 },
 "nbformat": 4,
 "nbformat_minor": 4
}
